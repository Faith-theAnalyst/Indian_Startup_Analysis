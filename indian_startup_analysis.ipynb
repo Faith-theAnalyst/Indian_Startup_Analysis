{
 "cells": [
  {
   "attachments": {},
   "cell_type": "markdown",
   "metadata": {},
   "source": [
    "# Exploratory Data Analysis of the Indian StartUp Funding Ecosystem "
   ]
  },
  {
   "attachments": {},
   "cell_type": "markdown",
   "metadata": {},
   "source": [
    "# Business Understanding"
   ]
  },
  {
   "attachments": {},
   "cell_type": "markdown",
   "metadata": {},
   "source": [
    "**Project Description:**\n",
    "\n",
    "Explore the Indian startup funding ecosystem through an in-depth analysis of funding data from 2019 to 2021. Gain insights into key trends, funding patterns, and factors driving startup success. Investigate the relationship between funding and startup growth, with a focus on temporal patterns and city-level dynamics. Identify preferred sectors for investment and uncover industry-specific funding trends. This exploratory data analysis provides a comprehensive overview of the Indian startup ecosystem, offering valuable insights for entrepreneurs, investors, and policymakers."
   ]
  },
  {
   "attachments": {},
   "cell_type": "markdown",
   "metadata": {},
   "source": [
    "## Data Understanding\n",
    "\n",
    "This project aims to explore and gain a deeper understanding of the Indian startup funding ecosystem. The dataset used for analysis contains information about startup funding from 2019 to 2021. The dataset includes various attributes such as the company's name, sector, funding amount, funding round, investor details, and location.\n",
    "\n",
    "To conduct a comprehensive analysis, we will examine the dataset to understand its structure, contents, and any potential data quality issues. By understanding the data, we can ensure the accuracy and reliability of our analysis.\n",
    "\n",
    "The key attributes in the dataset include:\n",
    "\n",
    "- **Company**: The name of the startup receiving funding.\n",
    "- **Sector**: The industry or sector to which the startup belongs.\n",
    "- **Amount**: The amount of funding received by the startup.\n",
    "- **Stage**: The round of funding (e.g., seed, series A, series B).\n",
    "- **Location**: The city or region where the startup is based.\n",
    "- **About**: What the company does.\n",
    "- **Funding Year**:When the company was funded\n",
    "\n",
    "By examining these attributes, we can uncover insights about the funding landscape, identify trends in funding amounts and rounds, explore the preferred sectors for investment, and analyze the role of cities in the startup ecosystem.\n",
    "\n",
    "Throughout the analysis, we will use visualizations and statistical techniques to present the findings effectively. By understanding the data and its characteristics, we can proceed with confidence in our analysis, derive meaningful insights, and make informed decisions based on the findings."
   ]
  },
  {
   "attachments": {},
   "cell_type": "markdown",
   "metadata": {},
   "source": [
    "# First Dataset"
   ]
  },
  {
   "attachments": {},
   "cell_type": "markdown",
   "metadata": {},
   "source": [
    "#### Install pyodbc and python-dotenv"
   ]
  },
  {
   "cell_type": "code",
   "execution_count": null,
   "metadata": {},
   "outputs": [],
   "source": [
    "%pip install pyodbc  \n",
    "%pip install python-dotenv\n",
    "\n",
    "# other modules that are necessary\n",
    "%pip install pandas\n",
    "%pip install seaborn\n",
    "%pip3 install matplotlib\n",
    "%pip install numpy\n",
    "%pip install scipy "
   ]
  },
  {
   "attachments": {},
   "cell_type": "markdown",
   "metadata": {},
   "source": [
    "#### Import all the necessary packages"
   ]
  },
  {
   "cell_type": "code",
   "execution_count": 1,
   "metadata": {},
   "outputs": [],
   "source": [
    "# Importing the Modules needed\n",
    "import pandas as pd \n",
    "import numpy as np\n",
    "import matplotlib.pyplot as plt \n",
    "import seaborn as sns\n",
    "\n",
    "import pyodbc #just installed with pip\n",
    "from dotenv import dotenv_values #import the dotenv_values function from the dotenv package\n",
    "import warnings \n",
    "warnings.filterwarnings('ignore')\n",
    "\n",
    "import re \n",
    "\n",
    "from scipy.stats import chi2_contingency\n",
    "from scipy.stats import ks_2samp"
   ]
  },
  {
   "cell_type": "code",
   "execution_count": 2,
   "metadata": {},
   "outputs": [],
   "source": [
    "# Load environment variables from .env file into a dictionary\n",
    "environment_variables = dotenv_values('.env')\n",
    "\n",
    "# Get the values for the credentials you set in the '.env' file\n",
    "database = environment_variables.get(\"DATABASE\")\n",
    "server = environment_variables.get(\"SERVER\")\n",
    "username = environment_variables.get(\"USERNAME\")\n",
    "password = environment_variables.get(\"PASSWORD\")\n",
    "\n",
    "connection_string = f\"DRIVER={{SQL Server}};SERVER={server};DATABASE={database};UID={username};PWD={password}\""
   ]
  },
  {
   "cell_type": "code",
   "execution_count": 3,
   "metadata": {},
   "outputs": [],
   "source": [
    "# Use the connect method of the pyodbc library and pass in the connection string.\n",
    "# This will connect to the server and might take a few seconds to be complete. \n",
    "# Check your internet connection if it takes more time than necessary\n",
    "\n",
    "connection = pyodbc.connect(connection_string)"
   ]
  },
  {
   "cell_type": "code",
   "execution_count": 4,
   "metadata": {},
   "outputs": [],
   "source": [
    "# Now the sql query to get the data is what what you see below. \n",
    "# Note that you will not have permissions to insert delete or update this database table. \n",
    "# Loads 2020 & 2021 datasets respectively\n",
    "query1 = \"SELECT * FROM dbo.LP1_startup_funding2020\"\n",
    "query2 = \"SELECT * FROM dbo.LP1_startup_funding2021\"\n",
    "df3 = pd.read_sql(query1, connection)\n",
    "df4 = pd.read_sql(query2, connection)"
   ]
  },
  {
   "attachments": {},
   "cell_type": "markdown",
   "metadata": {},
   "source": [
    "# Second Dataset"
   ]
  },
  {
   "cell_type": "code",
   "execution_count": 5,
   "metadata": {},
   "outputs": [],
   "source": [
    "df2 = pd.read_csv('startup_funding2019.csv') # read the data_2019 and convert it to pandas data frame"
   ]
  },
  {
   "attachments": {},
   "cell_type": "markdown",
   "metadata": {},
   "source": [
    "# Third Dataset"
   ]
  },
  {
   "cell_type": "code",
   "execution_count": 6,
   "metadata": {},
   "outputs": [],
   "source": [
    "df = pd.read_csv('startup_funding2018.csv') # read the data_2018 and convert it to pandas data frame "
   ]
  },
  {
   "attachments": {},
   "cell_type": "markdown",
   "metadata": {},
   "source": [
    "### Hypothesis:\n",
    "\n",
    "#### NULL Hypothesis (HO) :\n",
    "\n",
    "#### **The sector of a company does not have an impact on the amount of funding it receives.**\n",
    "\n",
    "\n",
    "#### ALTERNATE Hypothesis (HA):\n",
    "\n",
    "#### **The sector of a company does have an impact on the amount of funding it receives.**"
   ]
  },
  {
   "attachments": {},
   "cell_type": "markdown",
   "metadata": {},
   "source": [
    "##  Research / Analysis Questions:\n",
    "\n",
    "1. What are the most common industries represented in the datasets?\n",
    "\n",
    "2. How does the funding amount vary across different rounds/series in the datasets?\n",
    "   \n",
    "3. Which locations have the highest number of companies in the datasets?\n",
    "   \n",
    "4. What kind of investment type should startups look for depending on their industry type? (EDA: Analysis of funding preferences by industry)\n",
    "\n",
    "5. Are there any correlations between the funding amount and the company's sector or location?\n",
    "   \n",
    "6. What are the top investors in the datasets based on the number of investments made?\n",
    "   \n",
    "7. Which industries are favored by investors based on the number of funding rounds? (EDA: Top 10 industries which are favored by investors)\n",
    "\n",
    "8. Are there any outliers in the funding amounts in the datasets?\n",
    "   \n",
    "9.  Is there a relationship between the company's sector and the presence of certain investors?\n",
    "    \n",
    "10. What is the range of funds generally received by startups in India (Max, min, avg, and count of funding)? (EDA: Descriptive statistics of funding amounts)"
   ]
  },
  {
   "attachments": {},
   "cell_type": "markdown",
   "metadata": {},
   "source": [
    "## Data Preparation\n",
    "\n",
    "Before diving into the analysis, we will preprocess and clean the data to ensure its quality and suitability for analysis. This may involve handling missing values, correcting data types, and addressing any inconsistencies or outliers that could affect the accuracy of our results.\n",
    "\n",
    "Once the data is prepared, we will be ready to perform an in-depth exploratory analysis of the Indian startup funding ecosystem. The analysis will involve answering specific research questions, identifying patterns and trends, and generating meaningful visualizations to present the findings.\n",
    "\n",
    "Through this process of data understanding and preparation, we will set a solid foundation for conducting a robust and insightful analysis of the Indian startup funding data.\n",
    "\n",
    "**The data for each year is sourced from separate two csv files and two from a remote server. They will be merged later to one dataset**"
   ]
  },
  {
   "attachments": {},
   "cell_type": "markdown",
   "metadata": {},
   "source": [
    "# Load & Clean Datasets"
   ]
  },
  {
   "attachments": {},
   "cell_type": "markdown",
   "metadata": {},
   "source": [
    "# 2018 Data"
   ]
  },
  {
   "cell_type": "code",
   "execution_count": 7,
   "metadata": {},
   "outputs": [
    {
     "data": {
      "text/html": [
       "<div>\n",
       "<style scoped>\n",
       "    .dataframe tbody tr th:only-of-type {\n",
       "        vertical-align: middle;\n",
       "    }\n",
       "\n",
       "    .dataframe tbody tr th {\n",
       "        vertical-align: top;\n",
       "    }\n",
       "\n",
       "    .dataframe thead th {\n",
       "        text-align: right;\n",
       "    }\n",
       "</style>\n",
       "<table border=\"1\" class=\"dataframe\">\n",
       "  <thead>\n",
       "    <tr style=\"text-align: right;\">\n",
       "      <th></th>\n",
       "      <th>Company Name</th>\n",
       "      <th>Industry</th>\n",
       "      <th>Round/Series</th>\n",
       "      <th>Amount</th>\n",
       "      <th>Location</th>\n",
       "      <th>About Company</th>\n",
       "    </tr>\n",
       "  </thead>\n",
       "  <tbody>\n",
       "    <tr>\n",
       "      <th>0</th>\n",
       "      <td>TheCollegeFever</td>\n",
       "      <td>Brand Marketing, Event Promotion, Marketing, S...</td>\n",
       "      <td>Seed</td>\n",
       "      <td>250000</td>\n",
       "      <td>Bangalore, Karnataka, India</td>\n",
       "      <td>TheCollegeFever is a hub for fun, fiesta and f...</td>\n",
       "    </tr>\n",
       "    <tr>\n",
       "      <th>1</th>\n",
       "      <td>Happy Cow Dairy</td>\n",
       "      <td>Agriculture, Farming</td>\n",
       "      <td>Seed</td>\n",
       "      <td>₹40,000,000</td>\n",
       "      <td>Mumbai, Maharashtra, India</td>\n",
       "      <td>A startup which aggregates milk from dairy far...</td>\n",
       "    </tr>\n",
       "    <tr>\n",
       "      <th>2</th>\n",
       "      <td>MyLoanCare</td>\n",
       "      <td>Credit, Financial Services, Lending, Marketplace</td>\n",
       "      <td>Series A</td>\n",
       "      <td>₹65,000,000</td>\n",
       "      <td>Gurgaon, Haryana, India</td>\n",
       "      <td>Leading Online Loans Marketplace in India</td>\n",
       "    </tr>\n",
       "    <tr>\n",
       "      <th>3</th>\n",
       "      <td>PayMe India</td>\n",
       "      <td>Financial Services, FinTech</td>\n",
       "      <td>Angel</td>\n",
       "      <td>2000000</td>\n",
       "      <td>Noida, Uttar Pradesh, India</td>\n",
       "      <td>PayMe India is an innovative FinTech organizat...</td>\n",
       "    </tr>\n",
       "    <tr>\n",
       "      <th>4</th>\n",
       "      <td>Eunimart</td>\n",
       "      <td>E-Commerce Platforms, Retail, SaaS</td>\n",
       "      <td>Seed</td>\n",
       "      <td>—</td>\n",
       "      <td>Hyderabad, Andhra Pradesh, India</td>\n",
       "      <td>Eunimart is a one stop solution for merchants ...</td>\n",
       "    </tr>\n",
       "  </tbody>\n",
       "</table>\n",
       "</div>"
      ],
      "text/plain": [
       "      Company Name                                           Industry   \n",
       "0  TheCollegeFever  Brand Marketing, Event Promotion, Marketing, S...  \\\n",
       "1  Happy Cow Dairy                               Agriculture, Farming   \n",
       "2       MyLoanCare   Credit, Financial Services, Lending, Marketplace   \n",
       "3      PayMe India                        Financial Services, FinTech   \n",
       "4         Eunimart                 E-Commerce Platforms, Retail, SaaS   \n",
       "\n",
       "  Round/Series       Amount                          Location   \n",
       "0         Seed       250000       Bangalore, Karnataka, India  \\\n",
       "1         Seed  ₹40,000,000        Mumbai, Maharashtra, India   \n",
       "2     Series A  ₹65,000,000           Gurgaon, Haryana, India   \n",
       "3        Angel      2000000       Noida, Uttar Pradesh, India   \n",
       "4         Seed            —  Hyderabad, Andhra Pradesh, India   \n",
       "\n",
       "                                       About Company  \n",
       "0  TheCollegeFever is a hub for fun, fiesta and f...  \n",
       "1  A startup which aggregates milk from dairy far...  \n",
       "2          Leading Online Loans Marketplace in India  \n",
       "3  PayMe India is an innovative FinTech organizat...  \n",
       "4  Eunimart is a one stop solution for merchants ...  "
      ]
     },
     "execution_count": 7,
     "metadata": {},
     "output_type": "execute_result"
    }
   ],
   "source": [
    "df.head()"
   ]
  },
  {
   "cell_type": "code",
   "execution_count": 8,
   "metadata": {},
   "outputs": [
    {
     "data": {
      "text/plain": [
       "(526, 6)"
      ]
     },
     "execution_count": 8,
     "metadata": {},
     "output_type": "execute_result"
    }
   ],
   "source": [
    "df.shape"
   ]
  },
  {
   "cell_type": "code",
   "execution_count": 9,
   "metadata": {},
   "outputs": [
    {
     "data": {
      "text/plain": [
       "Index(['Company Name', 'Industry', 'Round/Series', 'Amount', 'Location',\n",
       "       'About Company'],\n",
       "      dtype='object')"
      ]
     },
     "execution_count": 9,
     "metadata": {},
     "output_type": "execute_result"
    }
   ],
   "source": [
    "df.columns"
   ]
  },
  {
   "cell_type": "code",
   "execution_count": 10,
   "metadata": {},
   "outputs": [
    {
     "name": "stdout",
     "output_type": "stream",
     "text": [
      "<class 'pandas.core.frame.DataFrame'>\n",
      "RangeIndex: 526 entries, 0 to 525\n",
      "Data columns (total 6 columns):\n",
      " #   Column         Non-Null Count  Dtype \n",
      "---  ------         --------------  ----- \n",
      " 0   Company Name   526 non-null    object\n",
      " 1   Industry       526 non-null    object\n",
      " 2   Round/Series   526 non-null    object\n",
      " 3   Amount         526 non-null    object\n",
      " 4   Location       526 non-null    object\n",
      " 5   About Company  526 non-null    object\n",
      "dtypes: object(6)\n",
      "memory usage: 24.8+ KB\n"
     ]
    }
   ],
   "source": [
    "df.info()"
   ]
  },
  {
   "cell_type": "code",
   "execution_count": 11,
   "metadata": {},
   "outputs": [
    {
     "data": {
      "text/html": [
       "<div>\n",
       "<style scoped>\n",
       "    .dataframe tbody tr th:only-of-type {\n",
       "        vertical-align: middle;\n",
       "    }\n",
       "\n",
       "    .dataframe tbody tr th {\n",
       "        vertical-align: top;\n",
       "    }\n",
       "\n",
       "    .dataframe thead th {\n",
       "        text-align: right;\n",
       "    }\n",
       "</style>\n",
       "<table border=\"1\" class=\"dataframe\">\n",
       "  <thead>\n",
       "    <tr style=\"text-align: right;\">\n",
       "      <th></th>\n",
       "      <th>count</th>\n",
       "      <th>unique</th>\n",
       "      <th>top</th>\n",
       "      <th>freq</th>\n",
       "    </tr>\n",
       "  </thead>\n",
       "  <tbody>\n",
       "    <tr>\n",
       "      <th>Company Name</th>\n",
       "      <td>526</td>\n",
       "      <td>525</td>\n",
       "      <td>TheCollegeFever</td>\n",
       "      <td>2</td>\n",
       "    </tr>\n",
       "    <tr>\n",
       "      <th>Industry</th>\n",
       "      <td>526</td>\n",
       "      <td>405</td>\n",
       "      <td>—</td>\n",
       "      <td>30</td>\n",
       "    </tr>\n",
       "    <tr>\n",
       "      <th>Round/Series</th>\n",
       "      <td>526</td>\n",
       "      <td>21</td>\n",
       "      <td>Seed</td>\n",
       "      <td>280</td>\n",
       "    </tr>\n",
       "    <tr>\n",
       "      <th>Amount</th>\n",
       "      <td>526</td>\n",
       "      <td>198</td>\n",
       "      <td>—</td>\n",
       "      <td>148</td>\n",
       "    </tr>\n",
       "    <tr>\n",
       "      <th>Location</th>\n",
       "      <td>526</td>\n",
       "      <td>50</td>\n",
       "      <td>Bangalore, Karnataka, India</td>\n",
       "      <td>102</td>\n",
       "    </tr>\n",
       "    <tr>\n",
       "      <th>About Company</th>\n",
       "      <td>526</td>\n",
       "      <td>524</td>\n",
       "      <td>TheCollegeFever is a hub for fun, fiesta and f...</td>\n",
       "      <td>2</td>\n",
       "    </tr>\n",
       "  </tbody>\n",
       "</table>\n",
       "</div>"
      ],
      "text/plain": [
       "              count unique                                                top   \n",
       "Company Name    526    525                                    TheCollegeFever  \\\n",
       "Industry        526    405                                                  —   \n",
       "Round/Series    526     21                                               Seed   \n",
       "Amount          526    198                                                  —   \n",
       "Location        526     50                        Bangalore, Karnataka, India   \n",
       "About Company   526    524  TheCollegeFever is a hub for fun, fiesta and f...   \n",
       "\n",
       "              freq  \n",
       "Company Name     2  \n",
       "Industry        30  \n",
       "Round/Series   280  \n",
       "Amount         148  \n",
       "Location       102  \n",
       "About Company    2  "
      ]
     },
     "execution_count": 11,
     "metadata": {},
     "output_type": "execute_result"
    }
   ],
   "source": [
    "df.describe(include='object').T"
   ]
  },
  {
   "attachments": {},
   "cell_type": "markdown",
   "metadata": {},
   "source": [
    "## Handling Duplicated Data"
   ]
  },
  {
   "cell_type": "code",
   "execution_count": 12,
   "metadata": {},
   "outputs": [
    {
     "name": "stdout",
     "output_type": "stream",
     "text": [
      "Company Name: True\n",
      "Industry: True\n",
      "Round/Series: True\n",
      "Amount: True\n",
      "Location: True\n",
      "About Company: True\n"
     ]
    }
   ],
   "source": [
    "# below we are checking duplicates values withinn the columns \n",
    "\n",
    "columns_to_check = ['Company Name', 'Industry', 'Round/Series', 'Amount', 'Location', 'About Company']\n",
    "\n",
    "for column in columns_to_check:\n",
    "    has_duplicates = df[column].duplicated().any()\n",
    "    print(f'{column}: {has_duplicates}')"
   ]
  },
  {
   "cell_type": "code",
   "execution_count": 13,
   "metadata": {},
   "outputs": [],
   "source": [
    "df.drop_duplicates(subset=['Company Name', 'Industry', 'Round/Series', 'Amount', 'Location', 'About Company'], inplace=True)"
   ]
  },
  {
   "attachments": {},
   "cell_type": "markdown",
   "metadata": {},
   "source": [
    "Standardizing Data Formats\n",
    "\n",
    "now let's see how we can standardize tha data set to make sure we have the same format of data points "
   ]
  },
  {
   "attachments": {},
   "cell_type": "markdown",
   "metadata": {},
   "source": [
    "first let's check for dash symbols within the columns using a simple python function "
   ]
  },
  {
   "cell_type": "code",
   "execution_count": 14,
   "metadata": {},
   "outputs": [
    {
     "name": "stdout",
     "output_type": "stream",
     "text": [
      "Amount: True\n",
      "Company Name: False\n",
      "Location: False\n",
      "About Company: False\n",
      "Industry: True\n",
      "Round/Series: False\n"
     ]
    }
   ],
   "source": [
    "# below we are checking for '-' symbols within the columns\n",
    "\n",
    "columns_to_check = ['Amount', 'Company Name', 'Location', 'About Company', 'Industry', 'Round/Series']\n",
    "\n",
    "for column in columns_to_check:\n",
    "    has_dash_symbols = df[column].str.contains('—').any()\n",
    "    print(f\"{column}: {has_dash_symbols}\")"
   ]
  },
  {
   "attachments": {},
   "cell_type": "markdown",
   "metadata": {},
   "source": [
    "### Amount Column"
   ]
  },
  {
   "cell_type": "code",
   "execution_count": 15,
   "metadata": {},
   "outputs": [
    {
     "data": {
      "text/plain": [
       "0         250000\n",
       "1    ₹40,000,000\n",
       "2    ₹65,000,000\n",
       "3        2000000\n",
       "4              —\n",
       "Name: Amount, dtype: object"
      ]
     },
     "execution_count": 15,
     "metadata": {},
     "output_type": "execute_result"
    }
   ],
   "source": [
    "df['Amount'].head() # first let's look at the Amount the column"
   ]
  },
  {
   "attachments": {},
   "cell_type": "markdown",
   "metadata": {},
   "source": [
    "## Assumptions Made for Amount Column\n",
    "- Amounts without currency symbols in the 2018 dataset are in USD.\n",
    "- The average Indian Rupee (INR) to US Dollar (USD) rate for the relevant year will be used for currency conversions.\n",
    "- Use exchange rate from https://www.exchangerates.org.uk/INR-USD-spot-exchange-rates-history-2018.html, use the average exchange rate of 0.0146"
   ]
  },
  {
   "cell_type": "code",
   "execution_count": 16,
   "metadata": {},
   "outputs": [],
   "source": [
    "# Set the desired exchange rate\n",
    "exchange_rate = 0.0146\n",
    "\n",
    "# Cleaning the Amounts column\n",
    "df['Amount'] = df['Amount'].apply(str)\n",
    "df['Amount'].replace([',', '—', '$'], ['', 0, ''], inplace=True, regex=True)\n",
    "\n",
    "# Extract the Indian currency amount\n",
    "df['Indiancurr'] = df['Amount'].str.rsplit('₹', n=2).str[1]\n",
    "df['Indiancurr'] = df['Indiancurr'].apply(float).fillna(0)\n",
    "\n",
    "# Convert Indian currency to USD using the specified exchange rate\n",
    "df['UsCurr'] = df['Indiancurr'] * exchange_rate\n",
    "\n",
    "# Replace 0 values with NaN\n",
    "df['UsCurr'] = df['UsCurr'].replace(0, np.nan)\n",
    "\n",
    "# Fill NaN values in 'UsCurr' with original 'Amount' values\n",
    "df['UsCurr'] = df['UsCurr'].fillna(df['Amount'])\n",
    "\n",
    "# Remove '$' symbol from 'UsCurr' column\n",
    "df['UsCurr'] = df['UsCurr'].replace(\"$\", \"\", regex=True)\n",
    "\n",
    "# Update 'Amount' column with converted USD values\n",
    "df['Amount'] = df['UsCurr'].apply(lambda x: float(str(x).replace(\"$\",\"\")))\n",
    "\n",
    "# Replace 0 values with NaN in 'Amount' column\n",
    "df['Amount'] = df['Amount'].replace(0, np.nan)\n",
    "\n",
    "# Format the 'Amount' column\n",
    "format_amount = lambda amount: \"{:,.2f}\".format(amount)\n",
    "df['Amount'] = df['Amount'].map(format_amount)"
   ]
  },
  {
   "cell_type": "code",
   "execution_count": 17,
   "metadata": {},
   "outputs": [
    {
     "data": {
      "text/plain": [
       "numpy.float64"
      ]
     },
     "execution_count": 17,
     "metadata": {},
     "output_type": "execute_result"
    }
   ],
   "source": [
    "df['Amount'] = df['Amount'].str.replace(',', '').astype(float) # since the Amount column is holding and amount, we have to comvert it to float\n",
    "type(df['Amount'][0])"
   ]
  },
  {
   "cell_type": "code",
   "execution_count": 18,
   "metadata": {},
   "outputs": [],
   "source": [
    "df.drop(columns=['Indiancurr','UsCurr'], inplace=True) # dropping some colunmns we need no more "
   ]
  },
  {
   "cell_type": "code",
   "execution_count": 19,
   "metadata": {},
   "outputs": [
    {
     "data": {
      "text/plain": [
       "0     250000.0\n",
       "1     584000.0\n",
       "2     949000.0\n",
       "3    2000000.0\n",
       "4          NaN\n",
       "Name: Amount, dtype: float64"
      ]
     },
     "execution_count": 19,
     "metadata": {},
     "output_type": "execute_result"
    }
   ],
   "source": [
    "df['Amount'].head()"
   ]
  },
  {
   "attachments": {},
   "cell_type": "markdown",
   "metadata": {},
   "source": [
    "#### Handling Categorical Data\n",
    "NOW LET'S \n",
    "\n",
    "handle the categorical data in the 'Industry', 'Round/Series', and 'Location' columns\n",
    "\n",
    "Analyzing unique values\n",
    "Start by examining the unique values in each column to identify any inconsistencies or variations we do this \n",
    "Using the unique() function to get the unique values in each column."
   ]
  },
  {
   "attachments": {},
   "cell_type": "markdown",
   "metadata": {},
   "source": [
    "### Location Column\n",
    "\n",
    "#### The Location column contains combined information (e.g., city, state, country)"
   ]
  },
  {
   "cell_type": "code",
   "execution_count": 20,
   "metadata": {},
   "outputs": [
    {
     "data": {
      "text/plain": [
       "array(['Bangalore, Karnataka, India', 'Mumbai, Maharashtra, India',\n",
       "       'Gurgaon, Haryana, India', 'Noida, Uttar Pradesh, India',\n",
       "       'Hyderabad, Andhra Pradesh, India', 'Bengaluru, Karnataka, India',\n",
       "       'Kalkaji, Delhi, India', 'Delhi, Delhi, India', 'India, Asia',\n",
       "       'Hubli, Karnataka, India', 'New Delhi, Delhi, India',\n",
       "       'Chennai, Tamil Nadu, India', 'Mohali, Punjab, India',\n",
       "       'Kolkata, West Bengal, India', 'Pune, Maharashtra, India',\n",
       "       'Jodhpur, Rajasthan, India', 'Kanpur, Uttar Pradesh, India',\n",
       "       'Ahmedabad, Gujarat, India', 'Azadpur, Delhi, India',\n",
       "       'Haryana, Haryana, India', 'Cochin, Kerala, India',\n",
       "       'Faridabad, Haryana, India', 'Jaipur, Rajasthan, India',\n",
       "       'Kota, Rajasthan, India', 'Anand, Gujarat, India',\n",
       "       'Bangalore City, Karnataka, India', 'Belgaum, Karnataka, India',\n",
       "       'Thane, Maharashtra, India', 'Margão, Goa, India',\n",
       "       'Indore, Madhya Pradesh, India', 'Alwar, Rajasthan, India',\n",
       "       'Kannur, Kerala, India', 'Trivandrum, Kerala, India',\n",
       "       'Ernakulam, Kerala, India', 'Kormangala, Karnataka, India',\n",
       "       'Uttar Pradesh, India, Asia', 'Andheri, Maharashtra, India',\n",
       "       'Mylapore, Tamil Nadu, India', 'Ghaziabad, Uttar Pradesh, India',\n",
       "       'Kochi, Kerala, India', 'Powai, Assam, India',\n",
       "       'Guntur, Andhra Pradesh, India', 'Kalpakkam, Tamil Nadu, India',\n",
       "       'Bhopal, Madhya Pradesh, India', 'Coimbatore, Tamil Nadu, India',\n",
       "       'Worli, Maharashtra, India', 'Alleppey, Kerala, India',\n",
       "       'Chandigarh, Chandigarh, India', 'Guindy, Tamil Nadu, India',\n",
       "       'Lucknow, Uttar Pradesh, India'], dtype=object)"
      ]
     },
     "execution_count": 20,
     "metadata": {},
     "output_type": "execute_result"
    }
   ],
   "source": [
    "df['Location'].unique() # checking each unique values "
   ]
  },
  {
   "cell_type": "code",
   "execution_count": 21,
   "metadata": {},
   "outputs": [],
   "source": [
    "# The 'Location' column is in the format, 'City, Region, Country',\n",
    "# Only 'City' aspect is needed for this analysis\n",
    "# Take all character until we reach the first comma sign\n",
    "\n",
    "df['Location'] = df['Location'].apply(str)\n",
    "df['Location'] = df['Location'].str.split(',').str[0]\n",
    "df['Location'] = df['Location'].replace(\"'\",\"\",regex=True)"
   ]
  },
  {
   "cell_type": "code",
   "execution_count": 22,
   "metadata": {},
   "outputs": [],
   "source": [
    "# From observation, some city names that refer to the same place are appearing different.\n",
    "# The incorrect names need to be rectified for correct analysis, eg A city with more than one name.\n",
    "df[\"Location\"] = df[\"Location\"].replace (['Bangalore','Bangalore City'], 'Bengaluru')\n",
    "df.loc[~df['Location'].str.contains('New Delhi', na=False), 'Location'] = df['Location'].str.replace('Delhi', 'New Delhi')\n",
    "df['Location'] = df['Location'].replace (['Gurgaon'], 'Gurugram')"
   ]
  },
  {
   "cell_type": "code",
   "execution_count": 23,
   "metadata": {},
   "outputs": [
    {
     "data": {
      "text/plain": [
       "array(['Bengaluru', 'Mumbai', 'Gurugram', 'Noida', 'Hyderabad', 'Kalkaji',\n",
       "       'New Delhi', 'India', 'Hubli', 'Chennai', 'Mohali', 'Kolkata',\n",
       "       'Pune', 'Jodhpur', 'Kanpur', 'Ahmedabad', 'Azadpur', 'Haryana',\n",
       "       'Cochin', 'Faridabad', 'Jaipur', 'Kota', 'Anand', 'Belgaum',\n",
       "       'Thane', 'Margão', 'Indore', 'Alwar', 'Kannur', 'Trivandrum',\n",
       "       'Ernakulam', 'Kormangala', 'Uttar Pradesh', 'Andheri', 'Mylapore',\n",
       "       'Ghaziabad', 'Kochi', 'Powai', 'Guntur', 'Kalpakkam', 'Bhopal',\n",
       "       'Coimbatore', 'Worli', 'Alleppey', 'Chandigarh', 'Guindy',\n",
       "       'Lucknow'], dtype=object)"
      ]
     },
     "execution_count": 23,
     "metadata": {},
     "output_type": "execute_result"
    }
   ],
   "source": [
    "df['Location'].unique() # checking the unique values once more"
   ]
  },
  {
   "cell_type": "code",
   "execution_count": 24,
   "metadata": {},
   "outputs": [
    {
     "data": {
      "text/plain": [
       "0"
      ]
     },
     "execution_count": 24,
     "metadata": {},
     "output_type": "execute_result"
    }
   ],
   "source": [
    "df['Location'].isnull().sum() # checking for null values in the loaction column"
   ]
  },
  {
   "attachments": {},
   "cell_type": "markdown",
   "metadata": {},
   "source": [
    "### Industry Column"
   ]
  },
  {
   "cell_type": "code",
   "execution_count": 25,
   "metadata": {},
   "outputs": [
    {
     "data": {
      "text/plain": [
       "0      Brand Marketing, Event Promotion, Marketing, S...\n",
       "1                                   Agriculture, Farming\n",
       "2       Credit, Financial Services, Lending, Marketplace\n",
       "3                            Financial Services, FinTech\n",
       "4                     E-Commerce Platforms, Retail, SaaS\n",
       "                             ...                        \n",
       "521     B2B, Business Development, Internet, Marketplace\n",
       "522                                      Tourism, Travel\n",
       "523           Food and Beverage, Food Delivery, Internet\n",
       "524                               Information Technology\n",
       "525           Biotechnology, Health Care, Pharmaceutical\n",
       "Name: Industry, Length: 525, dtype: object"
      ]
     },
     "execution_count": 25,
     "metadata": {},
     "output_type": "execute_result"
    }
   ],
   "source": [
    "df['Industry'] # taking a look at the Industry column first to have some insight into the column "
   ]
  },
  {
   "cell_type": "code",
   "execution_count": 26,
   "metadata": {},
   "outputs": [
    {
     "data": {
      "text/plain": [
       "array(['Brand Marketing, Event Promotion, Marketing, Sponsorship, Ticketing',\n",
       "       'Agriculture, Farming',\n",
       "       'Credit, Financial Services, Lending, Marketplace',\n",
       "       'Financial Services, FinTech',\n",
       "       'E-Commerce Platforms, Retail, SaaS',\n",
       "       'Cloud Infrastructure, PaaS, SaaS',\n",
       "       'Internet, Leisure, Marketplace', 'Market Research',\n",
       "       'Information Services, Information Technology', 'Mobile Payments',\n",
       "       'B2B, Shoes', 'Internet',\n",
       "       'Apps, Collaboration, Developer Platform, Enterprise Software, Messaging, Productivity Tools, Video Chat',\n",
       "       'Food Delivery', 'Industrial Automation',\n",
       "       'Automotive, Search Engine, Service Industry',\n",
       "       'Finance, Internet, Travel',\n",
       "       'Accounting, Business Information Systems, Business Travel, Finance, SaaS',\n",
       "       'Artificial Intelligence, Product Search, SaaS, Service Industry, Software',\n",
       "       'Internet of Things, Waste Management',\n",
       "       'Air Transportation, Freight Service, Logistics, Marine Transportation',\n",
       "       'Financial Services', 'Food and Beverage', 'Autonomous Vehicles',\n",
       "       'Enterprise Software, Health Care, Hospital, Parenting, Personal Health, SaaS',\n",
       "       'Agriculture, Analytics, Big Data, Farming',\n",
       "       'Logistics, Supply Chain Management',\n",
       "       'Financial Services, Lending',\n",
       "       'Automotive, Marketplace, Online Portals',\n",
       "       'Artificial Intelligence',\n",
       "       'Internet of Things, Telecommunications', 'Insurance',\n",
       "       'Information Technology, Logistics, Supply Chain Management',\n",
       "       'Blockchain, Developer Tools, Enterprise Software',\n",
       "       'Industrial Automation, Logistics, Supply Chain Management',\n",
       "       'Food and Beverage, Food Delivery, Snack Food', 'Education',\n",
       "       'E-Commerce, Fashion, Jewelry, Retail', 'Renewable Energy',\n",
       "       'E-Learning, Education',\n",
       "       'Clean Energy, CleanTech, Laundry and Dry-cleaning',\n",
       "       'E-Commerce, Fashion, Mobile',\n",
       "       'Apps, Messaging, Navigation, Public Safety', 'Transportation',\n",
       "       'Fitness, Health Care, Wellness',\n",
       "       'Artificial Intelligence, Machine Learning, SaaS, Virtual Assistant',\n",
       "       'Hospitality', 'Food and Beverage, Tea',\n",
       "       'Media and Entertainment, News, Outdoors',\n",
       "       'Broadcasting, Media and Entertainment, Music, Music Streaming, Video, Video Streaming',\n",
       "       'B2B, Information Services, Information Technology',\n",
       "       'EdTech, Education, Enterprise Software, Peer to Peer',\n",
       "       'Health Care, Medical', 'E-Commerce',\n",
       "       'Health Care, Hospital, Wellness', '—', 'Sports',\n",
       "       'Big Data, Consumer Lending, FinTech',\n",
       "       'Cloud Computing, Computer, Semiconductor',\n",
       "       'Health Care, Medical, Pharmaceutical', 'Food Processing, Retail',\n",
       "       'Trading Platform', \"Consumer Goods, Lifestyle, Men's\", 'Wellness',\n",
       "       'Food and Beverage, Food Processing, Nutrition', 'Fashion',\n",
       "       'Automotive, Electric Vehicle, Energy Storage',\n",
       "       'Consulting, Retail, Social',\n",
       "       'Biotechnology, Life Science, Pharmaceutical, Product Research',\n",
       "       'Health Care',\n",
       "       'Credit, Financial Services, FinTech, Personal Finance',\n",
       "       'Communities, Coworking, Incubators',\n",
       "       'Consumer, Financial Services, FinTech',\n",
       "       'Consumer Applications, Information Services, Location Based Services, Virtual Assistant',\n",
       "       'Mobile, Mobile Apps, Personalization, Test and Measurement, Web Apps',\n",
       "       'Education, Financial Services, FinTech',\n",
       "       'Advertising, Consulting, Digital Marketing',\n",
       "       'Marketplace, Real Estate, Rental Property',\n",
       "       'E-Learning, Internet, Video Games',\n",
       "       'Artificial Intelligence, Cloud Computing, Video',\n",
       "       'Health Care, Information Technology', 'Aerospace',\n",
       "       'E-Commerce, Fashion, Lifestyle',\n",
       "       'Artificial Intelligence, Business Intelligence, Industrial Automation, Machine Learning',\n",
       "       'Home Decor, Home Improvement, Home Renovation, Home Services, Interior Design, Smart Home',\n",
       "       'EdTech, Education, Information Services, SaaS', 'Energy, Solar',\n",
       "       'B2B, Biometrics, Cyber Security, Fraud Detection, SaaS, Security',\n",
       "       'Artificial Intelligence, Social',\n",
       "       'Logistics, Transportation, Travel',\n",
       "       'Digital Marketing, SEM, SEO, Web Development',\n",
       "       'Health Care, Hospital, Medical', 'Finance, Financial Services',\n",
       "       'Food Delivery, Food Processing, Internet',\n",
       "       'E-Commerce, Food and Beverage, Internet',\n",
       "       'Fitness, Food and Beverage, Health Care, Nutrition',\n",
       "       'EdTech, Education, Knowledge Management',\n",
       "       'Apps, Beauty, Consumer, Retail',\n",
       "       'Creative Agency, Crowdfunding, EdTech, Health Care, Internet, Medical, Non Profit, Personal Health',\n",
       "       'Consumer Lending, Financial Services, FinTech, Insurance, Lending, Mobile Payments, Payments, Wealth Management',\n",
       "       'E-Learning, Education, Higher Education', 'Health Diagnostics',\n",
       "       'EdTech, Education', 'Financial Services, SaaS, Security',\n",
       "       'Banking, Finance, Financial Services, Non Profit',\n",
       "       'B2B, E-Commerce, Mobile',\n",
       "       'Automotive, Electric Vehicle, Renewable Energy', 'E-Learning',\n",
       "       'Embedded Systems, Health Care, Medical, Product Research',\n",
       "       'Apps, E-Commerce, Internet',\n",
       "       'Advertising, Human Resources, Marketing',\n",
       "       'Beauty, Fitness, Home Services, Internet',\n",
       "       'Health Care, Medical Device, Public Safety',\n",
       "       'Food Delivery, Online Portals, Restaurants',\n",
       "       'AgTech, B2B, Supply Chain Management',\n",
       "       'Credit Cards, Finance, Mobile Apps, Mobile Payments, Payments',\n",
       "       'Software',\n",
       "       'EdTech, Education, Higher Education, Secondary Education',\n",
       "       'Manufacturing, Retail', 'Manufacturing',\n",
       "       'Information Services, Information Technology, InsurTech',\n",
       "       'Consumer Lending, FinTech', 'Internet, Social Network, TV',\n",
       "       'Beauty, Health Care', 'Hospital', 'Events',\n",
       "       '3D Printing, Manufacturing, Product Design', 'Automotive',\n",
       "       'Automotive, Retail', 'Apps, Audio', 'Automotive, E-Commerce',\n",
       "       'Digital Entertainment, Fantasy Sports, Sports',\n",
       "       'E-Learning, EdTech, Education',\n",
       "       'Funding Platform, Incubators, Non Profit',\n",
       "       'Hospitality, Hotel, Leisure, Travel',\n",
       "       'Classifieds, Internet, Marketplace, Rental Property',\n",
       "       'Banking, E-Learning, Trading Platform',\n",
       "       'E-Commerce, Mobile, Retail',\n",
       "       'Artificial Intelligence, Information Technology',\n",
       "       'Enterprise Resource Planning (ERP), Information Services, Information Technology, Real Estate',\n",
       "       'Banking, Finance, Financial Services',\n",
       "       'Audio, Mobile, Tourism, Travel',\n",
       "       'Energy, Energy Storage, Infrastructure',\n",
       "       'Government, Information Technology, Software',\n",
       "       'Information Technology',\n",
       "       'Education, Information Technology, Internet, Mobile, Software',\n",
       "       'Consumer Lending, Financial Services, Lending, Personal Finance',\n",
       "       'Digital Media, Internet, Media and Entertainment, Online Portals, Social Media',\n",
       "       'Business Intelligence, Customer Service, Market Research, SaaS',\n",
       "       'Credit, Financial Services, FinTech, Lending',\n",
       "       'Children, Education, Parenting',\n",
       "       'Automotive, Battery, Energy, Energy Storage',\n",
       "       'E-Commerce, Mobile, Sharing Economy',\n",
       "       'Food Delivery, Organic, Organic Food', 'Mobile', 'Rental',\n",
       "       'Travel', 'Consumer', 'B2B, Farming, Marketplace',\n",
       "       'Wealth Management', 'Biotechnology',\n",
       "       'Education, Gaming, Training', 'Veterinary',\n",
       "       'Internet, Mobile, Social Entrepreneurship, Telecommunications, Wireless',\n",
       "       'Health Care, Hospital, Supply Chain Management',\n",
       "       'Tourism, Travel', 'Hospitality, Real Estate', 'Finance',\n",
       "       'Digital Media, EBooks, Publishing, Reading Apps',\n",
       "       'Consumer Electronics, Embedded Systems, Hardware, Smart Building, Software',\n",
       "       'Food and Beverage, Food Processing',\n",
       "       'Internet, Marketplace, Shopping',\n",
       "       'Analytics, Computer Vision, Enterprise Software, Machine Learning, Natural Language Processing, Speech Recognition',\n",
       "       'Facilities Support Services',\n",
       "       'Automotive, Electric Vehicle, Energy',\n",
       "       'Health Care, Health Diagnostics, Predictive Analytics',\n",
       "       'Cloud Computing, Computer, SaaS, Software',\n",
       "       'Fashion, Lifestyle, Retail', 'Medical', 'Music Streaming',\n",
       "       'Finance, Impact Investing, Internet',\n",
       "       'Internet, Social Entrepreneurship', 'Retail',\n",
       "       'Finance, Impact Investing, Mobile Apps',\n",
       "       'Cloud Computing, Computer, Software',\n",
       "       'Business Development, Market Research, Outsourcing',\n",
       "       'Health Care, Hospitality', 'Internet, Social News, Sports',\n",
       "       'Human Resources', 'Finance, Financial Services, FinTech',\n",
       "       'Customer Service, Software, Video, Video Streaming',\n",
       "       'E-Commerce, Food Processing', 'Training',\n",
       "       'Dietary Supplements, Food and Beverage, Health Care, Organic Food, Snack Food',\n",
       "       'Manufacturing, Oil and Gas, Robotics',\n",
       "       'Artificial Intelligence, Computer, Machine Learning',\n",
       "       'Collaboration, Communities, Coworking, Sharing Economy',\n",
       "       'Big Data, EdTech, Machine Learning', 'Nanotechnology',\n",
       "       'Analytics, Audio, Digital Media, Innovation Management, Internet Radio, Media and Entertainment',\n",
       "       'Financial Services, Lending, Peer to Peer',\n",
       "       'E-Commerce, Furniture, Home Decor, Interior Design, Internet',\n",
       "       'Digital Media', 'File Sharing, Personalization, Social Media',\n",
       "       'Home Decor, Interior Design',\n",
       "       'Health Care, Medical Device, Mobile Apps',\n",
       "       'E-Commerce, Facilities Support Services, Procurement, Supply Chain Management',\n",
       "       'Crowdfunding, Finance, Financial Services',\n",
       "       'Finance, Financial Services, Insurance',\n",
       "       'Children, Education, Online Portals', 'Software, Virtual Reality',\n",
       "       'B2B, Food and Beverage, Food Delivery',\n",
       "       'Catering, Food and Beverage, Food Delivery, Food Processing',\n",
       "       'Food and Beverage, Snack Food', 'Automotive, E-Commerce, Mobile',\n",
       "       'Computer, Digital Marketing, Facilities Support Services, Graphic Design, Internet, Mobile Apps, Social Media Marketing, Web Development',\n",
       "       'Android, Big Data, Blockchain, Cloud Computing, EdTech, Education, Information Technology, iOS, Training, Web Development',\n",
       "       'Analytics, CRM, Loyalty Programs, Machine Learning, Marketing Automation, Retail Technology, SaaS, Small and Medium Businesses',\n",
       "       'Delivery, Information Technology, Mobile Apps',\n",
       "       'Environmental Consulting, Renewable Energy',\n",
       "       'Big Data, Business Intelligence, Financial Services, FinTech, Personal Finance',\n",
       "       'Commercial Real Estate, Coworking, Office Administration, Real Estate',\n",
       "       'Food and Beverage, Food Processing, Organic Food, Snack Food',\n",
       "       'Apps, Health Care, Internet, Mobile Apps, Personal Health',\n",
       "       'Digital Media, Incubators, Social Entrepreneurship',\n",
       "       'Finance, Financial Services, Marketing',\n",
       "       'Biotechnology, Health Care, Life Science, Medical Device',\n",
       "       'Education, Human Resources', 'Consumer Electronics',\n",
       "       'Apps, Health Care, Hospital, Mobile Apps',\n",
       "       'Delivery Service, Logistics, Service Industry',\n",
       "       'Big Data, Data Visualization, Logistics, Software',\n",
       "       'Basketball, Cricket, Cycling, eSports, Fitness, Golf, Health Care, Hockey, Sports, Swimming, Table Tennis, Volley Ball',\n",
       "       'Media and Entertainment, News, Publishing', 'Consulting',\n",
       "       'Big Data, Financial Services, Machine Learning, Predictive Analytics',\n",
       "       'Agriculture, AgTech, Manufacturing',\n",
       "       'Digital Media, News, Publishing', 'Health Care, Hospital',\n",
       "       'B2B, E-Commerce, Enterprise',\n",
       "       'Fraud Detection, Information Services, Security',\n",
       "       'Agriculture, AgTech, Artificial Intelligence, Internet of Things, Machine Learning',\n",
       "       'Cryptocurrency, Trading Platform',\n",
       "       'Finance, FinTech, Mobile Payments', 'Wedding',\n",
       "       'E-Learning, EdTech, Education, Image Recognition, Machine Learning, STEM Education',\n",
       "       'Consumer Goods', 'Digital Entertainment',\n",
       "       'Crowdsourcing, Financial Services, Funding Platform, Venture Capital',\n",
       "       'Delivery, Drones, Geospatial, Robotics',\n",
       "       'Health Care, Information Technology, Management Information Systems',\n",
       "       'Farming',\n",
       "       'Business Travel, Hospitality, Hotel, Marketplace, Tourism, Travel Accommodations',\n",
       "       'Career Planning, Education, Higher Education, Service Industry',\n",
       "       'Medical Device', 'Alternative Medicine, Health Care',\n",
       "       'Internet, Software',\n",
       "       'Dental, Elder Care, Health Care, Home Health Care, Personal Health',\n",
       "       'Financial Services, Insurance, Private Social Networking',\n",
       "       'Consumer Electronics, E-Commerce, E-Commerce Platforms, Electronics, Shipping, Shopping',\n",
       "       'CleanTech', 'Advertising, Internet, Marketing',\n",
       "       'Human Resources, Security, Training',\n",
       "       'Consumer Lending, Finance, FinTech',\n",
       "       'Marketing, Social Media, Video', 'Banking', 'Food Processing',\n",
       "       'Apps', 'Marketing',\n",
       "       'Apps, B2B, Freight Service, Logistics, SaaS, Shipping, Supply Chain Management, Transportation',\n",
       "       'Digital Entertainment, Fantasy Sports, Gaming, Sports',\n",
       "       'Automotive, Last Mile Transportation, Peer to Peer, Ride Sharing',\n",
       "       'Commercial, E-Learning, Education',\n",
       "       'Continuing Education, EdTech, Education, Skill Assessment',\n",
       "       'Smart Cities, Telecommunications', 'Internet of Things, Robotics',\n",
       "       'Apps, Home Services, Information Services, Information Technology',\n",
       "       'Medical, Tourism', 'Career Planning, Education, Internet',\n",
       "       'Fashion, Graphic Design, Wearables',\n",
       "       'Communities, Leisure, Mobile Apps, Software',\n",
       "       'Automotive, Rental, Sharing Economy',\n",
       "       'Energy, Environmental Consulting, Renewable Energy, Solar',\n",
       "       'Information Technology, SaaS, Security',\n",
       "       'Crowdfunding, Financial Services, Internet',\n",
       "       'Customer Service, Information Technology, Internet, Sales Automation',\n",
       "       'Advertising, Artificial Intelligence, Digital Media, iOS, Location Based Services, News, Video, Video on Demand, Video Streaming',\n",
       "       'Credit Cards, Payments, Property Insurance, Property Management, Rental Property',\n",
       "       'Beauty, Cosmetics, Health Care, Service Industry',\n",
       "       'EdTech, Education, Mobile, Tutoring', 'Social Media, Sports',\n",
       "       'Biopharma', 'E-Commerce, E-Commerce Platforms, Retail',\n",
       "       'E-Commerce, Fashion, Shopping',\n",
       "       'Digital Entertainment, Mobile, PC Games',\n",
       "       'Finance, Financial Services, Small and Medium Businesses',\n",
       "       'Artificial Intelligence, Energy, Oil and Gas',\n",
       "       'Computer, FinTech, Risk Management, Software',\n",
       "       'Apps, Financial Services, FinTech',\n",
       "       \"Child Care, Health Care, Hospital, Medical, Women's\",\n",
       "       'Agriculture, Mobile',\n",
       "       'Finance, FinTech, Payments, Property Development, Rental',\n",
       "       'Information Services, Information Technology, Mobile, Software',\n",
       "       'Apps, Fitness, Health Care, mHealth',\n",
       "       'Food and Beverage, Food Delivery', 'Apps, Payments, Retail',\n",
       "       'Health Insurance, Insurance, Life Insurance',\n",
       "       'Rental, Taxi Service, Travel',\n",
       "       'E-Commerce, E-Commerce Platforms, Internet, Retail',\n",
       "       'Financial Services, Professional Services',\n",
       "       'Customer Service, Messaging, Mobile Apps, Personalization',\n",
       "       'Gaming, iOS, Sports',\n",
       "       'E-Commerce, E-Commerce Platforms, Internet, Mobile Apps, Social Media',\n",
       "       'Search Engine',\n",
       "       'Battery, Electric Vehicle, Energy, Renewable Energy, Transportation',\n",
       "       'Agriculture, Farmers Market, Farming',\n",
       "       'Artificial Intelligence, Drones, Navigation, Packaging Services, Robotics',\n",
       "       'Fitness, GreenTech, Internet of Things, Mobile Apps, Ride Sharing, Transportation',\n",
       "       'Mobile, Software, Travel', 'Cosmetics',\n",
       "       'Consulting, Cyber Security, Network Security',\n",
       "       'eSports, Gaming, Video Games', 'Fashion, Jewelry',\n",
       "       'B2B, Medical Device', 'Consumer Goods, Manufacturing',\n",
       "       'Biotechnology, Health Care, Wellness',\n",
       "       'Health Care, Hospital, Medical, Robotics',\n",
       "       'E-Commerce, Fitness, Health Care',\n",
       "       'Financial Services, Venture Capital', 'Accounting, Apps, FinTech',\n",
       "       'Apps, Mobile, Transportation', 'Reading Apps',\n",
       "       'Energy, Renewable Energy, Solar',\n",
       "       'Banking, Financial Services, FinTech', 'Apps, Education, Retail',\n",
       "       'Electric Vehicle',\n",
       "       'Automotive, Battery, Electric Vehicle, Manufacturing, Mechanical Design',\n",
       "       'Automotive, E-Commerce, Marketplace', 'Agriculture',\n",
       "       'Apps, Information Services, Information Technology',\n",
       "       'B2B, Marketplace', 'Packaging Services',\n",
       "       'Computer, Furniture, Software',\n",
       "       'Food Delivery, Hospitality, Reservations, Restaurants, Search Engine',\n",
       "       'Collaboration, Communities, Coworking, Real Estate',\n",
       "       'Accounting, Banking, Finance',\n",
       "       'Cloud Computing, Enterprise Software, Network Hardware, Network Security, SaaS',\n",
       "       'Information Services, Internet, Logistics, Supply Chain Management, Transportation',\n",
       "       'Automotive, E-Commerce, Information Services',\n",
       "       'Delivery, Logistics, Transportation',\n",
       "       'Automotive, E-Commerce Platforms, Marketplace',\n",
       "       'Last Mile Transportation, Railroad, Transportation, Travel',\n",
       "       'Cooking, E-Commerce, Food and Beverage, Food Delivery, Online Portals',\n",
       "       'FinTech, Mobile, Mobile Payments, Payments, Retail Technology',\n",
       "       'Online Games, Software',\n",
       "       'Online Portals, Property Management, Rental',\n",
       "       'E-Commerce, Food and Beverage, Tea',\n",
       "       'Music, Social Network, Video',\n",
       "       'Health Care, Pharmaceutical, Wellness',\n",
       "       'Delivery Service, Food and Beverage, Food Delivery',\n",
       "       'Hospitality, Information Technology, Travel Accommodations',\n",
       "       'Biotechnology, Diabetes, Health Care',\n",
       "       'Autonomous Vehicles, Last Mile Transportation, Recreational Vehicles, Rental',\n",
       "       'Finance, Financial Exchanges, Financial Services, Micro Lending',\n",
       "       'Analytics, Apps, Market Research',\n",
       "       'E-Commerce, E-Commerce Platforms, Furniture, Home Decor, Internet',\n",
       "       'Apps, Mobile, Mobile Apps, Software',\n",
       "       'News, Publishing, Social Media',\n",
       "       'Industrial, Industrial Automation',\n",
       "       'Internet, Mobile Apps, Social Network',\n",
       "       'Health Care, Health Diagnostics, Internet of Things, Life Science, Machine Learning, Medical, Medical Device',\n",
       "       'E-Commerce, Furniture, Interior Design', 'Apps, Events, News',\n",
       "       'Artificial Intelligence, Human Resources, Information Services, Information Technology',\n",
       "       'Logistics, Railroad, Transportation',\n",
       "       'Dating, Private Social Networking',\n",
       "       'Artificial Intelligence, Machine Learning, PaaS',\n",
       "       'Consumer, Furniture, Home Decor, Home Improvement',\n",
       "       'Apps, E-Commerce, Internet, Mobile, Ride Sharing, Transportation',\n",
       "       'Health Care, Health Insurance', 'Energy, Natural Resources',\n",
       "       'E-Commerce, Education, Health Care',\n",
       "       'Apps, Health Care, Pharmaceutical',\n",
       "       'Internet, Knowledge Management',\n",
       "       'Credit, Finance, FinTech, Lending, Sales Automation',\n",
       "       'Banking, Financial Services, Internet',\n",
       "       'E-Commerce, Health Care, Retail',\n",
       "       'Child Care, Information Technology',\n",
       "       'Financial Services, Micro Lending',\n",
       "       'E-Commerce, Retail, Shopping',\n",
       "       'Food and Beverage, Snack Food, Tea',\n",
       "       'Delivery Service, E-Commerce, Logistics',\n",
       "       'Fashion, Lifestyle, Rental', 'Fantasy Sports, Mobile, Sports',\n",
       "       'Beauty, Fashion, Wellness', 'Food and Beverage, Restaurants, Tea',\n",
       "       'Fitness, Sporting Goods, Sports',\n",
       "       'Food and Beverage, Food Processing, Manufacturing',\n",
       "       'E-Learning, Internet', 'Eyewear, Internet',\n",
       "       'Information Technology, Mobile, News, Operating Systems, Social Media, Social News',\n",
       "       'FinTech, Internet, Payments, Service Industry',\n",
       "       'B2B, Business Development, Internet, Marketplace',\n",
       "       'Food and Beverage, Food Delivery, Internet',\n",
       "       'Biotechnology, Health Care, Pharmaceutical'], dtype=object)"
      ]
     },
     "execution_count": 26,
     "metadata": {},
     "output_type": "execute_result"
    }
   ],
   "source": [
    "# let's check all the unique values in the industry column\n",
    "df['Industry'].unique()"
   ]
  },
  {
   "cell_type": "code",
   "execution_count": 27,
   "metadata": {},
   "outputs": [
    {
     "data": {
      "text/plain": [
       "Industry\n",
       "—                                                                                 30\n",
       "Financial Services                                                                15\n",
       "Education                                                                          8\n",
       "Information Technology                                                             7\n",
       "Finance, Financial Services                                                        5\n",
       "                                                                                  ..\n",
       "Business Intelligence, Customer Service, Market Research, SaaS                     1\n",
       "Digital Media, Internet, Media and Entertainment, Online Portals, Social Media     1\n",
       "Consumer Lending, Financial Services, Lending, Personal Finance                    1\n",
       "Education, Information Technology, Internet, Mobile, Software                      1\n",
       "Biotechnology, Health Care, Pharmaceutical                                         1\n",
       "Name: count, Length: 405, dtype: int64"
      ]
     },
     "execution_count": 27,
     "metadata": {},
     "output_type": "execute_result"
    }
   ],
   "source": [
    "df['Industry'].value_counts() # counting all the unique values in the Industry column "
   ]
  },
  {
   "cell_type": "code",
   "execution_count": 28,
   "metadata": {},
   "outputs": [
    {
     "data": {
      "text/html": [
       "<div>\n",
       "<style scoped>\n",
       "    .dataframe tbody tr th:only-of-type {\n",
       "        vertical-align: middle;\n",
       "    }\n",
       "\n",
       "    .dataframe tbody tr th {\n",
       "        vertical-align: top;\n",
       "    }\n",
       "\n",
       "    .dataframe thead th {\n",
       "        text-align: right;\n",
       "    }\n",
       "</style>\n",
       "<table border=\"1\" class=\"dataframe\">\n",
       "  <thead>\n",
       "    <tr style=\"text-align: right;\">\n",
       "      <th></th>\n",
       "      <th>Company Name</th>\n",
       "      <th>Industry</th>\n",
       "      <th>Round/Series</th>\n",
       "      <th>Amount</th>\n",
       "      <th>Location</th>\n",
       "      <th>About Company</th>\n",
       "    </tr>\n",
       "  </thead>\n",
       "  <tbody>\n",
       "    <tr>\n",
       "      <th>58</th>\n",
       "      <td>MissMalini Entertainment</td>\n",
       "      <td>—</td>\n",
       "      <td>Seed</td>\n",
       "      <td>1518400.0</td>\n",
       "      <td>Mumbai</td>\n",
       "      <td>MissMalini Entertainment is a multi-platform n...</td>\n",
       "    </tr>\n",
       "    <tr>\n",
       "      <th>105</th>\n",
       "      <td>Jagaran Microfin</td>\n",
       "      <td>—</td>\n",
       "      <td>Debt Financing</td>\n",
       "      <td>8030000.0</td>\n",
       "      <td>Kolkata</td>\n",
       "      <td>Jagaran Microfin is a Microfinance institution...</td>\n",
       "    </tr>\n",
       "    <tr>\n",
       "      <th>121</th>\n",
       "      <td>FLEECA</td>\n",
       "      <td>—</td>\n",
       "      <td>Seed</td>\n",
       "      <td>NaN</td>\n",
       "      <td>Jaipur</td>\n",
       "      <td>FLEECA is a Tyre Care Provider company.</td>\n",
       "    </tr>\n",
       "    <tr>\n",
       "      <th>146</th>\n",
       "      <td>WheelsEMI</td>\n",
       "      <td>—</td>\n",
       "      <td>Series B</td>\n",
       "      <td>14000000.0</td>\n",
       "      <td>Pune</td>\n",
       "      <td>WheelsEMI is the brand name of NBFC, WheelsEMI...</td>\n",
       "    </tr>\n",
       "    <tr>\n",
       "      <th>153</th>\n",
       "      <td>Fric Bergen</td>\n",
       "      <td>—</td>\n",
       "      <td>Venture - Series Unknown</td>\n",
       "      <td>NaN</td>\n",
       "      <td>Alwar</td>\n",
       "      <td>Fric Bergen is a leader in the specialty food ...</td>\n",
       "    </tr>\n",
       "    <tr>\n",
       "      <th>174</th>\n",
       "      <td>Deftouch</td>\n",
       "      <td>—</td>\n",
       "      <td>Seed</td>\n",
       "      <td>NaN</td>\n",
       "      <td>Bengaluru</td>\n",
       "      <td>Deftouch is a mobile game development company ...</td>\n",
       "    </tr>\n",
       "    <tr>\n",
       "      <th>181</th>\n",
       "      <td>Corefactors</td>\n",
       "      <td>—</td>\n",
       "      <td>Seed</td>\n",
       "      <td>NaN</td>\n",
       "      <td>Bengaluru</td>\n",
       "      <td>Corefactors is a leading campaign management, ...</td>\n",
       "    </tr>\n",
       "    <tr>\n",
       "      <th>210</th>\n",
       "      <td>Cell Propulsion</td>\n",
       "      <td>—</td>\n",
       "      <td>Seed</td>\n",
       "      <td>102200.0</td>\n",
       "      <td>Bengaluru</td>\n",
       "      <td>Cell Propulsion is an electric mobility startu...</td>\n",
       "    </tr>\n",
       "    <tr>\n",
       "      <th>230</th>\n",
       "      <td>Flathalt</td>\n",
       "      <td>—</td>\n",
       "      <td>Angel</td>\n",
       "      <td>50000.0</td>\n",
       "      <td>Gurugram</td>\n",
       "      <td>FInd your Customized Home here.</td>\n",
       "    </tr>\n",
       "    <tr>\n",
       "      <th>235</th>\n",
       "      <td>dishq</td>\n",
       "      <td>—</td>\n",
       "      <td>Seed</td>\n",
       "      <td>400000.0</td>\n",
       "      <td>Bengaluru</td>\n",
       "      <td>dishq leverages food science and machine learn...</td>\n",
       "    </tr>\n",
       "    <tr>\n",
       "      <th>238</th>\n",
       "      <td>Trell</td>\n",
       "      <td>—</td>\n",
       "      <td>Seed</td>\n",
       "      <td>1250000.0</td>\n",
       "      <td>Bengaluru</td>\n",
       "      <td>Trell is a location based network which helps ...</td>\n",
       "    </tr>\n",
       "    <tr>\n",
       "      <th>242</th>\n",
       "      <td>HousingMan.com</td>\n",
       "      <td>—</td>\n",
       "      <td>Seed</td>\n",
       "      <td>1503800.0</td>\n",
       "      <td>Bengaluru</td>\n",
       "      <td>New Apartments, Flats for Sale in Bangalore</td>\n",
       "    </tr>\n",
       "    <tr>\n",
       "      <th>243</th>\n",
       "      <td>Steradian Semiconductors</td>\n",
       "      <td>—</td>\n",
       "      <td>Seed</td>\n",
       "      <td>NaN</td>\n",
       "      <td>Bengaluru</td>\n",
       "      <td>It is a fabless semiconductor company focused ...</td>\n",
       "    </tr>\n",
       "    <tr>\n",
       "      <th>247</th>\n",
       "      <td>SaffronStays</td>\n",
       "      <td>—</td>\n",
       "      <td>Seed</td>\n",
       "      <td>2000000.0</td>\n",
       "      <td>Mumbai</td>\n",
       "      <td>SaffronStays connects travellers to India's In...</td>\n",
       "    </tr>\n",
       "    <tr>\n",
       "      <th>251</th>\n",
       "      <td>Inner Being Wellness</td>\n",
       "      <td>—</td>\n",
       "      <td>Angel</td>\n",
       "      <td>511000.0</td>\n",
       "      <td>Hyderabad</td>\n",
       "      <td>Inner Being Wellness manufactures beauty, well...</td>\n",
       "    </tr>\n",
       "    <tr>\n",
       "      <th>257</th>\n",
       "      <td>MySEODoc</td>\n",
       "      <td>—</td>\n",
       "      <td>Seed</td>\n",
       "      <td>NaN</td>\n",
       "      <td>New Delhi</td>\n",
       "      <td>SEO, PPC, Search Engine Marketing, Social Medi...</td>\n",
       "    </tr>\n",
       "    <tr>\n",
       "      <th>258</th>\n",
       "      <td>ENLYFT DIGITAL SOLUTIONS PRIVATE LIMITED</td>\n",
       "      <td>—</td>\n",
       "      <td>Seed</td>\n",
       "      <td>2920.0</td>\n",
       "      <td>Pune</td>\n",
       "      <td>Digital Marketing Agency</td>\n",
       "    </tr>\n",
       "    <tr>\n",
       "      <th>259</th>\n",
       "      <td>Scale Labs</td>\n",
       "      <td>—</td>\n",
       "      <td>Seed</td>\n",
       "      <td>1000000.0</td>\n",
       "      <td>New Delhi</td>\n",
       "      <td>Scale Labs is a cross border e-commerce soluti...</td>\n",
       "    </tr>\n",
       "    <tr>\n",
       "      <th>294</th>\n",
       "      <td>Roadcast</td>\n",
       "      <td>—</td>\n",
       "      <td>Angel</td>\n",
       "      <td>250000.0</td>\n",
       "      <td>New Delhi</td>\n",
       "      <td>Transforming the way businesses deliver. Work-...</td>\n",
       "    </tr>\n",
       "    <tr>\n",
       "      <th>325</th>\n",
       "      <td>Toffee</td>\n",
       "      <td>—</td>\n",
       "      <td>Seed</td>\n",
       "      <td>1500000.0</td>\n",
       "      <td>Gurugram</td>\n",
       "      <td>Toffee is a bite size, micro-event &amp; contextua...</td>\n",
       "    </tr>\n",
       "    <tr>\n",
       "      <th>326</th>\n",
       "      <td>ORO Wealth</td>\n",
       "      <td>—</td>\n",
       "      <td>Series A</td>\n",
       "      <td>1600000.0</td>\n",
       "      <td>Mumbai</td>\n",
       "      <td>Online wealth management platform</td>\n",
       "    </tr>\n",
       "    <tr>\n",
       "      <th>346</th>\n",
       "      <td>Finwego</td>\n",
       "      <td>—</td>\n",
       "      <td>Seed</td>\n",
       "      <td>NaN</td>\n",
       "      <td>Chennai</td>\n",
       "      <td>Finwego partners with Small and Medium Busines...</td>\n",
       "    </tr>\n",
       "    <tr>\n",
       "      <th>398</th>\n",
       "      <td>Cred</td>\n",
       "      <td>—</td>\n",
       "      <td>Seed</td>\n",
       "      <td>NaN</td>\n",
       "      <td>Bengaluru</td>\n",
       "      <td>Cred is a platform to celebrate and reward the...</td>\n",
       "    </tr>\n",
       "    <tr>\n",
       "      <th>457</th>\n",
       "      <td>Origo</td>\n",
       "      <td>—</td>\n",
       "      <td>Venture - Series Unknown</td>\n",
       "      <td>11680000.0</td>\n",
       "      <td>Gurugram</td>\n",
       "      <td>Origo Commodities, a complete post-harvest man...</td>\n",
       "    </tr>\n",
       "    <tr>\n",
       "      <th>472</th>\n",
       "      <td>Sequretek</td>\n",
       "      <td>—</td>\n",
       "      <td>Venture - Series Unknown</td>\n",
       "      <td>3700000.0</td>\n",
       "      <td>Mumbai</td>\n",
       "      <td>Sequretek is a cyber security start-up.</td>\n",
       "    </tr>\n",
       "    <tr>\n",
       "      <th>473</th>\n",
       "      <td>Avenues Payments India Pvt. Ltd.</td>\n",
       "      <td>—</td>\n",
       "      <td>Corporate Round</td>\n",
       "      <td>1300000.0</td>\n",
       "      <td>Mumbai</td>\n",
       "      <td>Avenues Payments is an IT solutions provider f...</td>\n",
       "    </tr>\n",
       "    <tr>\n",
       "      <th>476</th>\n",
       "      <td>Planet11 eCommerce Solutions India (Avenue11)</td>\n",
       "      <td>—</td>\n",
       "      <td>Corporate Round</td>\n",
       "      <td>3796000.0</td>\n",
       "      <td>Bengaluru</td>\n",
       "      <td>Planet11 is backed by SK Planet, which is a pa...</td>\n",
       "    </tr>\n",
       "    <tr>\n",
       "      <th>478</th>\n",
       "      <td>Iba Halal Care</td>\n",
       "      <td>—</td>\n",
       "      <td>Series A</td>\n",
       "      <td>2190000.0</td>\n",
       "      <td>Ahmedabad</td>\n",
       "      <td>Iba Halal Care is a cosmetics brand company.</td>\n",
       "    </tr>\n",
       "    <tr>\n",
       "      <th>480</th>\n",
       "      <td>Togedr</td>\n",
       "      <td>—</td>\n",
       "      <td>Venture - Series Unknown</td>\n",
       "      <td>NaN</td>\n",
       "      <td>Gurugram</td>\n",
       "      <td>Togedr is an activity discovery &amp; booking plat...</td>\n",
       "    </tr>\n",
       "    <tr>\n",
       "      <th>510</th>\n",
       "      <td>Scholify</td>\n",
       "      <td>—</td>\n",
       "      <td>Pre-Seed</td>\n",
       "      <td>NaN</td>\n",
       "      <td>Bengaluru</td>\n",
       "      <td>Edutech</td>\n",
       "    </tr>\n",
       "  </tbody>\n",
       "</table>\n",
       "</div>"
      ],
      "text/plain": [
       "                                      Company Name Industry   \n",
       "58                        MissMalini Entertainment        —  \\\n",
       "105                               Jagaran Microfin        —   \n",
       "121                                         FLEECA        —   \n",
       "146                                      WheelsEMI        —   \n",
       "153                                    Fric Bergen        —   \n",
       "174                                       Deftouch        —   \n",
       "181                                    Corefactors        —   \n",
       "210                                Cell Propulsion        —   \n",
       "230                                       Flathalt        —   \n",
       "235                                          dishq        —   \n",
       "238                                          Trell        —   \n",
       "242                                 HousingMan.com        —   \n",
       "243                       Steradian Semiconductors        —   \n",
       "247                                   SaffronStays        —   \n",
       "251                           Inner Being Wellness        —   \n",
       "257                                       MySEODoc        —   \n",
       "258       ENLYFT DIGITAL SOLUTIONS PRIVATE LIMITED        —   \n",
       "259                                     Scale Labs        —   \n",
       "294                                       Roadcast        —   \n",
       "325                                         Toffee        —   \n",
       "326                                     ORO Wealth        —   \n",
       "346                                        Finwego        —   \n",
       "398                                           Cred        —   \n",
       "457                                          Origo        —   \n",
       "472                                      Sequretek        —   \n",
       "473               Avenues Payments India Pvt. Ltd.        —   \n",
       "476  Planet11 eCommerce Solutions India (Avenue11)        —   \n",
       "478                                 Iba Halal Care        —   \n",
       "480                                         Togedr        —   \n",
       "510                                       Scholify        —   \n",
       "\n",
       "                 Round/Series      Amount   Location   \n",
       "58                       Seed   1518400.0     Mumbai  \\\n",
       "105            Debt Financing   8030000.0    Kolkata   \n",
       "121                      Seed         NaN     Jaipur   \n",
       "146                  Series B  14000000.0       Pune   \n",
       "153  Venture - Series Unknown         NaN      Alwar   \n",
       "174                      Seed         NaN  Bengaluru   \n",
       "181                      Seed         NaN  Bengaluru   \n",
       "210                      Seed    102200.0  Bengaluru   \n",
       "230                     Angel     50000.0   Gurugram   \n",
       "235                      Seed    400000.0  Bengaluru   \n",
       "238                      Seed   1250000.0  Bengaluru   \n",
       "242                      Seed   1503800.0  Bengaluru   \n",
       "243                      Seed         NaN  Bengaluru   \n",
       "247                      Seed   2000000.0     Mumbai   \n",
       "251                     Angel    511000.0  Hyderabad   \n",
       "257                      Seed         NaN  New Delhi   \n",
       "258                      Seed      2920.0       Pune   \n",
       "259                      Seed   1000000.0  New Delhi   \n",
       "294                     Angel    250000.0  New Delhi   \n",
       "325                      Seed   1500000.0   Gurugram   \n",
       "326                  Series A   1600000.0     Mumbai   \n",
       "346                      Seed         NaN    Chennai   \n",
       "398                      Seed         NaN  Bengaluru   \n",
       "457  Venture - Series Unknown  11680000.0   Gurugram   \n",
       "472  Venture - Series Unknown   3700000.0     Mumbai   \n",
       "473           Corporate Round   1300000.0     Mumbai   \n",
       "476           Corporate Round   3796000.0  Bengaluru   \n",
       "478                  Series A   2190000.0  Ahmedabad   \n",
       "480  Venture - Series Unknown         NaN   Gurugram   \n",
       "510                  Pre-Seed         NaN  Bengaluru   \n",
       "\n",
       "                                         About Company  \n",
       "58   MissMalini Entertainment is a multi-platform n...  \n",
       "105  Jagaran Microfin is a Microfinance institution...  \n",
       "121            FLEECA is a Tyre Care Provider company.  \n",
       "146  WheelsEMI is the brand name of NBFC, WheelsEMI...  \n",
       "153  Fric Bergen is a leader in the specialty food ...  \n",
       "174  Deftouch is a mobile game development company ...  \n",
       "181  Corefactors is a leading campaign management, ...  \n",
       "210  Cell Propulsion is an electric mobility startu...  \n",
       "230                    FInd your Customized Home here.  \n",
       "235  dishq leverages food science and machine learn...  \n",
       "238  Trell is a location based network which helps ...  \n",
       "242        New Apartments, Flats for Sale in Bangalore  \n",
       "243  It is a fabless semiconductor company focused ...  \n",
       "247  SaffronStays connects travellers to India's In...  \n",
       "251  Inner Being Wellness manufactures beauty, well...  \n",
       "257  SEO, PPC, Search Engine Marketing, Social Medi...  \n",
       "258                           Digital Marketing Agency  \n",
       "259  Scale Labs is a cross border e-commerce soluti...  \n",
       "294  Transforming the way businesses deliver. Work-...  \n",
       "325  Toffee is a bite size, micro-event & contextua...  \n",
       "326                  Online wealth management platform  \n",
       "346  Finwego partners with Small and Medium Busines...  \n",
       "398  Cred is a platform to celebrate and reward the...  \n",
       "457  Origo Commodities, a complete post-harvest man...  \n",
       "472            Sequretek is a cyber security start-up.  \n",
       "473  Avenues Payments is an IT solutions provider f...  \n",
       "476  Planet11 is backed by SK Planet, which is a pa...  \n",
       "478       Iba Halal Care is a cosmetics brand company.  \n",
       "480  Togedr is an activity discovery & booking plat...  \n",
       "510                                            Edutech  "
      ]
     },
     "execution_count": 28,
     "metadata": {},
     "output_type": "execute_result"
    }
   ],
   "source": [
    "df[df['Industry']=='—']"
   ]
  },
  {
   "cell_type": "code",
   "execution_count": 29,
   "metadata": {},
   "outputs": [],
   "source": [
    "# renaming some of the Company names to their official names\n",
    "company_mapping = {\n",
    "    'dishq': 'DISH',\n",
    "    'HousingMan.com': 'HousingMan',\n",
    "    'ENLYFT DIGITAL SOLUTIONS PRIVATE LIMITED': 'ENLYFT DIGITAL SOLUTIONS',\n",
    "    'Toffee': 'Toffee Pvt Ltd',\n",
    "    'Avenues Payments India Pvt. Ltd.': 'Avenues Payments',\n",
    "    'Planet11 eCommerce Solutions India (Avenue11)': 'Planet11',\n",
    "}\n",
    "# Replace the dash symbol with the corresponding values using map function\n",
    "df['Company Name'].replace(company_mapping, inplace=True)"
   ]
  },
  {
   "cell_type": "code",
   "execution_count": 30,
   "metadata": {},
   "outputs": [],
   "source": [
    "df.loc[df['Company Name'] == 'MissMalini Entertainment', 'Industry'] = 'Media'\n",
    "df.loc[df['Company Name'] == 'Jagaran Microfin', 'Industry'] = 'Financial Services'\n",
    "df.loc[df['Company Name'] == 'FLEECA', 'Industry'] = 'Automotive'\n",
    "df.loc[df['Company Name'] == 'WheelsEMI', 'Industry'] = 'Financial Services'\n",
    "df.loc[df['Company Name'] == 'Fric Bergen', 'Industry'] = 'Food'\n",
    "df.loc[df['Company Name'] == 'Deftouch', 'Industry'] = 'Gaming'\n",
    "df.loc[df['Company Name'] == 'Corefactors', 'Industry'] = 'Technology'\n",
    "df.loc[df['Company Name'] == 'Cell Propulsion', 'Industry'] = 'Automotive'\n",
    "df.loc[df['Company Name'] == 'Flathalt', 'Industry'] = 'Real Estate'\n",
    "df.loc[df['Company Name'] == 'DISH', 'Industry'] = 'Food'\n",
    "df.loc[df['Company Name'] == 'Trell', 'Industry'] = 'Travel'\n",
    "df.loc[df['Company Name'] == 'HousingMan', 'Industry'] = 'Real Estate'\n",
    "df.loc[df['Company Name'] == 'Steradian Semiconductors', 'Industry'] = 'Technology'\n",
    "df.loc[df['Company Name'] == 'SaffronStays', 'Industry'] = 'Travel'\n",
    "df.loc[df['Company Name'] == 'Inner Being Wellness', 'Industry'] = 'Beauty'\n",
    "df.loc[df['Company Name'] == 'MySEODoc', 'Industry'] = 'Marketing'\n",
    "df.loc[df['Company Name'] == 'ENLYFT DIGITAL SOLUTIONS', 'Industry'] = 'Marketing'\n",
    "df.loc[df['Company Name'] == 'Scale Labs', 'Industry'] = 'Ecommerce'\n",
    "df.loc[df['Company Name'] == 'Roadcast', 'Industry'] = 'Logistics'\n",
    "df.loc[df['Company Name'] == 'Toffee Pvt Ltd', 'Industry'] = 'Insurance'\n",
    "df.loc[df['Company Name'] == 'ORO Wealth', 'Industry'] = 'Financial Services'\n",
    "df.loc[df['Company Name'] == 'Finwego', 'Industry'] = 'Financial Services'\n",
    "df.loc[df['Company Name'] == 'Cred', 'Industry'] = 'Fintech'\n",
    "df.loc[df['Company Name'] == 'Origo', 'Industry'] = 'Agriculture'\n",
    "df.loc[df['Company Name'] == 'Sequretek', 'Industry'] = 'Cyber Security'\n",
    "df.loc[df['Company Name'] == 'Avenues Payments', 'Industry'] = 'Financial Services'\n",
    "df.loc[df['Company Name'] == 'Planet11', 'Industry'] = 'E-commerce'\n",
    "df.loc[df['Company Name'] == 'Iba Halal Care', 'Industry'] = 'Beauty'\n",
    "df.loc[df['Company Name'] == 'Togedr', 'Industry'] = 'Travel'\n",
    "df.loc[df['Company Name'] == 'Scholify', 'Industry'] = 'Edutech'"
   ]
  },
  {
   "cell_type": "code",
   "execution_count": 31,
   "metadata": {},
   "outputs": [
    {
     "data": {
      "text/html": [
       "<div>\n",
       "<style scoped>\n",
       "    .dataframe tbody tr th:only-of-type {\n",
       "        vertical-align: middle;\n",
       "    }\n",
       "\n",
       "    .dataframe tbody tr th {\n",
       "        vertical-align: top;\n",
       "    }\n",
       "\n",
       "    .dataframe thead th {\n",
       "        text-align: right;\n",
       "    }\n",
       "</style>\n",
       "<table border=\"1\" class=\"dataframe\">\n",
       "  <thead>\n",
       "    <tr style=\"text-align: right;\">\n",
       "      <th></th>\n",
       "      <th>Company Name</th>\n",
       "      <th>Industry</th>\n",
       "      <th>Round/Series</th>\n",
       "      <th>Amount</th>\n",
       "      <th>Location</th>\n",
       "      <th>About Company</th>\n",
       "    </tr>\n",
       "  </thead>\n",
       "  <tbody>\n",
       "  </tbody>\n",
       "</table>\n",
       "</div>"
      ],
      "text/plain": [
       "Empty DataFrame\n",
       "Columns: [Company Name, Industry, Round/Series, Amount, Location, About Company]\n",
       "Index: []"
      ]
     },
     "execution_count": 31,
     "metadata": {},
     "output_type": "execute_result"
    }
   ],
   "source": [
    "df[df['Industry']=='—']"
   ]
  },
  {
   "cell_type": "code",
   "execution_count": 32,
   "metadata": {},
   "outputs": [],
   "source": [
    "# keeping only the first unique vlaues in the Industry column\n",
    "df['Industry'] = df['Industry'].str.split(',').str[0]\n",
    "#converting the industry names in the column to title case\n",
    "df['Industry'] = df['Industry'].str.title()"
   ]
  },
  {
   "cell_type": "code",
   "execution_count": 33,
   "metadata": {},
   "outputs": [],
   "source": [
    "# remove the leading or trailing spaces from the industry names in the 'Industry' column\n",
    "df['Industry'] = df['Industry'].str.strip()"
   ]
  },
  {
   "cell_type": "code",
   "execution_count": 34,
   "metadata": {},
   "outputs": [
    {
     "data": {
      "text/plain": [
       "0"
      ]
     },
     "execution_count": 34,
     "metadata": {},
     "output_type": "execute_result"
    }
   ],
   "source": [
    "df['Industry'].isnull().sum() # confirming the null values in the industry column "
   ]
  },
  {
   "attachments": {},
   "cell_type": "markdown",
   "metadata": {},
   "source": [
    "### Round/Series Column"
   ]
  },
  {
   "cell_type": "code",
   "execution_count": 35,
   "metadata": {},
   "outputs": [
    {
     "data": {
      "text/plain": [
       "array(['Seed', 'Series A', 'Angel', 'Series B', 'Pre-Seed',\n",
       "       'Private Equity', 'Venture - Series Unknown', 'Grant',\n",
       "       'Debt Financing', 'Post-IPO Debt', 'Series H', 'Series C',\n",
       "       'Series E', 'Corporate Round', 'Undisclosed',\n",
       "       'https://docs.google.com/spreadsheets/d/1x9ziNeaz6auNChIHnMI8U6kS7knTr3byy_YBGfQaoUA/edit#gid=1861303593',\n",
       "       'Series D', 'Secondary Market', 'Post-IPO Equity',\n",
       "       'Non-equity Assistance', 'Funding Round'], dtype=object)"
      ]
     },
     "execution_count": 35,
     "metadata": {},
     "output_type": "execute_result"
    }
   ],
   "source": [
    "df['Round/Series'].unique() # getting the unique values "
   ]
  },
  {
   "cell_type": "code",
   "execution_count": 36,
   "metadata": {},
   "outputs": [],
   "source": [
    "# below we are replacing some unique values such as undisclosed with nan and remove some inconsistency from the data\n",
    "\n",
    "df['Round/Series']=df['Round/Series'].replace('Undisclosed',np.nan)\n",
    "df['Round/Series']=df['Round/Series'].replace('Venture - Series Unknown',np.nan)\n",
    "df['Round/Series'] = df['Round/Series'].replace('https://docs.google.com/spreadsheets/d/1x9ziNeaz6auNChIHnMI8U6kS7knTr3byy_YBGfQaoUA/edit#gid=1861303593', 'nan')\n",
    "df['Round/Series'] = df['Round/Series'].replace('nan', np.nan)"
   ]
  },
  {
   "cell_type": "code",
   "execution_count": 37,
   "metadata": {},
   "outputs": [
    {
     "data": {
      "text/plain": [
       "array(['Seed', 'Series A', 'Angel', 'Series B', 'Pre-Seed',\n",
       "       'Private Equity', nan, 'Grant', 'Debt Financing', 'Post-IPO Debt',\n",
       "       'Series H', 'Series C', 'Series E', 'Corporate Round', 'Series D',\n",
       "       'Secondary Market', 'Post-IPO Equity', 'Non-equity Assistance',\n",
       "       'Funding Round'], dtype=object)"
      ]
     },
     "execution_count": 37,
     "metadata": {},
     "output_type": "execute_result"
    }
   ],
   "source": [
    "df['Round/Series'].unique() # getting the unique values "
   ]
  },
  {
   "cell_type": "code",
   "execution_count": 38,
   "metadata": {},
   "outputs": [
    {
     "data": {
      "text/plain": [
       "40"
      ]
     },
     "execution_count": 38,
     "metadata": {},
     "output_type": "execute_result"
    }
   ],
   "source": [
    "df['Round/Series'].isnull().sum() # checking for null values"
   ]
  },
  {
   "cell_type": "code",
   "execution_count": 39,
   "metadata": {},
   "outputs": [
    {
     "data": {
      "text/plain": [
       "525"
      ]
     },
     "execution_count": 39,
     "metadata": {},
     "output_type": "execute_result"
    }
   ],
   "source": [
    "len(df['Round/Series'])"
   ]
  },
  {
   "attachments": {},
   "cell_type": "markdown",
   "metadata": {},
   "source": [
    "NOW LET'S DEAL WITH THE NULL VALUES IN THE ROUND/SERIES "
   ]
  },
  {
   "cell_type": "code",
   "execution_count": 40,
   "metadata": {},
   "outputs": [],
   "source": [
    "most_frequent_stage = df['Round/Series'].mode()[0]\n",
    "df['Round/Series'].fillna(most_frequent_stage, inplace=True)"
   ]
  },
  {
   "cell_type": "code",
   "execution_count": 41,
   "metadata": {},
   "outputs": [
    {
     "data": {
      "text/plain": [
       "0"
      ]
     },
     "execution_count": 41,
     "metadata": {},
     "output_type": "execute_result"
    }
   ],
   "source": [
    "df['Round/Series'].isnull().sum()"
   ]
  },
  {
   "cell_type": "code",
   "execution_count": 42,
   "metadata": {},
   "outputs": [
    {
     "data": {
      "text/plain": [
       "array(['Seed', 'Series A', 'Angel', 'Series B', 'Pre-Seed',\n",
       "       'Private Equity', 'Grant', 'Debt Financing', 'Post-IPO Debt',\n",
       "       'Series H', 'Series C', 'Series E', 'Corporate Round', 'Series D',\n",
       "       'Secondary Market', 'Post-IPO Equity', 'Non-equity Assistance',\n",
       "       'Funding Round'], dtype=object)"
      ]
     },
     "execution_count": 42,
     "metadata": {},
     "output_type": "execute_result"
    }
   ],
   "source": [
    "df['Round/Series'].unique()"
   ]
  },
  {
   "cell_type": "code",
   "execution_count": 43,
   "metadata": {},
   "outputs": [
    {
     "data": {
      "text/plain": [
       "Company Name       0\n",
       "Industry           0\n",
       "Round/Series       0\n",
       "Amount           148\n",
       "Location           0\n",
       "About Company      0\n",
       "dtype: int64"
      ]
     },
     "execution_count": 43,
     "metadata": {},
     "output_type": "execute_result"
    }
   ],
   "source": [
    "# here we want to check for null values in the entire data set\n",
    "df.isnull().sum()"
   ]
  },
  {
   "cell_type": "code",
   "execution_count": 44,
   "metadata": {},
   "outputs": [
    {
     "data": {
      "text/plain": [
       "39.257294429708224"
      ]
     },
     "execution_count": 44,
     "metadata": {},
     "output_type": "execute_result"
    }
   ],
   "source": [
    "# first let's check for the percentage of missing values in the Amount column\n",
    "Amount_missing = df['Amount'].isna().sum()\n",
    "Amount_total = df['Amount'].count()\n",
    "percent_Amount_missing = (Amount_missing / Amount_total) * 100\n",
    "percent_Amount_missing"
   ]
  },
  {
   "attachments": {},
   "cell_type": "markdown",
   "metadata": {},
   "source": [
    "NOW LET'S DEAL WITH THE AMOUNT COLUMN\n",
    "\n",
    "TO TAKE OF THE NULL OR MISSING VALUES. WE WILL FIRST NEED TO UNDERSTAND THE PATTERN OF THE MISSING DATA \n",
    "\n",
    "first let's identify if there is any relationship between the missing values and the diffferent sectors \n",
    "this insight into the missing value will guide us on how to properly impute for the missing values \n",
    "\n",
    "We will start by creating a contingency table to show the distribution of missing values across the different\n",
    "Sectors \n",
    "\n",
    "NOTE: this table and test is to help us prove or reject a hypothesis, by conducting a chi-square test \n",
    "Using the chi2_contingency function from the scipy.stats module to perform the chi-square test, this function calculates the chi-square statistic, p-value, degrees of freedom, and expected frequencies\n",
    "\n",
    "but we will only look at the p-value with a specific chosen significant value \n",
    "\n",
    "Finally, we will interprete the result of the p-value, if the p-value is below a chosen significance level (e.g., 0.05), we can reject the null hypothesis and conclude that there is a significant association between the missing values in the \"Amount\" column and the \"Sector\" column.\n",
    "\n",
    "BELOW IS THE HYPOTHESIS AND THE ALTERNATIVE HYPOTHESIS\n",
    "\n",
    "Null hypothesis (H0): There is no association between the missing values in the \"Amount\" column and the \"Sector\" column.\n",
    "\n",
    "Alternative hypothesis (H1): There is a significant association between the missing values in the \"Amount\" column and the \"Sector\" column\n",
    "\n",
    "Creating a contingency table:\n",
    "\n",
    " we will use the pd.crosstab() function to create a contingency table that will shows the distribution of missing values across the different sectors. This table will help us visualize the association between the two variables."
   ]
  },
  {
   "cell_type": "code",
   "execution_count": 45,
   "metadata": {},
   "outputs": [
    {
     "data": {
      "text/html": [
       "<div>\n",
       "<style scoped>\n",
       "    .dataframe tbody tr th:only-of-type {\n",
       "        vertical-align: middle;\n",
       "    }\n",
       "\n",
       "    .dataframe tbody tr th {\n",
       "        vertical-align: top;\n",
       "    }\n",
       "\n",
       "    .dataframe thead th {\n",
       "        text-align: right;\n",
       "    }\n",
       "</style>\n",
       "<table border=\"1\" class=\"dataframe\">\n",
       "  <thead>\n",
       "    <tr style=\"text-align: right;\">\n",
       "      <th>Amount</th>\n",
       "      <th>False</th>\n",
       "      <th>True</th>\n",
       "    </tr>\n",
       "    <tr>\n",
       "      <th>Industry</th>\n",
       "      <th></th>\n",
       "      <th></th>\n",
       "    </tr>\n",
       "  </thead>\n",
       "  <tbody>\n",
       "    <tr>\n",
       "      <th>3D Printing</th>\n",
       "      <td>0</td>\n",
       "      <td>1</td>\n",
       "    </tr>\n",
       "    <tr>\n",
       "      <th>Accounting</th>\n",
       "      <td>2</td>\n",
       "      <td>1</td>\n",
       "    </tr>\n",
       "    <tr>\n",
       "      <th>Advertising</th>\n",
       "      <td>2</td>\n",
       "      <td>2</td>\n",
       "    </tr>\n",
       "    <tr>\n",
       "      <th>Aerospace</th>\n",
       "      <td>1</td>\n",
       "      <td>1</td>\n",
       "    </tr>\n",
       "    <tr>\n",
       "      <th>Agriculture</th>\n",
       "      <td>4</td>\n",
       "      <td>5</td>\n",
       "    </tr>\n",
       "    <tr>\n",
       "      <th>...</th>\n",
       "      <td>...</td>\n",
       "      <td>...</td>\n",
       "    </tr>\n",
       "    <tr>\n",
       "      <th>Travel</th>\n",
       "      <td>4</td>\n",
       "      <td>2</td>\n",
       "    </tr>\n",
       "    <tr>\n",
       "      <th>Veterinary</th>\n",
       "      <td>1</td>\n",
       "      <td>0</td>\n",
       "    </tr>\n",
       "    <tr>\n",
       "      <th>Wealth Management</th>\n",
       "      <td>1</td>\n",
       "      <td>0</td>\n",
       "    </tr>\n",
       "    <tr>\n",
       "      <th>Wedding</th>\n",
       "      <td>0</td>\n",
       "      <td>1</td>\n",
       "    </tr>\n",
       "    <tr>\n",
       "      <th>Wellness</th>\n",
       "      <td>1</td>\n",
       "      <td>0</td>\n",
       "    </tr>\n",
       "  </tbody>\n",
       "</table>\n",
       "<p>154 rows × 2 columns</p>\n",
       "</div>"
      ],
      "text/plain": [
       "Amount             False  True \n",
       "Industry                       \n",
       "3D Printing            0      1\n",
       "Accounting             2      1\n",
       "Advertising            2      2\n",
       "Aerospace              1      1\n",
       "Agriculture            4      5\n",
       "...                  ...    ...\n",
       "Travel                 4      2\n",
       "Veterinary             1      0\n",
       "Wealth Management      1      0\n",
       "Wedding                0      1\n",
       "Wellness               1      0\n",
       "\n",
       "[154 rows x 2 columns]"
      ]
     },
     "execution_count": 45,
     "metadata": {},
     "output_type": "execute_result"
    }
   ],
   "source": [
    "# creating the contingency table\n",
    "\n",
    "conting_table = pd.crosstab(df['Industry'], df['Amount'].isnull())\n",
    "conting_table"
   ]
  },
  {
   "cell_type": "markdown",
   "metadata": {},
   "source": [
    " now let's Perform the chi-square test: \n",
    "\n",
    " Using the chi2_contingency() function from the scipy.stats module we will perform the chi-square test. This function calculates the chi-square statistic, p-value, degrees of freedom, and expected frequencies."
   ]
  },
  {
   "cell_type": "code",
   "execution_count": 46,
   "metadata": {},
   "outputs": [
    {
     "data": {
      "text/plain": [
       "0.2887474177533935"
      ]
     },
     "execution_count": 46,
     "metadata": {},
     "output_type": "execute_result"
    }
   ],
   "source": [
    "# below we are performing the chi-square test\n",
    "chi2, p_value, _,_ = chi2_contingency(conting_table)\n",
    "p_value"
   ]
  },
  {
   "attachments": {},
   "cell_type": "markdown",
   "metadata": {},
   "source": [
    "Interpreting the results:\n",
    "\n",
    "Checking the p-value obtained from the chi-square test.\n",
    "\n",
    "If the p-value is below our chosen significance level (in this case 0.05), we can reject the null hypothesis and conclude that there is a significant association between the missing values in the \"Amount\" column and the \"Sector\" column. If the p-value is above the significance level, we fail to reject the null hypothesis."
   ]
  },
  {
   "cell_type": "code",
   "execution_count": 47,
   "metadata": {},
   "outputs": [
    {
     "name": "stdout",
     "output_type": "stream",
     "text": [
      "There is no significant association between the missing values in the 'Amount' column and the 'Sector' column.\n"
     ]
    }
   ],
   "source": [
    "# we are interpretting the chi-sqaure test \n",
    "significance_level = 0.05\n",
    "\n",
    "if p_value < significance_level:\n",
    "    print(\"There is a significant association between the missing values in the 'Amount' column and the 'Sector' column.\")\n",
    "else:\n",
    "    print(\"There is no significant association between the missing values in the 'Amount' column and the 'Sector' column.\")\n"
   ]
  },
  {
   "attachments": {},
   "cell_type": "markdown",
   "metadata": {},
   "source": [
    "From the above output we can drop this approach to fill in the missing values \n",
    "\n",
    "THE NEXT APPROACH IS TO USE THE: \n",
    "\n",
    "\n",
    "Missing Data Patterns: \n",
    "\n",
    "We will analyze the patterns of missing values in the 'Amount' column and other relevant columns, in our case the 'Amount', 'Sector', 'Stage', 'Location' If the missing values are missing completely at random (MCAR) or missing at random (MAR), it may indicate that imputation methods like median imputation could be suitable."
   ]
  },
  {
   "attachments": {},
   "cell_type": "markdown",
   "metadata": {},
   "source": [
    "1. MISSING DATA HEAT MAP"
   ]
  },
  {
   "cell_type": "code",
   "execution_count": 48,
   "metadata": {},
   "outputs": [
    {
     "data": {
      "image/png": "[encoded data removed]",
      "text/plain": [
       "<Figure size 640x480 with 1 Axes>"
      ]
     },
     "metadata": {},
     "output_type": "display_data"
    }
   ],
   "source": [
    "# creating a subset of the relevant columns\n",
    "rele_col = ['Amount', 'Industry', 'Round/Series', 'Location']\n",
    "\n",
    "# creating a dataframe with missing value indicator \n",
    "missing_indicator_df = df[rele_col].isnull()\n",
    "\n",
    "# below we are creating a missing data heat map\n",
    "sns.heatmap(missing_indicator_df, cmap='viridis', cbar=False)\n",
    "plt.title('Missing Data Map')\n",
    "plt.show()"
   ]
  },
  {
   "attachments": {},
   "cell_type": "markdown",
   "metadata": {},
   "source": [
    "The information from the above supports the assumption that the missing values in the 'Amount' column are missing completely at random (MCAR) or missing at random (MAR). This means that the missingness is unrelated to the 'Sector', 'Location', or 'Stage' variables.\n",
    "\n",
    "Based on this pattern of missingness, median imputation could be a reasonable option to impute the missing values in the 'Amount' column."
   ]
  },
  {
   "attachments": {},
   "cell_type": "markdown",
   "metadata": {},
   "source": [
    "NOW LET'S IMPUTE THE MISSING VALUES USING THE MEDIAN IMPUTATION "
   ]
  },
  {
   "cell_type": "code",
   "execution_count": 49,
   "metadata": {},
   "outputs": [],
   "source": [
    "# we are creating the median of the not missing values \n",
    "median_non_null_Amount = df['Amount'].dropna()\n",
    "\n",
    "median_Amount = median_non_null_Amount.median() \n",
    "\n",
    "# below we are filling in the missing values with the median \n",
    "df['Amount'].fillna(median_Amount, inplace=True)"
   ]
  },
  {
   "attachments": {},
   "cell_type": "markdown",
   "metadata": {},
   "source": [
    "NOW LET'S CONFRIM THE AMOUNT FOR MISSING VALUES AGAIN "
   ]
  },
  {
   "cell_type": "code",
   "execution_count": 50,
   "metadata": {},
   "outputs": [
    {
     "data": {
      "text/plain": [
       "0"
      ]
     },
     "execution_count": 50,
     "metadata": {},
     "output_type": "execute_result"
    }
   ],
   "source": [
    "df['Amount'].isnull().sum() # checking for null values "
   ]
  },
  {
   "cell_type": "markdown",
   "metadata": {},
   "source": [
    "## Clean categorical Data"
   ]
  },
  {
   "cell_type": "code",
   "execution_count": 51,
   "metadata": {},
   "outputs": [],
   "source": [
    "# Clean Company Name column\n",
    "df['Company Name'] = df['Company Name'].str.strip()  # Remove leading and trailing spaces\n",
    "df['Company Name'] = df['Company Name'].str.title()  # Standardize capitalization\n",
    "\n",
    "# Clean About Company column\n",
    "df['About Company'] = df['About Company'].str.strip()  # Remove leading and trailing spaces\n",
    "\n",
    "# Function to handle special characters or encoding issues\n",
    "def clean_text(text):\n",
    "    # Remove special characters using regex\n",
    "    cleaned_text = re.sub(r\"[^a-zA-Z0-9\\s]\", \"\", text)\n",
    "    return cleaned_text\n",
    "\n",
    "# Apply the clean_text function to the About Company column\n",
    "df['About Company'] = df['About Company'].apply(clean_text)"
   ]
  },
  {
   "cell_type": "code",
   "execution_count": 52,
   "metadata": {},
   "outputs": [
    {
     "data": {
      "text/plain": [
       "Index(['Company Name', 'Industry', 'Round/Series', 'Amount', 'Location',\n",
       "       'About Company'],\n",
       "      dtype='object')"
      ]
     },
     "execution_count": 52,
     "metadata": {},
     "output_type": "execute_result"
    }
   ],
   "source": [
    "df.columns # checking the columns"
   ]
  },
  {
   "cell_type": "code",
   "execution_count": 53,
   "metadata": {},
   "outputs": [],
   "source": [
    "df.insert(6,\"Funding Year\", 2018) # inserting a new column 'startup_funding 2018' to keep track of this data set"
   ]
  },
  {
   "cell_type": "code",
   "execution_count": 54,
   "metadata": {},
   "outputs": [],
   "source": [
    "# below are renaming the columns to ensure consistency when combining the four data sets \n",
    "\n",
    "df.rename(columns = {'Company Name':'Company',\n",
    "                        'Industry':'Sector',\n",
    "                        'Amount':'Amount',\n",
    "                        'About Company':'About',\n",
    "                        'Round/Series' : 'Stage'},\n",
    "             inplace = True)"
   ]
  },
  {
   "cell_type": "code",
   "execution_count": 55,
   "metadata": {},
   "outputs": [
    {
     "data": {
      "text/html": [
       "<div>\n",
       "<style scoped>\n",
       "    .dataframe tbody tr th:only-of-type {\n",
       "        vertical-align: middle;\n",
       "    }\n",
       "\n",
       "    .dataframe tbody tr th {\n",
       "        vertical-align: top;\n",
       "    }\n",
       "\n",
       "    .dataframe thead th {\n",
       "        text-align: right;\n",
       "    }\n",
       "</style>\n",
       "<table border=\"1\" class=\"dataframe\">\n",
       "  <thead>\n",
       "    <tr style=\"text-align: right;\">\n",
       "      <th></th>\n",
       "      <th>Company</th>\n",
       "      <th>Sector</th>\n",
       "      <th>Stage</th>\n",
       "      <th>Amount</th>\n",
       "      <th>Location</th>\n",
       "      <th>About</th>\n",
       "      <th>Funding Year</th>\n",
       "    </tr>\n",
       "  </thead>\n",
       "  <tbody>\n",
       "    <tr>\n",
       "      <th>0</th>\n",
       "      <td>Thecollegefever</td>\n",
       "      <td>Brand Marketing</td>\n",
       "      <td>Seed</td>\n",
       "      <td>250000.0</td>\n",
       "      <td>Bengaluru</td>\n",
       "      <td>TheCollegeFever is a hub for fun fiesta and fr...</td>\n",
       "      <td>2018</td>\n",
       "    </tr>\n",
       "    <tr>\n",
       "      <th>1</th>\n",
       "      <td>Happy Cow Dairy</td>\n",
       "      <td>Agriculture</td>\n",
       "      <td>Seed</td>\n",
       "      <td>584000.0</td>\n",
       "      <td>Mumbai</td>\n",
       "      <td>A startup which aggregates milk from dairy far...</td>\n",
       "      <td>2018</td>\n",
       "    </tr>\n",
       "    <tr>\n",
       "      <th>2</th>\n",
       "      <td>Myloancare</td>\n",
       "      <td>Credit</td>\n",
       "      <td>Series A</td>\n",
       "      <td>949000.0</td>\n",
       "      <td>Gurugram</td>\n",
       "      <td>Leading Online Loans Marketplace in India</td>\n",
       "      <td>2018</td>\n",
       "    </tr>\n",
       "    <tr>\n",
       "      <th>3</th>\n",
       "      <td>Payme India</td>\n",
       "      <td>Financial Services</td>\n",
       "      <td>Angel</td>\n",
       "      <td>2000000.0</td>\n",
       "      <td>Noida</td>\n",
       "      <td>PayMe India is an innovative FinTech organizat...</td>\n",
       "      <td>2018</td>\n",
       "    </tr>\n",
       "    <tr>\n",
       "      <th>4</th>\n",
       "      <td>Eunimart</td>\n",
       "      <td>E-Commerce Platforms</td>\n",
       "      <td>Seed</td>\n",
       "      <td>1300000.0</td>\n",
       "      <td>Hyderabad</td>\n",
       "      <td>Eunimart is a one stop solution for merchants ...</td>\n",
       "      <td>2018</td>\n",
       "    </tr>\n",
       "  </tbody>\n",
       "</table>\n",
       "</div>"
      ],
      "text/plain": [
       "           Company                Sector     Stage     Amount   Location   \n",
       "0  Thecollegefever       Brand Marketing      Seed   250000.0  Bengaluru  \\\n",
       "1  Happy Cow Dairy           Agriculture      Seed   584000.0     Mumbai   \n",
       "2       Myloancare                Credit  Series A   949000.0   Gurugram   \n",
       "3      Payme India    Financial Services     Angel  2000000.0      Noida   \n",
       "4         Eunimart  E-Commerce Platforms      Seed  1300000.0  Hyderabad   \n",
       "\n",
       "                                               About  Funding Year  \n",
       "0  TheCollegeFever is a hub for fun fiesta and fr...          2018  \n",
       "1  A startup which aggregates milk from dairy far...          2018  \n",
       "2          Leading Online Loans Marketplace in India          2018  \n",
       "3  PayMe India is an innovative FinTech organizat...          2018  \n",
       "4  Eunimart is a one stop solution for merchants ...          2018  "
      ]
     },
     "execution_count": 55,
     "metadata": {},
     "output_type": "execute_result"
    }
   ],
   "source": [
    "df.head() # finally confirming the head of the data to be sure of all changes before saving the data"
   ]
  },
  {
   "cell_type": "code",
   "execution_count": 56,
   "metadata": {},
   "outputs": [],
   "source": [
    "df.to_csv('df_2018.csv', index=False) # here we are saveing the clean data and naming it df18.csv"
   ]
  },
  {
   "attachments": {},
   "cell_type": "markdown",
   "metadata": {},
   "source": [
    "## 2019 Data"
   ]
  },
  {
   "cell_type": "code",
   "execution_count": 57,
   "metadata": {},
   "outputs": [
    {
     "data": {
      "text/html": [
       "<div>\n",
       "<style scoped>\n",
       "    .dataframe tbody tr th:only-of-type {\n",
       "        vertical-align: middle;\n",
       "    }\n",
       "\n",
       "    .dataframe tbody tr th {\n",
       "        vertical-align: top;\n",
       "    }\n",
       "\n",
       "    .dataframe thead th {\n",
       "        text-align: right;\n",
       "    }\n",
       "</style>\n",
       "<table border=\"1\" class=\"dataframe\">\n",
       "  <thead>\n",
       "    <tr style=\"text-align: right;\">\n",
       "      <th></th>\n",
       "      <th>Company</th>\n",
       "      <th>Sector</th>\n",
       "      <th>Stage</th>\n",
       "      <th>Amount</th>\n",
       "      <th>Location</th>\n",
       "      <th>About</th>\n",
       "      <th>Funding Year</th>\n",
       "    </tr>\n",
       "  </thead>\n",
       "  <tbody>\n",
       "    <tr>\n",
       "      <th>0</th>\n",
       "      <td>Thecollegefever</td>\n",
       "      <td>Brand Marketing</td>\n",
       "      <td>Seed</td>\n",
       "      <td>250000.0</td>\n",
       "      <td>Bengaluru</td>\n",
       "      <td>TheCollegeFever is a hub for fun fiesta and fr...</td>\n",
       "      <td>2018</td>\n",
       "    </tr>\n",
       "    <tr>\n",
       "      <th>1</th>\n",
       "      <td>Happy Cow Dairy</td>\n",
       "      <td>Agriculture</td>\n",
       "      <td>Seed</td>\n",
       "      <td>584000.0</td>\n",
       "      <td>Mumbai</td>\n",
       "      <td>A startup which aggregates milk from dairy far...</td>\n",
       "      <td>2018</td>\n",
       "    </tr>\n",
       "    <tr>\n",
       "      <th>2</th>\n",
       "      <td>Myloancare</td>\n",
       "      <td>Credit</td>\n",
       "      <td>Series A</td>\n",
       "      <td>949000.0</td>\n",
       "      <td>Gurugram</td>\n",
       "      <td>Leading Online Loans Marketplace in India</td>\n",
       "      <td>2018</td>\n",
       "    </tr>\n",
       "    <tr>\n",
       "      <th>3</th>\n",
       "      <td>Payme India</td>\n",
       "      <td>Financial Services</td>\n",
       "      <td>Angel</td>\n",
       "      <td>2000000.0</td>\n",
       "      <td>Noida</td>\n",
       "      <td>PayMe India is an innovative FinTech organizat...</td>\n",
       "      <td>2018</td>\n",
       "    </tr>\n",
       "    <tr>\n",
       "      <th>4</th>\n",
       "      <td>Eunimart</td>\n",
       "      <td>E-Commerce Platforms</td>\n",
       "      <td>Seed</td>\n",
       "      <td>1300000.0</td>\n",
       "      <td>Hyderabad</td>\n",
       "      <td>Eunimart is a one stop solution for merchants ...</td>\n",
       "      <td>2018</td>\n",
       "    </tr>\n",
       "  </tbody>\n",
       "</table>\n",
       "</div>"
      ],
      "text/plain": [
       "           Company                Sector     Stage     Amount   Location   \n",
       "0  Thecollegefever       Brand Marketing      Seed   250000.0  Bengaluru  \\\n",
       "1  Happy Cow Dairy           Agriculture      Seed   584000.0     Mumbai   \n",
       "2       Myloancare                Credit  Series A   949000.0   Gurugram   \n",
       "3      Payme India    Financial Services     Angel  2000000.0      Noida   \n",
       "4         Eunimart  E-Commerce Platforms      Seed  1300000.0  Hyderabad   \n",
       "\n",
       "                                               About  Funding Year  \n",
       "0  TheCollegeFever is a hub for fun fiesta and fr...          2018  \n",
       "1  A startup which aggregates milk from dairy far...          2018  \n",
       "2          Leading Online Loans Marketplace in India          2018  \n",
       "3  PayMe India is an innovative FinTech organizat...          2018  \n",
       "4  Eunimart is a one stop solution for merchants ...          2018  "
      ]
     },
     "execution_count": 57,
     "metadata": {},
     "output_type": "execute_result"
    }
   ],
   "source": [
    "df2.head()"
   ]
  },
  {
   "cell_type": "code",
   "execution_count": 60,
   "metadata": {},
   "outputs": [
    {
     "data": {
      "text/plain": [
       "(89, 9)"
      ]
     },
     "execution_count": 60,
     "metadata": {},
     "output_type": "execute_result"
    }
   ],
   "source": [
    "df2.shape"
   ]
  },
  {
   "cell_type": "code",
   "execution_count": 61,
   "metadata": {},
   "outputs": [
    {
     "data": {
      "text/plain": [
       "Index(['Company/Brand', 'Founded', 'HeadQuarter', 'Sector', 'What it does',\n",
       "       'Founders', 'Investor', 'Amount($)', 'Stage'],\n",
       "      dtype='object')"
      ]
     },
     "execution_count": 61,
     "metadata": {},
     "output_type": "execute_result"
    }
   ],
   "source": [
    "df2.columns"
   ]
  },
  {
   "cell_type": "code",
   "execution_count": 62,
   "metadata": {},
   "outputs": [
    {
     "name": "stdout",
     "output_type": "stream",
     "text": [
      "<class 'pandas.core.frame.DataFrame'>\n",
      "RangeIndex: 89 entries, 0 to 88\n",
      "Data columns (total 9 columns):\n",
      " #   Column         Non-Null Count  Dtype  \n",
      "---  ------         --------------  -----  \n",
      " 0   Company/Brand  89 non-null     object \n",
      " 1   Founded        60 non-null     float64\n",
      " 2   HeadQuarter    70 non-null     object \n",
      " 3   Sector         84 non-null     object \n",
      " 4   What it does   89 non-null     object \n",
      " 5   Founders       86 non-null     object \n",
      " 6   Investor       89 non-null     object \n",
      " 7   Amount($)      89 non-null     object \n",
      " 8   Stage          43 non-null     object \n",
      "dtypes: float64(1), object(8)\n",
      "memory usage: 6.4+ KB\n"
     ]
    }
   ],
   "source": [
    "df2.info()"
   ]
  },
  {
   "cell_type": "code",
   "execution_count": 63,
   "metadata": {},
   "outputs": [
    {
     "data": {
      "text/html": [
       "<div>\n",
       "<style scoped>\n",
       "    .dataframe tbody tr th:only-of-type {\n",
       "        vertical-align: middle;\n",
       "    }\n",
       "\n",
       "    .dataframe tbody tr th {\n",
       "        vertical-align: top;\n",
       "    }\n",
       "\n",
       "    .dataframe thead th {\n",
       "        text-align: right;\n",
       "    }\n",
       "</style>\n",
       "<table border=\"1\" class=\"dataframe\">\n",
       "  <thead>\n",
       "    <tr style=\"text-align: right;\">\n",
       "      <th></th>\n",
       "      <th>count</th>\n",
       "      <th>unique</th>\n",
       "      <th>top</th>\n",
       "      <th>freq</th>\n",
       "    </tr>\n",
       "  </thead>\n",
       "  <tbody>\n",
       "    <tr>\n",
       "      <th>Company/Brand</th>\n",
       "      <td>89</td>\n",
       "      <td>87</td>\n",
       "      <td>Kratikal</td>\n",
       "      <td>2</td>\n",
       "    </tr>\n",
       "    <tr>\n",
       "      <th>HeadQuarter</th>\n",
       "      <td>70</td>\n",
       "      <td>17</td>\n",
       "      <td>Bangalore</td>\n",
       "      <td>21</td>\n",
       "    </tr>\n",
       "    <tr>\n",
       "      <th>Sector</th>\n",
       "      <td>84</td>\n",
       "      <td>52</td>\n",
       "      <td>Edtech</td>\n",
       "      <td>7</td>\n",
       "    </tr>\n",
       "    <tr>\n",
       "      <th>What it does</th>\n",
       "      <td>89</td>\n",
       "      <td>88</td>\n",
       "      <td>Online meat shop</td>\n",
       "      <td>2</td>\n",
       "    </tr>\n",
       "    <tr>\n",
       "      <th>Founders</th>\n",
       "      <td>86</td>\n",
       "      <td>85</td>\n",
       "      <td>Vivek Gupta, Abhay Hanjura</td>\n",
       "      <td>2</td>\n",
       "    </tr>\n",
       "    <tr>\n",
       "      <th>Investor</th>\n",
       "      <td>89</td>\n",
       "      <td>86</td>\n",
       "      <td>Undisclosed</td>\n",
       "      <td>3</td>\n",
       "    </tr>\n",
       "    <tr>\n",
       "      <th>Amount($)</th>\n",
       "      <td>89</td>\n",
       "      <td>50</td>\n",
       "      <td>Undisclosed</td>\n",
       "      <td>12</td>\n",
       "    </tr>\n",
       "    <tr>\n",
       "      <th>Stage</th>\n",
       "      <td>43</td>\n",
       "      <td>15</td>\n",
       "      <td>Series A</td>\n",
       "      <td>10</td>\n",
       "    </tr>\n",
       "  </tbody>\n",
       "</table>\n",
       "</div>"
      ],
      "text/plain": [
       "              count unique                         top freq\n",
       "Company/Brand    89     87                    Kratikal    2\n",
       "HeadQuarter      70     17                   Bangalore   21\n",
       "Sector           84     52                      Edtech    7\n",
       "What it does     89     88            Online meat shop    2\n",
       "Founders         86     85  Vivek Gupta, Abhay Hanjura    2\n",
       "Investor         89     86                 Undisclosed    3\n",
       "Amount($)        89     50                 Undisclosed   12\n",
       "Stage            43     15                    Series A   10"
      ]
     },
     "execution_count": 63,
     "metadata": {},
     "output_type": "execute_result"
    }
   ],
   "source": [
    "df2.describe(include='object').T   # getting General descriptive statistics of the data2 dataFrame"
   ]
  },
  {
   "attachments": {},
   "cell_type": "markdown",
   "metadata": {},
   "source": [
    "### Handling Duplicated Data"
   ]
  },
  {
   "cell_type": "code",
   "execution_count": 64,
   "metadata": {},
   "outputs": [
    {
     "name": "stdout",
     "output_type": "stream",
     "text": [
      "Company/Brand: True\n",
      "Founded: True\n",
      "HeadQuarter: True\n",
      "Sector: True\n",
      "What it does: True\n",
      "Founders: True\n",
      "Investor: True\n",
      "Amount($): True\n",
      "Stage: True\n"
     ]
    }
   ],
   "source": [
    "# below we are checking for duplicated values within the columns \n",
    "\n",
    "columns_to_check2 = ['Company/Brand', 'Founded', 'HeadQuarter', 'Sector', 'What it does', 'Founders', 'Investor', 'Amount($)', 'Stage',]\n",
    "\n",
    "for column2 in columns_to_check2:\n",
    "    has_duplicates2 = df2[column2].duplicated().any()\n",
    "    print(f'{column2}: {has_duplicates2}')"
   ]
  },
  {
   "cell_type": "code",
   "execution_count": 65,
   "metadata": {},
   "outputs": [],
   "source": [
    "# below we are dropping all the duplicated rows within the colums\n",
    "\n",
    "df2.drop_duplicates(subset=['Company/Brand', 'Founded', 'HeadQuarter', 'Sector', 'What it does', 'Founders', 'Investor', 'Amount($)', 'Stage',], inplace=True)"
   ]
  },
  {
   "attachments": {},
   "cell_type": "markdown",
   "metadata": {},
   "source": [
    "now we have some description about the data set, we can now move on with data cleaning\n",
    " \n",
    "Check  MISSING VALUES "
   ]
  },
  {
   "cell_type": "code",
   "execution_count": 66,
   "metadata": {},
   "outputs": [
    {
     "data": {
      "text/plain": [
       "Company/Brand     0\n",
       "Founded          29\n",
       "HeadQuarter      19\n",
       "Sector            5\n",
       "What it does      0\n",
       "Founders          3\n",
       "Investor          0\n",
       "Amount($)         0\n",
       "Stage            46\n",
       "dtype: int64"
      ]
     },
     "execution_count": 66,
     "metadata": {},
     "output_type": "execute_result"
    }
   ],
   "source": [
    "missing_values2 = df2.isnull().sum() # looking for missing values in dataFrame 2\n",
    "missing_values2"
   ]
  },
  {
   "attachments": {},
   "cell_type": "markdown",
   "metadata": {},
   "source": [
    "LET'S DEAL WITH THE MISSING VALUES FROM THE ABOVE OUTPUT\n",
    "\n",
    "### HeadQuarter Column\n",
    "\n",
    "### The company/Brand Column has actual data from existing startups. The null Headquarter values can be filled by searching the HeadQuarters on Google"
   ]
  },
  {
   "cell_type": "code",
   "execution_count": 67,
   "metadata": {},
   "outputs": [],
   "source": [
    "#fillna values in HeadQuarter column\n",
    "\n",
    "# using google we are able to get accurate info about the Company's headquater\n",
    "\n",
    "df2.loc[df2['Company/Brand'] == 'Bombay Shaving', 'HeadQuarter'] = 'Gurugram'\n",
    "df2.loc[df2['Company/Brand'] == 'Quantiphi', 'HeadQuarter'] = 'Marlborough'\n",
    "df2.loc[df2['Company/Brand'] == 'Open Secret', 'HeadQuarter'] = 'Mumbai'\n",
    "df2.loc[df2['Company/Brand'] == \"Byju's\", 'HeadQuarter'] = 'Bengaluru'\n",
    "df2.loc[df2['Company/Brand'] == \"Witblox\", 'HeadQuarter'] = 'Mumbai'\n",
    "df2.loc[df2['Company/Brand'] == \"SalaryFits\", 'HeadQuarter'] = 'London'\n",
    "df2.loc[df2['Company/Brand'] == \"Pristyn Care\", 'HeadQuarter'] = 'Gurgaon'\n",
    "df2.loc[df2['Company/Brand'] == \"Springboard\", 'HeadQuarter'] = 'Bengaluru'\n",
    "df2.loc[df2['Company/Brand'] == \"Fireflies .ai\", 'HeadQuarter'] = 'San Francisco'\n",
    "df2.loc[df2['Company/Brand'] == \"Bijak\", 'HeadQuarter'] = 'New Delhi'\n",
    "df2.loc[df2['Company/Brand'] == \"truMe\", 'HeadQuarter'] = 'Gurugram'\n",
    "df2.loc[df2['Company/Brand'] == \"Rivigo\", 'HeadQuarter'] = 'Gurgaon'\n",
    "df2.loc[df2['Company/Brand'] == \"VMate\", 'HeadQuarter'] = 'Gurgaon'\n",
    "df2.loc[df2['Company/Brand'] == \"Slintel\", 'HeadQuarter'] = 'California'\n",
    "df2.loc[df2['Company/Brand'] == \"Ninjacart\", 'HeadQuarter'] = 'Bengaluru'\n",
    "df2.loc[df2['Company/Brand'] == \"Zebu\", 'HeadQuarter'] = 'London'\n",
    "df2.loc[df2['Company/Brand'] == \"Phable\", 'HeadQuarter'] = 'Bengaluru'\n",
    "df2.loc[df2['Company/Brand'] == \"Zolostays\", 'HeadQuarter'] = 'Bengaluru'\n",
    "df2.loc[df2['Company/Brand'] == 'Cubical Labs', 'HeadQuarter'] = 'New Delhi'\n"
   ]
  },
  {
   "cell_type": "code",
   "execution_count": 68,
   "metadata": {},
   "outputs": [],
   "source": [
    "# below we are replacing some names within the columns with their official names.\n",
    "# This ensures uniformity of the names\n",
    "\n",
    "df2.loc[~df2['HeadQuarter'].str.contains('New Delhi', na=False), 'HeadQuarter'] = df2['HeadQuarter'].str.replace('Delhi', 'New Delhi')\n",
    "df2[\"HeadQuarter\"] = df2[\"HeadQuarter\"].replace (['Bangalore','Bangalore City'], 'Bengaluru')\n",
    "df2['HeadQuarter'] = df2['HeadQuarter'].replace (['Gurgaon'], 'Gurugram')"
   ]
  },
  {
   "cell_type": "code",
   "execution_count": 69,
   "metadata": {},
   "outputs": [
    {
     "data": {
      "text/plain": [
       "0"
      ]
     },
     "execution_count": 69,
     "metadata": {},
     "output_type": "execute_result"
    }
   ],
   "source": [
    "df2['HeadQuarter'].isnull().sum() #Check if all null values in HeadQuarter have been filled"
   ]
  },
  {
   "cell_type": "code",
   "execution_count": 70,
   "metadata": {},
   "outputs": [
    {
     "data": {
      "text/plain": [
       "array(['Gurugram', 'Mumbai', 'Chennai', 'Telangana', 'Pune', 'Bengaluru',\n",
       "       'Noida', 'Marlborough', 'New Delhi', 'Ahmedabad', 'London',\n",
       "       'Haryana', 'San Francisco', 'Chandigarh', 'Jaipur', 'California',\n",
       "       'Surat', 'Uttar pradesh', 'Hyderabad', 'Rajasthan'], dtype=object)"
      ]
     },
     "execution_count": 70,
     "metadata": {},
     "output_type": "execute_result"
    }
   ],
   "source": [
    "df2['HeadQuarter'].unique()"
   ]
  },
  {
   "attachments": {},
   "cell_type": "markdown",
   "metadata": {},
   "source": [
    "### Sector Column"
   ]
  },
  {
   "cell_type": "code",
   "execution_count": 71,
   "metadata": {},
   "outputs": [],
   "source": [
    "#fillna values in Sector column by Google Search\n",
    "df2.loc[df2['Company/Brand'] == 'VMate', 'Sector'] = 'Short Video Platform'\n",
    "df2.loc[df2['Company/Brand'] == 'Awign Enterprises', 'Sector'] = 'Workforce Solutions'\n",
    "df2.loc[df2['Company/Brand'] == 'TapChief', 'Sector'] = 'Online Consulting'\n",
    "df2.loc[df2['Company/Brand'] == 'KredX', 'Sector'] = 'Fintech'\n",
    "df2.loc[df2['Company/Brand'] == 'm.Paani', 'Sector'] = 'E-commerce'"
   ]
  },
  {
   "cell_type": "code",
   "execution_count": 72,
   "metadata": {},
   "outputs": [
    {
     "data": {
      "text/plain": [
       "0"
      ]
     },
     "execution_count": 72,
     "metadata": {},
     "output_type": "execute_result"
    }
   ],
   "source": [
    "df2['Sector'].isnull().sum() # confirming the null values again"
   ]
  },
  {
   "cell_type": "code",
   "execution_count": 73,
   "metadata": {},
   "outputs": [
    {
     "data": {
      "text/plain": [
       "array(['Ecommerce', 'Edtech', 'Interior design', 'AgriTech', 'Technology',\n",
       "       'SaaS', 'AI & Tech', 'E-commerce', 'E-commerce & AR', 'Fintech',\n",
       "       'HR tech', 'Food tech', 'Health', 'Healthcare', 'Safety tech',\n",
       "       'Pharmaceutical', 'Insurance technology', 'AI', 'Foodtech', 'Food',\n",
       "       'IoT', 'E-marketplace', 'Robotics & AI', 'Logistics', 'Travel',\n",
       "       'Manufacturing', 'Food & Nutrition', 'Social Media',\n",
       "       'Short Video Platform', 'E-Sports', 'Workforce Solutions',\n",
       "       'Cosmetics', 'B2B', 'Online Consulting', 'Jewellery',\n",
       "       'B2B Supply Chain', 'Games', 'Food & tech', 'Accomodation',\n",
       "       'Automotive tech', 'Legal tech', 'Mutual Funds', 'Cybersecurity',\n",
       "       'Automobile', 'Sports', 'Healthtech', 'Yoga & wellness',\n",
       "       'Virtual Banking', 'Transportation', 'Transport & Rentals',\n",
       "       'Marketing & Customer loyalty', 'Infratech', 'Hospitality',\n",
       "       'Automobile & Technology', 'Banking'], dtype=object)"
      ]
     },
     "execution_count": 73,
     "metadata": {},
     "output_type": "execute_result"
    }
   ],
   "source": [
    "df2['Sector'].unique()"
   ]
  },
  {
   "attachments": {},
   "cell_type": "markdown",
   "metadata": {},
   "source": [
    "### Stage Column"
   ]
  },
  {
   "cell_type": "code",
   "execution_count": 74,
   "metadata": {},
   "outputs": [
    {
     "data": {
      "text/plain": [
       "Stage\n",
       "Series A         10\n",
       "Pre series A      8\n",
       "Series B          8\n",
       "Series D          4\n",
       "Series C          3\n",
       "Fresh funding     1\n",
       "Series G          1\n",
       "Post series A     1\n",
       "Seed funding      1\n",
       "Seed fund         1\n",
       "Series E          1\n",
       "Series F          1\n",
       "Series B+         1\n",
       "Seed round        1\n",
       "Pre-series A      1\n",
       "Name: count, dtype: int64"
      ]
     },
     "execution_count": 74,
     "metadata": {},
     "output_type": "execute_result"
    }
   ],
   "source": [
    "df2['Stage'].value_counts() # checking for value counts in the stage column"
   ]
  },
  {
   "cell_type": "code",
   "execution_count": 75,
   "metadata": {},
   "outputs": [
    {
     "data": {
      "text/plain": [
       "array([nan, 'Series C', 'Fresh funding', 'Series D', 'Pre series A',\n",
       "       'Series A', 'Series G', 'Series B', 'Post series A',\n",
       "       'Seed funding', 'Seed fund', 'Series E', 'Series F', 'Series B+',\n",
       "       'Seed round', 'Pre-series A'], dtype=object)"
      ]
     },
     "execution_count": 75,
     "metadata": {},
     "output_type": "execute_result"
    }
   ],
   "source": [
    "df2['Stage'].unique()"
   ]
  },
  {
   "cell_type": "code",
   "execution_count": 76,
   "metadata": {},
   "outputs": [
    {
     "data": {
      "text/plain": [
       "46"
      ]
     },
     "execution_count": 76,
     "metadata": {},
     "output_type": "execute_result"
    }
   ],
   "source": [
    "df2['Stage'].isnull().sum()"
   ]
  },
  {
   "cell_type": "code",
   "execution_count": 77,
   "metadata": {},
   "outputs": [],
   "source": [
    "most_frequent_stage = df2['Stage'].mode()[0]\n",
    "df2['Stage'].fillna(most_frequent_stage, inplace=True)"
   ]
  },
  {
   "cell_type": "code",
   "execution_count": 78,
   "metadata": {},
   "outputs": [
    {
     "data": {
      "text/plain": [
       "Company/Brand     0\n",
       "Founded          29\n",
       "HeadQuarter       0\n",
       "Sector            0\n",
       "What it does      0\n",
       "Founders          3\n",
       "Investor          0\n",
       "Amount($)         0\n",
       "Stage             0\n",
       "dtype: int64"
      ]
     },
     "execution_count": 78,
     "metadata": {},
     "output_type": "execute_result"
    }
   ],
   "source": [
    "df2.isnull().sum() # let's check for null vlaues and sum them up "
   ]
  },
  {
   "attachments": {},
   "cell_type": "markdown",
   "metadata": {},
   "source": [
    "Standardizing Data Formats\n",
    "\n",
    "now let's see how we can standardize tha data set to make sure we have the same format of data points \n",
    "\n",
    "first let's check for dash symbols within the columns using a simple python function "
   ]
  },
  {
   "cell_type": "code",
   "execution_count": 79,
   "metadata": {},
   "outputs": [
    {
     "name": "stdout",
     "output_type": "stream",
     "text": [
      "Company/Brand: False\n",
      "HeadQuarter: False\n",
      "Sector: True\n",
      "What it does: True\n",
      "Amount($): False\n",
      "Stage: True\n"
     ]
    }
   ],
   "source": [
    "# checking for '-' symbol within the columns\n",
    "\n",
    "columns_to_check2 = ['Company/Brand', 'HeadQuarter', 'Sector', 'What it does', 'Amount($)', 'Stage']\n",
    "\n",
    "for column2 in columns_to_check2:\n",
    "    has_dash_symbols2 = df2[column2].astype(str).str.contains('-').any()\n",
    "    print(f'{column2}: {has_dash_symbols2}')"
   ]
  },
  {
   "cell_type": "code",
   "execution_count": 80,
   "metadata": {},
   "outputs": [
    {
     "data": {
      "text/html": [
       "<div>\n",
       "<style scoped>\n",
       "    .dataframe tbody tr th:only-of-type {\n",
       "        vertical-align: middle;\n",
       "    }\n",
       "\n",
       "    .dataframe tbody tr th {\n",
       "        vertical-align: top;\n",
       "    }\n",
       "\n",
       "    .dataframe thead th {\n",
       "        text-align: right;\n",
       "    }\n",
       "</style>\n",
       "<table border=\"1\" class=\"dataframe\">\n",
       "  <thead>\n",
       "    <tr style=\"text-align: right;\">\n",
       "      <th></th>\n",
       "      <th>Company/Brand</th>\n",
       "      <th>Founded</th>\n",
       "      <th>HeadQuarter</th>\n",
       "      <th>Sector</th>\n",
       "      <th>What it does</th>\n",
       "      <th>Founders</th>\n",
       "      <th>Investor</th>\n",
       "      <th>Amount($)</th>\n",
       "      <th>Stage</th>\n",
       "    </tr>\n",
       "  </thead>\n",
       "  <tbody>\n",
       "    <tr>\n",
       "      <th>9</th>\n",
       "      <td>Lenskart</td>\n",
       "      <td>2010.0</td>\n",
       "      <td>New Delhi</td>\n",
       "      <td>E-commerce</td>\n",
       "      <td>It is a eyewear company</td>\n",
       "      <td>Peyush Bansal, Amit Chaudhary, Sumeet Kapahi</td>\n",
       "      <td>SoftBank</td>\n",
       "      <td>$275,000,000</td>\n",
       "      <td>Series G</td>\n",
       "    </tr>\n",
       "    <tr>\n",
       "      <th>10</th>\n",
       "      <td>Cub McPaws</td>\n",
       "      <td>2010.0</td>\n",
       "      <td>Mumbai</td>\n",
       "      <td>E-commerce &amp; AR</td>\n",
       "      <td>A B2C  brand that focusses on premium and comf...</td>\n",
       "      <td>Abhay Bhat, Kinnar Shah</td>\n",
       "      <td>Venture Catalysts</td>\n",
       "      <td>Undisclosed</td>\n",
       "      <td>Series A</td>\n",
       "    </tr>\n",
       "    <tr>\n",
       "      <th>32</th>\n",
       "      <td>Pumpkart</td>\n",
       "      <td>2014.0</td>\n",
       "      <td>Chandigarh</td>\n",
       "      <td>E-marketplace</td>\n",
       "      <td>B2B model for appliances and electrical products</td>\n",
       "      <td>KS Bhatia</td>\n",
       "      <td>Dinesh Dua</td>\n",
       "      <td>Undisclosed</td>\n",
       "      <td>Series A</td>\n",
       "    </tr>\n",
       "    <tr>\n",
       "      <th>38</th>\n",
       "      <td>Freshokartz</td>\n",
       "      <td>2016.0</td>\n",
       "      <td>Jaipur</td>\n",
       "      <td>E-marketplace</td>\n",
       "      <td>Online fruits and vegetables delivery company</td>\n",
       "      <td>Rajendra Lora</td>\n",
       "      <td>ThinkLab</td>\n",
       "      <td>$150,000</td>\n",
       "      <td>Pre series A</td>\n",
       "    </tr>\n",
       "    <tr>\n",
       "      <th>42</th>\n",
       "      <td>Bombay Shirt Company</td>\n",
       "      <td>2012.0</td>\n",
       "      <td>Mumbai</td>\n",
       "      <td>E-commerce</td>\n",
       "      <td>Online custom shirt brand</td>\n",
       "      <td>Akshay Narvekar</td>\n",
       "      <td>Lightbox Ventures</td>\n",
       "      <td>$8,000,000</td>\n",
       "      <td>Series A</td>\n",
       "    </tr>\n",
       "    <tr>\n",
       "      <th>44</th>\n",
       "      <td>MyGameMate</td>\n",
       "      <td>NaN</td>\n",
       "      <td>Bengaluru</td>\n",
       "      <td>E-Sports</td>\n",
       "      <td>eSports platform where players can access vari...</td>\n",
       "      <td>Parshavv Jain&amp; Raju Kushwaha</td>\n",
       "      <td>Jindagi Live Angels,</td>\n",
       "      <td>$100,000</td>\n",
       "      <td>Series A</td>\n",
       "    </tr>\n",
       "    <tr>\n",
       "      <th>57</th>\n",
       "      <td>m.Paani</td>\n",
       "      <td>NaN</td>\n",
       "      <td>Mumbai</td>\n",
       "      <td>E-commerce</td>\n",
       "      <td>It digitizes and organises local retailers</td>\n",
       "      <td>Akanksha Hazari</td>\n",
       "      <td>AC Ventures, Henkel</td>\n",
       "      <td>$5,500,000</td>\n",
       "      <td>Series A</td>\n",
       "    </tr>\n",
       "    <tr>\n",
       "      <th>64</th>\n",
       "      <td>Moms Co</td>\n",
       "      <td>NaN</td>\n",
       "      <td>New Delhi</td>\n",
       "      <td>E-commerce</td>\n",
       "      <td>It is into mother and baby care-focused consum...</td>\n",
       "      <td>Malika Sadani</td>\n",
       "      <td>Saama Capital, DSG Consumer Partners</td>\n",
       "      <td>$5,000,000</td>\n",
       "      <td>Series B</td>\n",
       "    </tr>\n",
       "  </tbody>\n",
       "</table>\n",
       "</div>"
      ],
      "text/plain": [
       "           Company/Brand  Founded HeadQuarter           Sector   \n",
       "9               Lenskart   2010.0   New Delhi       E-commerce  \\\n",
       "10            Cub McPaws   2010.0      Mumbai  E-commerce & AR   \n",
       "32              Pumpkart   2014.0  Chandigarh    E-marketplace   \n",
       "38           Freshokartz   2016.0      Jaipur    E-marketplace   \n",
       "42  Bombay Shirt Company   2012.0      Mumbai       E-commerce   \n",
       "44            MyGameMate      NaN   Bengaluru         E-Sports   \n",
       "57               m.Paani      NaN      Mumbai       E-commerce   \n",
       "64               Moms Co      NaN   New Delhi       E-commerce   \n",
       "\n",
       "                                         What it does   \n",
       "9                             It is a eyewear company  \\\n",
       "10  A B2C  brand that focusses on premium and comf...   \n",
       "32   B2B model for appliances and electrical products   \n",
       "38      Online fruits and vegetables delivery company   \n",
       "42                          Online custom shirt brand   \n",
       "44  eSports platform where players can access vari...   \n",
       "57         It digitizes and organises local retailers   \n",
       "64  It is into mother and baby care-focused consum...   \n",
       "\n",
       "                                        Founders   \n",
       "9   Peyush Bansal, Amit Chaudhary, Sumeet Kapahi  \\\n",
       "10                       Abhay Bhat, Kinnar Shah   \n",
       "32                                     KS Bhatia   \n",
       "38                                 Rajendra Lora   \n",
       "42                               Akshay Narvekar   \n",
       "44                  Parshavv Jain& Raju Kushwaha   \n",
       "57                               Akanksha Hazari   \n",
       "64                                 Malika Sadani   \n",
       "\n",
       "                                Investor     Amount($)         Stage  \n",
       "9                               SoftBank  $275,000,000      Series G  \n",
       "10                     Venture Catalysts   Undisclosed      Series A  \n",
       "32                            Dinesh Dua   Undisclosed      Series A  \n",
       "38                              ThinkLab      $150,000  Pre series A  \n",
       "42                     Lightbox Ventures    $8,000,000      Series A  \n",
       "44                  Jindagi Live Angels,      $100,000      Series A  \n",
       "57                   AC Ventures, Henkel    $5,500,000      Series A  \n",
       "64  Saama Capital, DSG Consumer Partners    $5,000,000      Series B  "
      ]
     },
     "execution_count": 80,
     "metadata": {},
     "output_type": "execute_result"
    }
   ],
   "source": [
    "df2[df2['Sector'].str.contains('-', na=False)]"
   ]
  },
  {
   "cell_type": "code",
   "execution_count": 81,
   "metadata": {},
   "outputs": [
    {
     "data": {
      "text/html": [
       "<div>\n",
       "<style scoped>\n",
       "    .dataframe tbody tr th:only-of-type {\n",
       "        vertical-align: middle;\n",
       "    }\n",
       "\n",
       "    .dataframe tbody tr th {\n",
       "        vertical-align: top;\n",
       "    }\n",
       "\n",
       "    .dataframe thead th {\n",
       "        text-align: right;\n",
       "    }\n",
       "</style>\n",
       "<table border=\"1\" class=\"dataframe\">\n",
       "  <thead>\n",
       "    <tr style=\"text-align: right;\">\n",
       "      <th></th>\n",
       "      <th>Company/Brand</th>\n",
       "      <th>Founded</th>\n",
       "      <th>HeadQuarter</th>\n",
       "      <th>Sector</th>\n",
       "      <th>What it does</th>\n",
       "      <th>Founders</th>\n",
       "      <th>Investor</th>\n",
       "      <th>Amount($)</th>\n",
       "      <th>Stage</th>\n",
       "    </tr>\n",
       "  </thead>\n",
       "  <tbody>\n",
       "    <tr>\n",
       "      <th>82</th>\n",
       "      <td>Kratikal</td>\n",
       "      <td>NaN</td>\n",
       "      <td>Uttar pradesh</td>\n",
       "      <td>Technology</td>\n",
       "      <td>Provides cyber security solutions</td>\n",
       "      <td>Pavan Kushwaha</td>\n",
       "      <td>Gilda VC, Art Venture, Rajeev Chitrabhanu</td>\n",
       "      <td>$1,000,000</td>\n",
       "      <td>Pre-series A</td>\n",
       "    </tr>\n",
       "  </tbody>\n",
       "</table>\n",
       "</div>"
      ],
      "text/plain": [
       "   Company/Brand  Founded    HeadQuarter      Sector   \n",
       "82      Kratikal      NaN  Uttar pradesh  Technology  \\\n",
       "\n",
       "                         What it does        Founders   \n",
       "82  Provides cyber security solutions  Pavan Kushwaha  \\\n",
       "\n",
       "                                     Investor   Amount($)         Stage  \n",
       "82  Gilda VC, Art Venture, Rajeev Chitrabhanu  $1,000,000  Pre-series A  "
      ]
     },
     "execution_count": 81,
     "metadata": {},
     "output_type": "execute_result"
    }
   ],
   "source": [
    "df2[df2['Stage'].str.contains('-', na=False)]"
   ]
  },
  {
   "cell_type": "code",
   "execution_count": 82,
   "metadata": {},
   "outputs": [
    {
     "name": "stdout",
     "output_type": "stream",
     "text": [
      "Company/Brand: False\n",
      "HeadQuarter: False\n",
      "Sector: False\n",
      "What it does: False\n",
      "Amount($): True\n"
     ]
    }
   ],
   "source": [
    "# checking for currency symbol \n",
    "\n",
    "columns_to_check2 = ['Company/Brand','HeadQuarter', 'Sector', 'What it does', 'Amount($)']\n",
    "\n",
    "for column2 in columns_to_check2:\n",
    "    has_currency_symbols = df2[column2].astype(str).str.contains('[$₹]').any()\n",
    "    print(f'{column2}: {has_currency_symbols}')"
   ]
  },
  {
   "attachments": {},
   "cell_type": "markdown",
   "metadata": {},
   "source": [
    "### Amount Column\n",
    "\n",
    "### Clean and format the amount the column correctly "
   ]
  },
  {
   "cell_type": "code",
   "execution_count": 83,
   "metadata": {},
   "outputs": [
    {
     "data": {
      "text/plain": [
       "array(['$6,300,000', '$150,000,000', '$28,000,000', '$30,000,000',\n",
       "       '$6,000,000', 'Undisclosed', '$1,000,000', '$20,000,000',\n",
       "       '$275,000,000', '$22,000,000', '$5,000,000', '$140,500',\n",
       "       '$540,000,000', '$15,000,000', '$182,700', '$12,000,000',\n",
       "       '$11,000,000', '$15,500,000', '$1,500,000', '$5,500,000',\n",
       "       '$2,500,000', '$140,000', '$230,000,000', '$49,400,000',\n",
       "       '$32,000,000', '$26,000,000', '$150,000', '$400,000', '$2,000,000',\n",
       "       '$100,000,000', '$8,000,000', '$100,000', '$50,000,000',\n",
       "       '$120,000,000', '$4,000,000', '$6,800,000', '$36,000,000',\n",
       "       '$5,700,000', '$25,000,000', '$600,000', '$70,000,000',\n",
       "       '$60,000,000', '$220,000', '$2,800,000', '$2,100,000',\n",
       "       '$7,000,000', '$311,000,000', '$4,800,000', '$693,000,000',\n",
       "       '$33,000,000'], dtype=object)"
      ]
     },
     "execution_count": 83,
     "metadata": {},
     "output_type": "execute_result"
    }
   ],
   "source": [
    "df2['Amount($)'].unique() # let's check for unique values "
   ]
  },
  {
   "cell_type": "code",
   "execution_count": 84,
   "metadata": {},
   "outputs": [],
   "source": [
    "# Cleaning the Amounts column & removing the currency symbol in df_2019\n",
    "df2['Amount($)'] = df2['Amount($)'].astype(str).str.replace('[\\₹$,]', '', regex=True)\n",
    "df2['Amount($)'].replace('Undisclosed', np.nan, inplace=True, regex=True)\n",
    "df2['Amount($)'].replace([',', '—', '$'], ['', 0, ''], inplace=True, regex=True)\n",
    "df2['Amount($)'].replace(0, np.nan, inplace=True)"
   ]
  },
  {
   "cell_type": "code",
   "execution_count": 85,
   "metadata": {},
   "outputs": [
    {
     "data": {
      "text/plain": [
       "numpy.float64"
      ]
     },
     "execution_count": 85,
     "metadata": {},
     "output_type": "execute_result"
    }
   ],
   "source": [
    "df2['Amount($)'] = df2['Amount($)'].astype(float) # here we are converting the amount column to float data type \n",
    "type(df2['Amount($)'][0])"
   ]
  },
  {
   "cell_type": "code",
   "execution_count": 86,
   "metadata": {},
   "outputs": [
    {
     "data": {
      "text/plain": [
       "0       6300000.0\n",
       "1     150000000.0\n",
       "2      28000000.0\n",
       "3      30000000.0\n",
       "4       6000000.0\n",
       "         ...     \n",
       "84     20000000.0\n",
       "85    693000000.0\n",
       "86      5000000.0\n",
       "87     50000000.0\n",
       "88     33000000.0\n",
       "Name: Amount($), Length: 89, dtype: float64"
      ]
     },
     "execution_count": 86,
     "metadata": {},
     "output_type": "execute_result"
    }
   ],
   "source": [
    "df2['Amount($)'] # here we are looking at the Amount column "
   ]
  },
  {
   "cell_type": "code",
   "execution_count": 87,
   "metadata": {},
   "outputs": [
    {
     "data": {
      "text/plain": [
       "array([6.300e+06, 1.500e+08, 2.800e+07, 3.000e+07, 6.000e+06,       nan,\n",
       "       1.000e+06, 2.000e+07, 2.750e+08, 2.200e+07, 5.000e+06, 1.405e+05,\n",
       "       5.400e+08, 1.500e+07, 1.827e+05, 1.200e+07, 1.100e+07, 1.550e+07,\n",
       "       1.500e+06, 5.500e+06, 2.500e+06, 1.400e+05, 2.300e+08, 4.940e+07,\n",
       "       3.200e+07, 2.600e+07, 1.500e+05, 4.000e+05, 2.000e+06, 1.000e+08,\n",
       "       8.000e+06, 1.000e+05, 5.000e+07, 1.200e+08, 4.000e+06, 6.800e+06,\n",
       "       3.600e+07, 5.700e+06, 2.500e+07, 6.000e+05, 7.000e+07, 6.000e+07,\n",
       "       2.200e+05, 2.800e+06, 2.100e+06, 7.000e+06, 3.110e+08, 4.800e+06,\n",
       "       6.930e+08, 3.300e+07])"
      ]
     },
     "execution_count": 87,
     "metadata": {},
     "output_type": "execute_result"
    }
   ],
   "source": [
    "df2['Amount($)'].unique() # this line of code looks at the unique value "
   ]
  },
  {
   "cell_type": "code",
   "execution_count": 88,
   "metadata": {},
   "outputs": [
    {
     "data": {
      "text/plain": [
       "12"
      ]
     },
     "execution_count": 88,
     "metadata": {},
     "output_type": "execute_result"
    }
   ],
   "source": [
    "df2['Amount($)'].isnull().sum()"
   ]
  },
  {
   "cell_type": "code",
   "execution_count": 89,
   "metadata": {},
   "outputs": [
    {
     "data": {
      "text/plain": [
       "15.584415584415584"
      ]
     },
     "execution_count": 89,
     "metadata": {},
     "output_type": "execute_result"
    }
   ],
   "source": [
    "# first let's check for the percentage of missing values in the Amount column\n",
    "Amount_missing = df2['Amount($)'].isnull().sum()\n",
    "Amount_total = df2['Amount($)'].count()\n",
    "percent_Amount_missing = (Amount_missing / Amount_total) * 100\n",
    "percent_Amount_missing"
   ]
  },
  {
   "attachments": {},
   "cell_type": "markdown",
   "metadata": {},
   "source": [
    "### Missing Values Analysis - Relationship Between \"Amount\" and \"Sector\"\n",
    "\n",
    "To handle the null or missing values in the \"Amount\" column, it is essential to understand the pattern of the missing data. We will investigate if there is any relationship between the missing values and the different sectors. This insight into the missing values will guide us in properly imputing for the missing data.\n",
    "\n",
    "**Contingency Table:**\n",
    "We will begin by creating a contingency table to illustrate the distribution of missing values across the various sectors. This table will help visualize the potential association between the two variables. To achieve this, we will use the `pd.crosstab()` function.\n",
    "\n",
    "**Chi-Square Test:**\n",
    "To assess the association between missing values in the \"Amount\" column and the \"Sector\" column, we will perform a chi-square test. This test will be carried out using the `chi2_contingency()` function from the `scipy.stats` module. The chi-square test will calculate the chi-square statistic, p-value, degrees of freedom, and expected frequencies.\n",
    "\n",
    "**Hypotheses:**\n",
    "We will set up two hypotheses for the chi-square test:\n",
    "\n",
    "- **Null hypothesis (H0):** There is no association between the missing values in the \"Amount\" column and the \"Sector\" column.\n",
    "- **Alternative hypothesis (H1):** There is a significant association between the missing values in the \"Amount\" column and the \"Sector\" column.\n",
    "\n",
    "**Interpreting the Results:**\n",
    "The critical part of the analysis will be to examine the p-value obtained from the chi-square test. If the p-value is below a chosen significance level (e.g., 0.05), the null hypothesis can be rejected. This rejection indicates a significant association between the missing values in the \"Amount\" column and the \"Sector\" column.\n",
    "\n",
    "The contingency table and the chi-square test will help us gain insights into the relationship between missing values and sectors, thereby aiding the decision on appropriate strategies for handling the missing data."
   ]
  },
  {
   "cell_type": "code",
   "execution_count": 90,
   "metadata": {},
   "outputs": [
    {
     "data": {
      "text/html": [
       "<div>\n",
       "<style scoped>\n",
       "    .dataframe tbody tr th:only-of-type {\n",
       "        vertical-align: middle;\n",
       "    }\n",
       "\n",
       "    .dataframe tbody tr th {\n",
       "        vertical-align: top;\n",
       "    }\n",
       "\n",
       "    .dataframe thead th {\n",
       "        text-align: right;\n",
       "    }\n",
       "</style>\n",
       "<table border=\"1\" class=\"dataframe\">\n",
       "  <thead>\n",
       "    <tr style=\"text-align: right;\">\n",
       "      <th>Amount($)</th>\n",
       "      <th>False</th>\n",
       "      <th>True</th>\n",
       "    </tr>\n",
       "    <tr>\n",
       "      <th>Sector</th>\n",
       "      <th></th>\n",
       "      <th></th>\n",
       "    </tr>\n",
       "  </thead>\n",
       "  <tbody>\n",
       "    <tr>\n",
       "      <th>AI</th>\n",
       "      <td>2</td>\n",
       "      <td>0</td>\n",
       "    </tr>\n",
       "    <tr>\n",
       "      <th>AI &amp; Tech</th>\n",
       "      <td>1</td>\n",
       "      <td>0</td>\n",
       "    </tr>\n",
       "    <tr>\n",
       "      <th>Accomodation</th>\n",
       "      <td>2</td>\n",
       "      <td>0</td>\n",
       "    </tr>\n",
       "    <tr>\n",
       "      <th>AgriTech</th>\n",
       "      <td>4</td>\n",
       "      <td>0</td>\n",
       "    </tr>\n",
       "    <tr>\n",
       "      <th>Automobile</th>\n",
       "      <td>3</td>\n",
       "      <td>0</td>\n",
       "    </tr>\n",
       "    <tr>\n",
       "      <th>Automobile &amp; Technology</th>\n",
       "      <td>1</td>\n",
       "      <td>0</td>\n",
       "    </tr>\n",
       "    <tr>\n",
       "      <th>Automotive tech</th>\n",
       "      <td>2</td>\n",
       "      <td>0</td>\n",
       "    </tr>\n",
       "    <tr>\n",
       "      <th>B2B</th>\n",
       "      <td>1</td>\n",
       "      <td>0</td>\n",
       "    </tr>\n",
       "    <tr>\n",
       "      <th>B2B Supply Chain</th>\n",
       "      <td>0</td>\n",
       "      <td>1</td>\n",
       "    </tr>\n",
       "    <tr>\n",
       "      <th>Banking</th>\n",
       "      <td>1</td>\n",
       "      <td>0</td>\n",
       "    </tr>\n",
       "    <tr>\n",
       "      <th>Cosmetics</th>\n",
       "      <td>1</td>\n",
       "      <td>0</td>\n",
       "    </tr>\n",
       "    <tr>\n",
       "      <th>Cybersecurity</th>\n",
       "      <td>1</td>\n",
       "      <td>0</td>\n",
       "    </tr>\n",
       "    <tr>\n",
       "      <th>E-Sports</th>\n",
       "      <td>1</td>\n",
       "      <td>0</td>\n",
       "    </tr>\n",
       "    <tr>\n",
       "      <th>E-commerce</th>\n",
       "      <td>4</td>\n",
       "      <td>0</td>\n",
       "    </tr>\n",
       "    <tr>\n",
       "      <th>E-commerce &amp; AR</th>\n",
       "      <td>0</td>\n",
       "      <td>1</td>\n",
       "    </tr>\n",
       "    <tr>\n",
       "      <th>E-marketplace</th>\n",
       "      <td>1</td>\n",
       "      <td>1</td>\n",
       "    </tr>\n",
       "    <tr>\n",
       "      <th>Ecommerce</th>\n",
       "      <td>1</td>\n",
       "      <td>0</td>\n",
       "    </tr>\n",
       "    <tr>\n",
       "      <th>Edtech</th>\n",
       "      <td>7</td>\n",
       "      <td>0</td>\n",
       "    </tr>\n",
       "    <tr>\n",
       "      <th>Fintech</th>\n",
       "      <td>5</td>\n",
       "      <td>1</td>\n",
       "    </tr>\n",
       "    <tr>\n",
       "      <th>Food</th>\n",
       "      <td>2</td>\n",
       "      <td>0</td>\n",
       "    </tr>\n",
       "    <tr>\n",
       "      <th>Food &amp; Nutrition</th>\n",
       "      <td>1</td>\n",
       "      <td>0</td>\n",
       "    </tr>\n",
       "    <tr>\n",
       "      <th>Food &amp; tech</th>\n",
       "      <td>1</td>\n",
       "      <td>0</td>\n",
       "    </tr>\n",
       "    <tr>\n",
       "      <th>Food tech</th>\n",
       "      <td>0</td>\n",
       "      <td>1</td>\n",
       "    </tr>\n",
       "    <tr>\n",
       "      <th>Foodtech</th>\n",
       "      <td>2</td>\n",
       "      <td>0</td>\n",
       "    </tr>\n",
       "    <tr>\n",
       "      <th>Games</th>\n",
       "      <td>0</td>\n",
       "      <td>1</td>\n",
       "    </tr>\n",
       "    <tr>\n",
       "      <th>HR tech</th>\n",
       "      <td>1</td>\n",
       "      <td>0</td>\n",
       "    </tr>\n",
       "    <tr>\n",
       "      <th>Health</th>\n",
       "      <td>0</td>\n",
       "      <td>1</td>\n",
       "    </tr>\n",
       "    <tr>\n",
       "      <th>Healthcare</th>\n",
       "      <td>1</td>\n",
       "      <td>0</td>\n",
       "    </tr>\n",
       "    <tr>\n",
       "      <th>Healthtech</th>\n",
       "      <td>1</td>\n",
       "      <td>0</td>\n",
       "    </tr>\n",
       "    <tr>\n",
       "      <th>Hospitality</th>\n",
       "      <td>1</td>\n",
       "      <td>0</td>\n",
       "    </tr>\n",
       "    <tr>\n",
       "      <th>Infratech</th>\n",
       "      <td>1</td>\n",
       "      <td>0</td>\n",
       "    </tr>\n",
       "    <tr>\n",
       "      <th>Insurance technology</th>\n",
       "      <td>1</td>\n",
       "      <td>0</td>\n",
       "    </tr>\n",
       "    <tr>\n",
       "      <th>Interior design</th>\n",
       "      <td>1</td>\n",
       "      <td>0</td>\n",
       "    </tr>\n",
       "    <tr>\n",
       "      <th>IoT</th>\n",
       "      <td>1</td>\n",
       "      <td>1</td>\n",
       "    </tr>\n",
       "    <tr>\n",
       "      <th>Jewellery</th>\n",
       "      <td>1</td>\n",
       "      <td>0</td>\n",
       "    </tr>\n",
       "    <tr>\n",
       "      <th>Legal tech</th>\n",
       "      <td>1</td>\n",
       "      <td>0</td>\n",
       "    </tr>\n",
       "    <tr>\n",
       "      <th>Logistics</th>\n",
       "      <td>3</td>\n",
       "      <td>0</td>\n",
       "    </tr>\n",
       "    <tr>\n",
       "      <th>Manufacturing</th>\n",
       "      <td>1</td>\n",
       "      <td>0</td>\n",
       "    </tr>\n",
       "    <tr>\n",
       "      <th>Marketing &amp; Customer loyalty</th>\n",
       "      <td>1</td>\n",
       "      <td>0</td>\n",
       "    </tr>\n",
       "    <tr>\n",
       "      <th>Mutual Funds</th>\n",
       "      <td>1</td>\n",
       "      <td>0</td>\n",
       "    </tr>\n",
       "    <tr>\n",
       "      <th>Online Consulting</th>\n",
       "      <td>1</td>\n",
       "      <td>0</td>\n",
       "    </tr>\n",
       "    <tr>\n",
       "      <th>Pharmaceutical</th>\n",
       "      <td>1</td>\n",
       "      <td>0</td>\n",
       "    </tr>\n",
       "    <tr>\n",
       "      <th>Robotics &amp; AI</th>\n",
       "      <td>1</td>\n",
       "      <td>0</td>\n",
       "    </tr>\n",
       "    <tr>\n",
       "      <th>SaaS</th>\n",
       "      <td>3</td>\n",
       "      <td>1</td>\n",
       "    </tr>\n",
       "    <tr>\n",
       "      <th>Safety tech</th>\n",
       "      <td>0</td>\n",
       "      <td>1</td>\n",
       "    </tr>\n",
       "    <tr>\n",
       "      <th>Short Video Platform</th>\n",
       "      <td>1</td>\n",
       "      <td>0</td>\n",
       "    </tr>\n",
       "    <tr>\n",
       "      <th>Social Media</th>\n",
       "      <td>1</td>\n",
       "      <td>0</td>\n",
       "    </tr>\n",
       "    <tr>\n",
       "      <th>Sports</th>\n",
       "      <td>0</td>\n",
       "      <td>1</td>\n",
       "    </tr>\n",
       "    <tr>\n",
       "      <th>Technology</th>\n",
       "      <td>3</td>\n",
       "      <td>1</td>\n",
       "    </tr>\n",
       "    <tr>\n",
       "      <th>Transport &amp; Rentals</th>\n",
       "      <td>1</td>\n",
       "      <td>0</td>\n",
       "    </tr>\n",
       "    <tr>\n",
       "      <th>Transportation</th>\n",
       "      <td>1</td>\n",
       "      <td>0</td>\n",
       "    </tr>\n",
       "    <tr>\n",
       "      <th>Travel</th>\n",
       "      <td>1</td>\n",
       "      <td>0</td>\n",
       "    </tr>\n",
       "    <tr>\n",
       "      <th>Virtual Banking</th>\n",
       "      <td>1</td>\n",
       "      <td>0</td>\n",
       "    </tr>\n",
       "    <tr>\n",
       "      <th>Workforce Solutions</th>\n",
       "      <td>1</td>\n",
       "      <td>0</td>\n",
       "    </tr>\n",
       "    <tr>\n",
       "      <th>Yoga &amp; wellness</th>\n",
       "      <td>1</td>\n",
       "      <td>0</td>\n",
       "    </tr>\n",
       "  </tbody>\n",
       "</table>\n",
       "</div>"
      ],
      "text/plain": [
       "Amount($)                     False  True \n",
       "Sector                                    \n",
       "AI                                2      0\n",
       "AI & Tech                         1      0\n",
       "Accomodation                      2      0\n",
       "AgriTech                          4      0\n",
       "Automobile                        3      0\n",
       "Automobile & Technology           1      0\n",
       "Automotive tech                   2      0\n",
       "B2B                               1      0\n",
       "B2B Supply Chain                  0      1\n",
       "Banking                           1      0\n",
       "Cosmetics                         1      0\n",
       "Cybersecurity                     1      0\n",
       "E-Sports                          1      0\n",
       "E-commerce                        4      0\n",
       "E-commerce & AR                   0      1\n",
       "E-marketplace                     1      1\n",
       "Ecommerce                         1      0\n",
       "Edtech                            7      0\n",
       "Fintech                           5      1\n",
       "Food                              2      0\n",
       "Food & Nutrition                  1      0\n",
       "Food & tech                       1      0\n",
       "Food tech                         0      1\n",
       "Foodtech                          2      0\n",
       "Games                             0      1\n",
       "HR tech                           1      0\n",
       "Health                            0      1\n",
       "Healthcare                        1      0\n",
       "Healthtech                        1      0\n",
       "Hospitality                       1      0\n",
       "Infratech                         1      0\n",
       "Insurance technology              1      0\n",
       "Interior design                   1      0\n",
       "IoT                               1      1\n",
       "Jewellery                         1      0\n",
       "Legal tech                        1      0\n",
       "Logistics                         3      0\n",
       "Manufacturing                     1      0\n",
       "Marketing & Customer loyalty      1      0\n",
       "Mutual Funds                      1      0\n",
       "Online Consulting                 1      0\n",
       "Pharmaceutical                    1      0\n",
       "Robotics & AI                     1      0\n",
       "SaaS                              3      1\n",
       "Safety tech                       0      1\n",
       "Short Video Platform              1      0\n",
       "Social Media                      1      0\n",
       "Sports                            0      1\n",
       "Technology                        3      1\n",
       "Transport & Rentals               1      0\n",
       "Transportation                    1      0\n",
       "Travel                            1      0\n",
       "Virtual Banking                   1      0\n",
       "Workforce Solutions               1      0\n",
       "Yoga & wellness                   1      0"
      ]
     },
     "execution_count": 90,
     "metadata": {},
     "output_type": "execute_result"
    }
   ],
   "source": [
    "# creating the contingency table\n",
    "conting_table = pd.crosstab(df2['Sector'], df2['Amount($)'].isnull())\n",
    "conting_table"
   ]
  },
  {
   "cell_type": "code",
   "execution_count": 91,
   "metadata": {},
   "outputs": [
    {
     "data": {
      "text/plain": [
       "0.25498309083953885"
      ]
     },
     "execution_count": 91,
     "metadata": {},
     "output_type": "execute_result"
    }
   ],
   "source": [
    "# below we are performing the chi-square test\n",
    "chi2, p_value, _,_ = chi2_contingency(conting_table)\n",
    "p_value"
   ]
  },
  {
   "cell_type": "code",
   "execution_count": 92,
   "metadata": {},
   "outputs": [
    {
     "name": "stdout",
     "output_type": "stream",
     "text": [
      "There is no significant association between the missing values in the 'Amount' column and the 'Sector' column.\n"
     ]
    }
   ],
   "source": [
    "# we are interpretting the chi-sqaure test \n",
    "significance_level = 0.05\n",
    "\n",
    "if p_value < significance_level:\n",
    "    print(\"There is a significant association between the missing values in the 'Amount' column and the 'Sector' column.\")\n",
    "else:\n",
    "    print(\"There is no significant association between the missing values in the 'Amount' column and the 'Sector' column.\")"
   ]
  },
  {
   "attachments": {},
   "cell_type": "markdown",
   "metadata": {},
   "source": [
    "## Missing Data Heat Map"
   ]
  },
  {
   "cell_type": "code",
   "execution_count": 93,
   "metadata": {},
   "outputs": [
    {
     "data": {
      "image/png": "[encoded data removed]",
      "text/plain": [
       "<Figure size 640x480 with 1 Axes>"
      ]
     },
     "metadata": {},
     "output_type": "display_data"
    }
   ],
   "source": [
    "# creating a subset of the relevant columns\n",
    "rele_col = ['Amount($)', 'Sector', 'Stage', 'HeadQuarter']\n",
    "\n",
    "# creating a dataframe with missing value indicator \n",
    "missing_indicator_df = df2[rele_col].isnull()\n",
    "\n",
    "# below we are creating a missing data heat map\n",
    "sns.heatmap(missing_indicator_df, cmap='viridis', cbar=False)\n",
    "plt.title('Missing Data Map')\n",
    "plt.show()"
   ]
  },
  {
   "cell_type": "code",
   "execution_count": 94,
   "metadata": {},
   "outputs": [],
   "source": [
    "# we are creating the median of the not missing values \n",
    "median_non_null_Amount = df2['Amount($)'].dropna()\n",
    "\n",
    "median_Amount = median_non_null_Amount.median() \n",
    "\n",
    "# below we are filling in the missing values with the median \n",
    "df2['Amount($)'].fillna(median_Amount, inplace=True)"
   ]
  },
  {
   "cell_type": "code",
   "execution_count": 95,
   "metadata": {},
   "outputs": [
    {
     "data": {
      "text/plain": [
       "0"
      ]
     },
     "execution_count": 95,
     "metadata": {},
     "output_type": "execute_result"
    }
   ],
   "source": [
    "df2['Amount($)'].isnull().sum() # checking for null values "
   ]
  },
  {
   "attachments": {},
   "cell_type": "markdown",
   "metadata": {},
   "source": [
    "### Clean Categorical Data"
   ]
  },
  {
   "cell_type": "code",
   "execution_count": 96,
   "metadata": {},
   "outputs": [],
   "source": [
    "# Clean Company Name column\n",
    "df2['Company/Brand'] = df2['Company/Brand'].str.strip()  # Remove leading and trailing spaces\n",
    "df2['Company/Brand'] = df2['Company/Brand'].str.title()  # Standardize capitalization\n",
    "\n",
    "# Clean Company Name column\n",
    "df2['Sector'] = df2['Sector'].str.strip()  # Remove leading and trailing spaces\n",
    "df2['Sector'] = df2['Sector'].str.title()  # Standardize capitalization\n",
    "\n",
    "# Clean About Company column\n",
    "df2['What it does'] = df2['What it does'].str.strip()  # Remove leading and trailing spaces\n",
    "\n",
    "# Function to handle special characters or encoding issues\n",
    "def clean_text(text):\n",
    "    # Remove special characters using regex\n",
    "    cleaned_text = re.sub(r\"[^a-zA-Z0-9\\s]\", \"\", text)\n",
    "    return cleaned_text\n",
    "\n",
    "# Apply the clean_text function to the About Company column\n",
    "df2['What it does'] = df2['What it does'].apply(clean_text)"
   ]
  },
  {
   "cell_type": "code",
   "execution_count": 97,
   "metadata": {},
   "outputs": [],
   "source": [
    "# Dropping the columns that are not important to our analysis\n",
    "\n",
    "df2.drop(columns=['Founded','Founders','Investor'], inplace=True)"
   ]
  },
  {
   "cell_type": "code",
   "execution_count": 98,
   "metadata": {},
   "outputs": [],
   "source": [
    "df2.insert(6,\"Funding Year\", 2019) # here we are inserting a new column to keep track of the data set after combining "
   ]
  },
  {
   "cell_type": "code",
   "execution_count": 99,
   "metadata": {},
   "outputs": [],
   "source": [
    "# below we are renaming the columns to enure consistency \n",
    "\n",
    "df2.rename(columns = {'Company/Brand':'Company',\n",
    "                        'HeadQuarter':'Location',\n",
    "                        'Amount($)':'Amount',\n",
    "                        'What it does':'About'},\n",
    "             inplace = True)"
   ]
  },
  {
   "cell_type": "code",
   "execution_count": 100,
   "metadata": {},
   "outputs": [
    {
     "data": {
      "text/plain": [
       "Company         0\n",
       "Location        0\n",
       "Sector          0\n",
       "About           0\n",
       "Amount          0\n",
       "Stage           0\n",
       "Funding Year    0\n",
       "dtype: int64"
      ]
     },
     "execution_count": 100,
     "metadata": {},
     "output_type": "execute_result"
    }
   ],
   "source": [
    "df2.isnull().sum()"
   ]
  },
  {
   "cell_type": "code",
   "execution_count": 101,
   "metadata": {},
   "outputs": [
    {
     "data": {
      "text/html": [
       "<div>\n",
       "<style scoped>\n",
       "    .dataframe tbody tr th:only-of-type {\n",
       "        vertical-align: middle;\n",
       "    }\n",
       "\n",
       "    .dataframe tbody tr th {\n",
       "        vertical-align: top;\n",
       "    }\n",
       "\n",
       "    .dataframe thead th {\n",
       "        text-align: right;\n",
       "    }\n",
       "</style>\n",
       "<table border=\"1\" class=\"dataframe\">\n",
       "  <thead>\n",
       "    <tr style=\"text-align: right;\">\n",
       "      <th></th>\n",
       "      <th>Company</th>\n",
       "      <th>Location</th>\n",
       "      <th>Sector</th>\n",
       "      <th>About</th>\n",
       "      <th>Amount</th>\n",
       "      <th>Stage</th>\n",
       "      <th>Funding Year</th>\n",
       "    </tr>\n",
       "  </thead>\n",
       "  <tbody>\n",
       "    <tr>\n",
       "      <th>0</th>\n",
       "      <td>Bombay Shaving</td>\n",
       "      <td>Gurugram</td>\n",
       "      <td>Ecommerce</td>\n",
       "      <td>Provides a range of male grooming products</td>\n",
       "      <td>6300000.0</td>\n",
       "      <td>Series A</td>\n",
       "      <td>2019</td>\n",
       "    </tr>\n",
       "    <tr>\n",
       "      <th>1</th>\n",
       "      <td>Ruangguru</td>\n",
       "      <td>Mumbai</td>\n",
       "      <td>Edtech</td>\n",
       "      <td>A learning platform that provides topicbased j...</td>\n",
       "      <td>150000000.0</td>\n",
       "      <td>Series C</td>\n",
       "      <td>2019</td>\n",
       "    </tr>\n",
       "    <tr>\n",
       "      <th>2</th>\n",
       "      <td>Eduisfun</td>\n",
       "      <td>Mumbai</td>\n",
       "      <td>Edtech</td>\n",
       "      <td>It aims to make learning fun via games</td>\n",
       "      <td>28000000.0</td>\n",
       "      <td>Fresh funding</td>\n",
       "      <td>2019</td>\n",
       "    </tr>\n",
       "    <tr>\n",
       "      <th>3</th>\n",
       "      <td>Homelane</td>\n",
       "      <td>Chennai</td>\n",
       "      <td>Interior Design</td>\n",
       "      <td>Provides interior designing solutions</td>\n",
       "      <td>30000000.0</td>\n",
       "      <td>Series D</td>\n",
       "      <td>2019</td>\n",
       "    </tr>\n",
       "    <tr>\n",
       "      <th>4</th>\n",
       "      <td>Nu Genes</td>\n",
       "      <td>Telangana</td>\n",
       "      <td>Agritech</td>\n",
       "      <td>It is a seed company engaged in production pro...</td>\n",
       "      <td>6000000.0</td>\n",
       "      <td>Series A</td>\n",
       "      <td>2019</td>\n",
       "    </tr>\n",
       "  </tbody>\n",
       "</table>\n",
       "</div>"
      ],
      "text/plain": [
       "          Company   Location           Sector   \n",
       "0  Bombay Shaving   Gurugram        Ecommerce  \\\n",
       "1       Ruangguru     Mumbai           Edtech   \n",
       "2        Eduisfun     Mumbai           Edtech   \n",
       "3        Homelane    Chennai  Interior Design   \n",
       "4        Nu Genes  Telangana         Agritech   \n",
       "\n",
       "                                               About       Amount   \n",
       "0         Provides a range of male grooming products    6300000.0  \\\n",
       "1  A learning platform that provides topicbased j...  150000000.0   \n",
       "2             It aims to make learning fun via games   28000000.0   \n",
       "3              Provides interior designing solutions   30000000.0   \n",
       "4  It is a seed company engaged in production pro...    6000000.0   \n",
       "\n",
       "           Stage  Funding Year  \n",
       "0       Series A          2019  \n",
       "1       Series C          2019  \n",
       "2  Fresh funding          2019  \n",
       "3       Series D          2019  \n",
       "4       Series A          2019  "
      ]
     },
     "execution_count": 101,
     "metadata": {},
     "output_type": "execute_result"
    }
   ],
   "source": [
    "df2.head() # let's comfirm the data set by looking at the head before we save it "
   ]
  },
  {
   "cell_type": "code",
   "execution_count": 102,
   "metadata": {},
   "outputs": [],
   "source": [
    "df2.to_csv('df_2019.csv', index=False) # here we are saving the set and naming it df_19.csv"
   ]
  },
  {
   "attachments": {},
   "cell_type": "markdown",
   "metadata": {},
   "source": [
    "# 2020 Data"
   ]
  },
  {
   "cell_type": "code",
   "execution_count": 103,
   "metadata": {},
   "outputs": [
    {
     "data": {
      "text/html": [
       "<div>\n",
       "<style scoped>\n",
       "    .dataframe tbody tr th:only-of-type {\n",
       "        vertical-align: middle;\n",
       "    }\n",
       "\n",
       "    .dataframe tbody tr th {\n",
       "        vertical-align: top;\n",
       "    }\n",
       "\n",
       "    .dataframe thead th {\n",
       "        text-align: right;\n",
       "    }\n",
       "</style>\n",
       "<table border=\"1\" class=\"dataframe\">\n",
       "  <thead>\n",
       "    <tr style=\"text-align: right;\">\n",
       "      <th></th>\n",
       "      <th>Company_Brand</th>\n",
       "      <th>Founded</th>\n",
       "      <th>HeadQuarter</th>\n",
       "      <th>Sector</th>\n",
       "      <th>What_it_does</th>\n",
       "      <th>Founders</th>\n",
       "      <th>Investor</th>\n",
       "      <th>Amount</th>\n",
       "      <th>Stage</th>\n",
       "      <th>column10</th>\n",
       "    </tr>\n",
       "  </thead>\n",
       "  <tbody>\n",
       "    <tr>\n",
       "      <th>0</th>\n",
       "      <td>Aqgromalin</td>\n",
       "      <td>2019.0</td>\n",
       "      <td>Chennai</td>\n",
       "      <td>AgriTech</td>\n",
       "      <td>Cultivating Ideas for Profit</td>\n",
       "      <td>Prasanna Manogaran, Bharani C L</td>\n",
       "      <td>Angel investors</td>\n",
       "      <td>200000.0</td>\n",
       "      <td>None</td>\n",
       "      <td>None</td>\n",
       "    </tr>\n",
       "    <tr>\n",
       "      <th>1</th>\n",
       "      <td>Krayonnz</td>\n",
       "      <td>2019.0</td>\n",
       "      <td>Bangalore</td>\n",
       "      <td>EdTech</td>\n",
       "      <td>An academy-guardian-scholar centric ecosystem ...</td>\n",
       "      <td>Saurabh Dixit, Gurudutt Upadhyay</td>\n",
       "      <td>GSF Accelerator</td>\n",
       "      <td>100000.0</td>\n",
       "      <td>Pre-seed</td>\n",
       "      <td>None</td>\n",
       "    </tr>\n",
       "    <tr>\n",
       "      <th>2</th>\n",
       "      <td>PadCare Labs</td>\n",
       "      <td>2018.0</td>\n",
       "      <td>Pune</td>\n",
       "      <td>Hygiene management</td>\n",
       "      <td>Converting bio-hazardous waste to harmless waste</td>\n",
       "      <td>Ajinkya Dhariya</td>\n",
       "      <td>Venture Center</td>\n",
       "      <td>NaN</td>\n",
       "      <td>Pre-seed</td>\n",
       "      <td>None</td>\n",
       "    </tr>\n",
       "    <tr>\n",
       "      <th>3</th>\n",
       "      <td>NCOME</td>\n",
       "      <td>2020.0</td>\n",
       "      <td>New Delhi</td>\n",
       "      <td>Escrow</td>\n",
       "      <td>Escrow-as-a-service platform</td>\n",
       "      <td>Ritesh Tiwari</td>\n",
       "      <td>Venture Catalysts, PointOne Capital</td>\n",
       "      <td>400000.0</td>\n",
       "      <td>None</td>\n",
       "      <td>None</td>\n",
       "    </tr>\n",
       "    <tr>\n",
       "      <th>4</th>\n",
       "      <td>Gramophone</td>\n",
       "      <td>2016.0</td>\n",
       "      <td>Indore</td>\n",
       "      <td>AgriTech</td>\n",
       "      <td>Gramophone is an AgTech platform enabling acce...</td>\n",
       "      <td>Ashish Rajan Singh, Harshit Gupta, Nishant Mah...</td>\n",
       "      <td>Siana Capital Management, Info Edge</td>\n",
       "      <td>340000.0</td>\n",
       "      <td>None</td>\n",
       "      <td>None</td>\n",
       "    </tr>\n",
       "  </tbody>\n",
       "</table>\n",
       "</div>"
      ],
      "text/plain": [
       "  Company_Brand  Founded HeadQuarter              Sector   \n",
       "0    Aqgromalin   2019.0     Chennai            AgriTech  \\\n",
       "1      Krayonnz   2019.0   Bangalore              EdTech   \n",
       "2  PadCare Labs   2018.0        Pune  Hygiene management   \n",
       "3         NCOME   2020.0   New Delhi              Escrow   \n",
       "4    Gramophone   2016.0      Indore            AgriTech   \n",
       "\n",
       "                                        What_it_does   \n",
       "0                       Cultivating Ideas for Profit  \\\n",
       "1  An academy-guardian-scholar centric ecosystem ...   \n",
       "2   Converting bio-hazardous waste to harmless waste   \n",
       "3                       Escrow-as-a-service platform   \n",
       "4  Gramophone is an AgTech platform enabling acce...   \n",
       "\n",
       "                                            Founders   \n",
       "0                    Prasanna Manogaran, Bharani C L  \\\n",
       "1                   Saurabh Dixit, Gurudutt Upadhyay   \n",
       "2                                    Ajinkya Dhariya   \n",
       "3                                      Ritesh Tiwari   \n",
       "4  Ashish Rajan Singh, Harshit Gupta, Nishant Mah...   \n",
       "\n",
       "                              Investor    Amount     Stage column10  \n",
       "0                      Angel investors  200000.0      None     None  \n",
       "1                      GSF Accelerator  100000.0  Pre-seed     None  \n",
       "2                       Venture Center       NaN  Pre-seed     None  \n",
       "3  Venture Catalysts, PointOne Capital  400000.0      None     None  \n",
       "4  Siana Capital Management, Info Edge  340000.0      None     None  "
      ]
     },
     "execution_count": 103,
     "metadata": {},
     "output_type": "execute_result"
    }
   ],
   "source": [
    "df3.head() #showing the first five rows"
   ]
  },
  {
   "cell_type": "code",
   "execution_count": 104,
   "metadata": {},
   "outputs": [
    {
     "data": {
      "text/plain": [
       "(1055, 10)"
      ]
     },
     "execution_count": 104,
     "metadata": {},
     "output_type": "execute_result"
    }
   ],
   "source": [
    "df3.shape"
   ]
  },
  {
   "cell_type": "code",
   "execution_count": 105,
   "metadata": {},
   "outputs": [
    {
     "data": {
      "text/plain": [
       "Index(['Company_Brand', 'Founded', 'HeadQuarter', 'Sector', 'What_it_does',\n",
       "       'Founders', 'Investor', 'Amount', 'Stage', 'column10'],\n",
       "      dtype='object')"
      ]
     },
     "execution_count": 105,
     "metadata": {},
     "output_type": "execute_result"
    }
   ],
   "source": [
    "df3.columns   #accessing specific columns"
   ]
  },
  {
   "cell_type": "code",
   "execution_count": 106,
   "metadata": {},
   "outputs": [
    {
     "name": "stdout",
     "output_type": "stream",
     "text": [
      "<class 'pandas.core.frame.DataFrame'>\n",
      "Index: 525 entries, 0 to 525\n",
      "Data columns (total 7 columns):\n",
      " #   Column        Non-Null Count  Dtype  \n",
      "---  ------        --------------  -----  \n",
      " 0   Company       525 non-null    object \n",
      " 1   Sector        525 non-null    object \n",
      " 2   Stage         525 non-null    object \n",
      " 3   Amount        525 non-null    float64\n",
      " 4   Location      525 non-null    object \n",
      " 5   About         525 non-null    object \n",
      " 6   Funding Year  525 non-null    int64  \n",
      "dtypes: float64(1), int64(1), object(5)\n",
      "memory usage: 49.0+ KB\n"
     ]
    }
   ],
   "source": [
    "df.info()  # Get inforamation about the df3 dataframe"
   ]
  },
  {
   "cell_type": "code",
   "execution_count": 108,
   "metadata": {},
   "outputs": [
    {
     "data": {
      "text/html": [
       "<div>\n",
       "<style scoped>\n",
       "    .dataframe tbody tr th:only-of-type {\n",
       "        vertical-align: middle;\n",
       "    }\n",
       "\n",
       "    .dataframe tbody tr th {\n",
       "        vertical-align: top;\n",
       "    }\n",
       "\n",
       "    .dataframe thead th {\n",
       "        text-align: right;\n",
       "    }\n",
       "</style>\n",
       "<table border=\"1\" class=\"dataframe\">\n",
       "  <thead>\n",
       "    <tr style=\"text-align: right;\">\n",
       "      <th></th>\n",
       "      <th>count</th>\n",
       "      <th>unique</th>\n",
       "      <th>top</th>\n",
       "      <th>freq</th>\n",
       "    </tr>\n",
       "  </thead>\n",
       "  <tbody>\n",
       "    <tr>\n",
       "      <th>Company</th>\n",
       "      <td>525</td>\n",
       "      <td>525</td>\n",
       "      <td>Thecollegefever</td>\n",
       "      <td>1</td>\n",
       "    </tr>\n",
       "    <tr>\n",
       "      <th>Sector</th>\n",
       "      <td>525</td>\n",
       "      <td>154</td>\n",
       "      <td>Financial Services</td>\n",
       "      <td>31</td>\n",
       "    </tr>\n",
       "    <tr>\n",
       "      <th>Stage</th>\n",
       "      <td>525</td>\n",
       "      <td>18</td>\n",
       "      <td>Seed</td>\n",
       "      <td>319</td>\n",
       "    </tr>\n",
       "    <tr>\n",
       "      <th>Location</th>\n",
       "      <td>525</td>\n",
       "      <td>47</td>\n",
       "      <td>Bengaluru</td>\n",
       "      <td>161</td>\n",
       "    </tr>\n",
       "    <tr>\n",
       "      <th>About</th>\n",
       "      <td>525</td>\n",
       "      <td>524</td>\n",
       "      <td>Algorithmic trading platform</td>\n",
       "      <td>2</td>\n",
       "    </tr>\n",
       "  </tbody>\n",
       "</table>\n",
       "</div>"
      ],
      "text/plain": [
       "         count unique                           top freq\n",
       "Company    525    525               Thecollegefever    1\n",
       "Sector     525    154            Financial Services   31\n",
       "Stage      525     18                          Seed  319\n",
       "Location   525     47                     Bengaluru  161\n",
       "About      525    524  Algorithmic trading platform    2"
      ]
     },
     "execution_count": 108,
     "metadata": {},
     "output_type": "execute_result"
    }
   ],
   "source": [
    "df.describe(include='object').T   # Getting general descriptive statistics of the data3 dataFrame"
   ]
  },
  {
   "attachments": {},
   "cell_type": "markdown",
   "metadata": {},
   "source": [
    "### Handling Duplicated Data"
   ]
  },
  {
   "cell_type": "code",
   "execution_count": 109,
   "metadata": {},
   "outputs": [
    {
     "name": "stdout",
     "output_type": "stream",
     "text": [
      "Company_Brand: True\n",
      "Founded: True\n",
      "HeadQuarter: True\n",
      "Sector: True\n",
      "What_it_does: True\n",
      "Founders: True\n",
      "Investor: True\n",
      "Amount: True\n",
      "Stage: True\n"
     ]
    }
   ],
   "source": [
    "# checking for duplicated values \n",
    "\n",
    "columns_to_check3 = ['Company_Brand', 'Founded', 'HeadQuarter', 'Sector', 'What_it_does', 'Founders', 'Investor', 'Amount', 'Stage']\n",
    "for column2 in columns_to_check3:\n",
    "    has_duplicates2 = df3[column2].duplicated().any()\n",
    "    print(f'{column2}: {has_duplicates2}')"
   ]
  },
  {
   "cell_type": "code",
   "execution_count": 110,
   "metadata": {},
   "outputs": [],
   "source": [
    "# below we are dropping the duplicates rows \n",
    "\n",
    "df3.drop_duplicates(subset=['Company_Brand', 'Founded', 'HeadQuarter', 'Sector', 'What_it_does', 'Founders', 'Investor', 'Amount', 'Stage'], inplace=True)"
   ]
  },
  {
   "cell_type": "code",
   "execution_count": 111,
   "metadata": {},
   "outputs": [
    {
     "data": {
      "text/plain": [
       "Company_Brand       0\n",
       "Founded           213\n",
       "HeadQuarter        94\n",
       "Sector             13\n",
       "What_it_does        0\n",
       "Founders           12\n",
       "Investor           38\n",
       "Amount            253\n",
       "Stage             462\n",
       "column10         1050\n",
       "dtype: int64"
      ]
     },
     "execution_count": 111,
     "metadata": {},
     "output_type": "execute_result"
    }
   ],
   "source": [
    "df3.isna().sum() #checking for missing values in dataFrame 2"
   ]
  },
  {
   "attachments": {},
   "cell_type": "markdown",
   "metadata": {},
   "source": [
    "### Handling Categorical Data"
   ]
  },
  {
   "cell_type": "markdown",
   "metadata": {},
   "source": [
    "### HeadQuarter Column"
   ]
  },
  {
   "cell_type": "code",
   "execution_count": 112,
   "metadata": {},
   "outputs": [
    {
     "data": {
      "text/plain": [
       "array(['Chennai', 'Bangalore', 'Pune', 'New Delhi', 'Indore', 'Hyderabad',\n",
       "       'Gurgaon', 'Belgaum', 'Noida', 'Mumbai', 'Andheri', 'Jaipur',\n",
       "       'Ahmedabad', 'Kolkata', 'Tirunelveli, Tamilnadu', 'Thane', None,\n",
       "       'Singapore', 'Gurugram', 'Gujarat', 'Haryana', 'Kerala', 'Jodhpur',\n",
       "       'Jaipur, Rajastan', 'Delhi', 'Frisco, Texas, United States',\n",
       "       'California', 'Dhingsara, Haryana', 'New York, United States',\n",
       "       'Patna', 'San Francisco, California, United States',\n",
       "       'San Francisco, United States', 'San Ramon, California',\n",
       "       'Paris, Ile-de-France, France', 'Plano, Texas, United States',\n",
       "       'Sydney', 'San Francisco Bay Area, Silicon Valley, West Coast',\n",
       "       'Bangaldesh', 'London, England, United Kingdom',\n",
       "       'Sydney, New South Wales, Australia', 'Milano, Lombardia, Italy',\n",
       "       'Palmwoods, Queensland, Australia', 'France',\n",
       "       'San Francisco Bay Area, West Coast, Western US',\n",
       "       'Trivandrum, Kerala, India', 'Cochin', 'Samastipur, Bihar',\n",
       "       'Irvine, California, United States', 'Tumkur, Karnataka',\n",
       "       'Newcastle Upon Tyne, Newcastle upon Tyne, United Kingdom',\n",
       "       'Shanghai, China', 'Jiaxing, Zhejiang, China', 'Rajastan', 'Kochi',\n",
       "       'Ludhiana', 'Dehradun', 'San Franciscao', 'San Francisco',\n",
       "       'Tangerang, Jawa Barat, Indonesia', 'Berlin', 'Seattle', 'Riyadh',\n",
       "       'Seoul', 'New York', 'Bangkok', 'Kanpur', 'Chandigarh', 'Warangal',\n",
       "       'Hyderebad', 'Odisha', 'Bihar', 'Goa', 'Tamil Nadu',\n",
       "       'Uttar Pradesh', 'Bhopal', 'Banglore', 'Coimbatore', 'Bengaluru'],\n",
       "      dtype=object)"
      ]
     },
     "execution_count": 112,
     "metadata": {},
     "output_type": "execute_result"
    }
   ],
   "source": [
    "df3['HeadQuarter'].unique() #displaying the unique values found in the 'HeadQuarter' column."
   ]
  },
  {
   "cell_type": "code",
   "execution_count": null,
   "metadata": {},
   "outputs": [],
   "source": [
    "df3[df3['HeadQuarter'].isnull()]"
   ]
  },
  {
   "cell_type": "code",
   "execution_count": 113,
   "metadata": {},
   "outputs": [],
   "source": [
    "# we are replacing the data in the Headquater by researching from google\n",
    "\n",
    "df3.loc[df3['Company_Brand'] == 'Habitat', 'HeadQuarter'] = 'Bengaluru'\n",
    "df3.loc[df3['Company_Brand'] == 'Wealth Bucket', 'HeadQuarter'] = 'Bengaluru'\n",
    "df3.loc[df3['Company_Brand'] == 'EpiFi', 'HeadQuarter'] = 'New Delhi'\n",
    "df3.loc[df3['Company_Brand'] == 'XpressBees', 'HeadQuarter'] = 'Pune'\n",
    "df3.loc[df3['Company_Brand'] == 'Shiksha', 'HeadQuarter'] = 'Noida'\n",
    "df3.loc[df3['Company_Brand'] == 'Byju', 'HeadQuarter'] = 'Bengaluru'\n",
    "df3.loc[df3['Company_Brand'] == 'Zomato', 'HeadQuarter'] = 'Gurugram'\n",
    "df3.loc[df3['Company_Brand'] == 'Rentomojo', 'HeadQuarter'] = 'Bengaluru'\n",
    "df3.loc[df3['Company_Brand'] == 'Mamaearth', 'HeadQuarter'] = 'Gurgaon'\n",
    "df3.loc[df3['Company_Brand'] == 'HaikuJAM', 'HeadQuarter'] = 'Mumbai'\n",
    "df3.loc[df3['Company_Brand'] == 'Testbook', 'HeadQuarter'] = 'Mumbai'\n",
    "df3.loc[df3['Company_Brand'] == 'Techbooze', 'HeadQuarter'] = 'New Delhi'\n",
    "df3.loc[df3['Company_Brand'] == 'Rheo', 'HeadQuarter'] = 'Bengaluru'\n",
    "df3.loc[df3['Company_Brand'] == 'Klub', 'HeadQuarter'] = 'Bengaluru'\n",
    "df3.loc[df3['Company_Brand'] == 'TechnifyBiz', 'HeadQuarter'] = 'New Delhi'\n",
    "df3.loc[df3['Company_Brand'] == 'Aesthetic Nutrition', 'HeadQuarter'] = 'New Delhi'\n",
    "df3.loc[df3['Company_Brand'] == 'Gamerji', 'HeadQuarter'] = 'Ahmedabad'\n",
    "df3.loc[df3['Company_Brand'] == 'Phenom People', 'HeadQuarter'] = 'Hyderabad'\n",
    "df3.loc[df3['Company_Brand'] == 'Teach Us', 'HeadQuarter'] = 'Hyderabad'\n",
    "df3.loc[df3['Company_Brand'] == 'Invento Robotics', 'HeadQuarter'] = 'Bengaluru'\n",
    "df3.loc[df3['Company_Brand'] == 'Kristal AI', 'HeadQuarter'] = 'Bengaluru'\n",
    "df3.loc[df3['Company_Brand'] == 'Samya AI', 'HeadQuarter'] = 'Bengaluru'\n",
    "df3.loc[df3['Company_Brand'] == 'Skylo', 'HeadQuarter'] = 'Bengaluru'\n",
    "df3.loc[df3['Company_Brand'] == 'SmartKarrot', 'HeadQuarter'] = 'Bengaluru'\n",
    "df3.loc[df3['Company_Brand'] == 'Park+', 'HeadQuarter'] = 'Gurgaon'\n",
    "df3.loc[df3['Company_Brand'] == 'LogiNext', 'HeadQuarter'] = 'Mumbai'\n",
    "df3.loc[df3['Company_Brand'] == 'MoneyTap', 'HeadQuarter'] = 'Bengaluru'\n",
    "df3.loc[df3['Company_Brand'] == 'RACEnergy', 'HeadQuarter'] = 'Hyderabad'\n",
    "df3.loc[df3['Company_Brand'] == 'Oye! Rickshaw', 'HeadQuarter'] = 'New Delhi'\n",
    "df3.loc[df3['Company_Brand'] == 'Fleetx', 'HeadQuarter'] = 'Gurgaon'\n",
    "df3.loc[df3['Company_Brand'] == 'Raskik', 'HeadQuarter'] = 'Gurgaon'\n",
    "df3.loc[df3['Company_Brand'] == 'Pravasirojgar', 'HeadQuarter'] = 'Mumbai'\n",
    "df3.loc[df3['Company_Brand'] == 'Kaagaz Scanner', 'HeadQuarter'] = 'Gurugram'\n",
    "df3.loc[df3['Company_Brand'] == 'Exprs', 'HeadQuarter'] = 'Madhapur'\n",
    "df3.loc[df3['Company_Brand'] == 'Verloop.io', 'HeadQuarter'] = 'Bengaluru'\n",
    "df3.loc[df3['Company_Brand'] == 'Otipy', 'HeadQuarter'] = 'Gurugram'\n",
    "df3.loc[df3['Company_Brand'] == 'Daalchini', 'HeadQuarter'] = 'New Delhi'\n",
    "df3.loc[df3['Company_Brand'] == 'Suno India', 'HeadQuarter'] = 'Hyderabad'\n",
    "df3.loc[df3['Company_Brand'] == 'Eden Smart Homes', 'HeadQuarter'] = 'New Delhi'\n",
    "df3.loc[df3['Company_Brand'] == 'Bijnis', 'HeadQuarter'] = 'New Delhi'\n",
    "df3.loc[df3['Company_Brand'] == 'Oziva', 'HeadQuarter'] = 'Mumbai'\n",
    "df3.loc[df3['Company_Brand'] == 'Yulu', 'HeadQuarter'] = 'Bengaluru'\n",
    "df3.loc[df3['Company_Brand'] == 'Peppermint', 'HeadQuarter'] = 'Mumbai'\n",
    "df3.loc[df3['Company_Brand'] == 'Jiffy ai', 'HeadQuarter'] = 'Bengaluru'\n",
    "df3.loc[df3['Company_Brand'] == 'Postman', 'HeadQuarter'] = 'Bengaluru'\n",
    "df3.loc[df3['Company_Brand'] == 'F5', 'HeadQuarter'] = 'Bengaluru'\n",
    "df3.loc[df3['Company_Brand'] == 'Myelin Foundry', 'HeadQuarter'] = 'Bengaluru'\n",
    "df3.loc[df3['Company_Brand'] == 'iNurture Education', 'HeadQuarter'] = 'Bengaluru'\n",
    "df3.loc[df3['Company_Brand'] == 'Credgencies', 'HeadQuarter'] = 'Gurugram'\n",
    "df3.loc[df3['Company_Brand'] == 'Vahak', 'HeadQuarter'] = 'Bengaluru'\n",
    "df3.loc[df3['Company_Brand'] == 'Illumnus', 'HeadQuarter'] = 'Gurgaon'\n",
    "df3.loc[df3['Company_Brand'] == 'Juicy Chemistry', 'HeadQuarter'] = 'Coimbatore'\n",
    "df3.loc[df3['Company_Brand'] == 'Shiprocket', 'HeadQuarter'] = 'New Delhi'\n",
    "df3.loc[df3['Company_Brand'] == 'Phable', 'HeadQuarter'] = 'Bengaluru'\n",
    "df3.loc[df3['Company_Brand'] == 'Generic Aadhaar', 'HeadQuarter'] = 'Thane'\n",
    "df3.loc[df3['Company_Brand'] == 'Nium', 'HeadQuarter'] = 'Mumbai'\n",
    "df3.loc[df3['Company_Brand'] == 'DailyHunt', 'HeadQuarter'] = 'Bengaluru'\n",
    "df3.loc[df3['Company_Brand'] == 'Pedagogy', 'HeadQuarter'] = 'Ahmedabad'\n",
    "df3.loc[df3['Company_Brand'] == 'Sarva', 'HeadQuarter'] = 'Mumbai'\n",
    "df3.loc[df3['Company_Brand'] == 'NIRA', 'HeadQuarter'] = 'Bengaluru'\n",
    "df3.loc[df3['Company_Brand'] == 'Indusface', 'HeadQuarter'] = 'Bengaluru'\n",
    "df3.loc[df3['Company_Brand'] == 'Morning Context', 'HeadQuarter'] = 'Singapore'\n",
    "df3.loc[df3['Company_Brand'] == 'Savvy Co op', 'HeadQuarter'] = 'New York'\n",
    "df3.loc[df3['Company_Brand'] == 'BLive', 'HeadQuarter'] = 'Bengaluru'\n",
    "df3.loc[df3['Company_Brand'] == 'Toch', 'HeadQuarter'] = 'Mumbai'\n",
    "df3.loc[df3['Company_Brand'] == 'Setu', 'HeadQuarter'] = 'Bengaluru'\n",
    "df3.loc[df3['Company_Brand'] == 'Rebel Foods', 'HeadQuarter'] = 'Mumbai'\n",
    "df3.loc[df3['Company_Brand'] == 'Amica', 'HeadQuarter'] = 'Mumbai'\n",
    "df3.loc[df3['Company_Brand'] == 'Fingerlix', 'HeadQuarter'] = 'Mumbai'\n",
    "df3.loc[df3['Company_Brand'] == 'Zupee', 'HeadQuarter'] = 'Gurugram'\n",
    "df3.loc[df3['Company_Brand'] == 'DeHaat', 'HeadQuarter'] = 'Patna'\n",
    "df3.loc[df3['Company_Brand'] == 'Akna Medical', 'HeadQuarter'] = 'Bengaluru'\n",
    "df3.loc[df3['Company_Brand'] == 'RaRa Delivery', 'HeadQuarter'] = 'Jakarta'\n",
    "df3.loc[df3['Company_Brand'] == 'Obviously AI', 'HeadQuarter'] = 'San Francisco'\n",
    "df3.loc[df3['Company_Brand'] == 'CoinDCX', 'HeadQuarter'] = 'Mumbai'\n",
    "df3.loc[df3['Company_Brand'] == 'NuNu TV', 'HeadQuarter'] = 'New Delhi'\n",
    "df3.loc[df3['Company_Brand'] == 'Fintso', 'HeadQuarter'] = 'Mumbai'\n",
    "df3.loc[df3['Company_Brand'] == 'Smart Coin', 'HeadQuarter'] = 'Bengaluru'\n",
    "df3.loc[df3['Company_Brand'] == 'Shop101', 'HeadQuarter'] = 'Mumbai'\n",
    "df3.loc[df3['Company_Brand'] == 'Neeman', 'HeadQuarter'] = 'Hyderabad'\n",
    "df3.loc[df3['Company_Brand'] == 'Invideo', 'HeadQuarter'] = 'Bengaluru'\n",
    "df3.loc[df3['Company_Brand'] == 'AvalonMeta', 'HeadQuarter'] = 'Bengaluru'\n",
    "df3.loc[df3['Company_Brand'] == 'SmartVizX', 'HeadQuarter'] = 'Noida'\n",
    "df3.loc[df3['Company_Brand'] == 'Carbon Clean', 'HeadQuarter'] = 'Bengaluru'\n",
    "df3.loc[df3['Company_Brand'] == 'Onsitego', 'HeadQuarter'] = 'Mumbai'\n",
    "df3.loc[df3['Company_Brand'] == 'Nova Credit', 'HeadQuarter'] = 'New Delhi'\n",
    "df3.loc[df3['Company_Brand'] == 'HempStreet', 'HeadQuarter'] = 'New Delhi'\n",
    "df3.loc[df3['Company_Brand'] == 'Classplus', 'HeadQuarter'] = 'Noida'\n",
    "df3.loc[df3['Company_Brand'] == 'Chaayos', 'HeadQuarter'] = 'New Delhi'\n",
    "df3.loc[df3['Company_Brand'] == 'Altor', 'HeadQuarter'] = 'Bengaluru'\n",
    "df3.loc[df3['Company_Brand'] == 'WorkIndia', 'HeadQuarter'] = 'Mumbai'"
   ]
  },
  {
   "cell_type": "code",
   "execution_count": 114,
   "metadata": {},
   "outputs": [],
   "source": [
    "# below we are reformating the Headquater column with their official values\n",
    "df3.loc[~df3['HeadQuarter'].str.contains('New Delhi', na=False), 'HeadQuarter'] = df3['HeadQuarter'].str.replace('Delhi', 'New Delhi')\n",
    "df3[\"HeadQuarter\"] = df3[\"HeadQuarter\"].replace (['Bangalore','Banglore','Bangalore City'], 'Bengaluru')\n",
    "df3['HeadQuarter'] = df3['HeadQuarter'].replace (['Gurgaon'], 'Gurugram')"
   ]
  },
  {
   "cell_type": "code",
   "execution_count": 115,
   "metadata": {},
   "outputs": [
    {
     "data": {
      "text/plain": [
       "0"
      ]
     },
     "execution_count": 115,
     "metadata": {},
     "output_type": "execute_result"
    }
   ],
   "source": [
    "df3['HeadQuarter'].isnull().sum()"
   ]
  },
  {
   "cell_type": "code",
   "execution_count": 116,
   "metadata": {},
   "outputs": [
    {
     "data": {
      "text/html": [
       "<div>\n",
       "<style scoped>\n",
       "    .dataframe tbody tr th:only-of-type {\n",
       "        vertical-align: middle;\n",
       "    }\n",
       "\n",
       "    .dataframe tbody tr th {\n",
       "        vertical-align: top;\n",
       "    }\n",
       "\n",
       "    .dataframe thead th {\n",
       "        text-align: right;\n",
       "    }\n",
       "</style>\n",
       "<table border=\"1\" class=\"dataframe\">\n",
       "  <thead>\n",
       "    <tr style=\"text-align: right;\">\n",
       "      <th></th>\n",
       "      <th>Company_Brand</th>\n",
       "      <th>Founded</th>\n",
       "      <th>HeadQuarter</th>\n",
       "      <th>Sector</th>\n",
       "      <th>What_it_does</th>\n",
       "      <th>Founders</th>\n",
       "      <th>Investor</th>\n",
       "      <th>Amount</th>\n",
       "      <th>Stage</th>\n",
       "      <th>column10</th>\n",
       "    </tr>\n",
       "  </thead>\n",
       "  <tbody>\n",
       "    <tr>\n",
       "      <th>611</th>\n",
       "      <td>Walrus</td>\n",
       "      <td>2019.0</td>\n",
       "      <td>Bengaluru</td>\n",
       "      <td>Fintech</td>\n",
       "      <td>It provides banking solutions for teens and yo...</td>\n",
       "      <td>Bhagaban Behera, Sriharsha Shetty, Nakul Kelkar</td>\n",
       "      <td>Better Capital</td>\n",
       "      <td>NaN</td>\n",
       "      <td>Pre-Seed</td>\n",
       "      <td>Pre-Seed</td>\n",
       "    </tr>\n",
       "    <tr>\n",
       "      <th>613</th>\n",
       "      <td>goDutch</td>\n",
       "      <td>NaN</td>\n",
       "      <td>Mumbai</td>\n",
       "      <td>Fintech</td>\n",
       "      <td>Group Payments platform</td>\n",
       "      <td>Aniruddh Singh, Riyaz Khan, Sagar Sheth</td>\n",
       "      <td>Matrix India, Y Combinator, Global Founders Ca...</td>\n",
       "      <td>1700000.0</td>\n",
       "      <td>Seed Round</td>\n",
       "      <td>Seed Round</td>\n",
       "    </tr>\n",
       "  </tbody>\n",
       "</table>\n",
       "</div>"
      ],
      "text/plain": [
       "    Company_Brand  Founded HeadQuarter   Sector   \n",
       "611        Walrus   2019.0   Bengaluru  Fintech  \\\n",
       "613       goDutch      NaN      Mumbai  Fintech   \n",
       "\n",
       "                                          What_it_does   \n",
       "611  It provides banking solutions for teens and yo...  \\\n",
       "613                            Group Payments platform   \n",
       "\n",
       "                                            Founders   \n",
       "611  Bhagaban Behera, Sriharsha Shetty, Nakul Kelkar  \\\n",
       "613          Aniruddh Singh, Riyaz Khan, Sagar Sheth   \n",
       "\n",
       "                                              Investor     Amount       Stage   \n",
       "611                                     Better Capital        NaN    Pre-Seed  \\\n",
       "613  Matrix India, Y Combinator, Global Founders Ca...  1700000.0  Seed Round   \n",
       "\n",
       "       column10  \n",
       "611    Pre-Seed  \n",
       "613  Seed Round  "
      ]
     },
     "execution_count": 116,
     "metadata": {},
     "output_type": "execute_result"
    }
   ],
   "source": [
    "df3[df3['column10'].isin(['Pre-Seed','Seed Round'])] #checking the values in the 'column10' "
   ]
  },
  {
   "cell_type": "markdown",
   "metadata": {},
   "source": [
    "### Sector Column"
   ]
  },
  {
   "cell_type": "code",
   "execution_count": 117,
   "metadata": {},
   "outputs": [
    {
     "data": {
      "text/plain": [
       "array(['AgriTech', 'EdTech', 'Hygiene management', 'Escrow',\n",
       "       'Networking platform', 'FinTech', 'Crowdsourcing',\n",
       "       'Food & Bevarages', 'HealthTech', 'Fashion startup',\n",
       "       'Food Industry', 'Food Delivery', 'Virtual auditing startup',\n",
       "       'E-commerce', 'Gaming', 'Work fulfillment', 'AI startup',\n",
       "       'Telecommunication', 'Logistics', 'Tech Startup', 'Sports',\n",
       "       'Retail', 'Medtech', 'Tyre management', 'Cloud company',\n",
       "       'Software company', 'Venture capitalist', 'Renewable player',\n",
       "       'IoT startup', 'SaaS startup', 'Aero company', 'Marketing company',\n",
       "       'Retail startup', 'Co-working Startup', 'Finance company',\n",
       "       'Tech company', 'Solar Monitoring Company',\n",
       "       'Video sharing platform', 'Gaming startup',\n",
       "       'Video streaming platform', 'Consumer appliances',\n",
       "       'Blockchain startup', 'Conversational AI platform', 'Real Estate',\n",
       "       'SaaS platform', 'AI platform', 'Fusion beverages', 'HR Tech',\n",
       "       'Job portal', 'Hospitality', 'Digital Media', 'Dairy startup',\n",
       "       'Content management', 'Spacetech', 'Transportation',\n",
       "       'Trading platform', 'AI Company', 'Photonics startup',\n",
       "       'Entertainment', 'Cosmetics', 'Scanning app', 'Skincare startup',\n",
       "       'Food and Beverages', 'Biotechnology company', 'FoodTech',\n",
       "       'Proptech', 'CleanTech', 'Fitness startup', 'Healthcare',\n",
       "       'PaaS startup', 'Beverages', 'Social Media', 'Automobiles',\n",
       "       'Deeptech', 'EV startup', 'AR/VR startup', 'Recruitment startup',\n",
       "       'QSR startup', 'Video platform', 'Edtech', 'Fertility tech',\n",
       "       'Luxury car startup', 'FM', 'Food', 'Nutrition sector',\n",
       "       'Tech platform', 'Video', 'Retail Tech', 'HeathTech',\n",
       "       'Sles and marketing', 'LegalTech', 'Car Service',\n",
       "       'Bike marketplace', 'Agri tech', 'Reatil startup', 'AR platform',\n",
       "       'Consumer Goods', 'Content marketplace', 'Interior Design',\n",
       "       'Rental space', 'Soil-Tech', 'Ayurveda tech',\n",
       "       'Packaging solution startup', 'Cleantech', 'Sanitation solutions',\n",
       "       'HealthCare', 'Home Design', 'InsureTech', 'AI Startup',\n",
       "       'Solar solution', 'Jewellery startup',\n",
       "       'Multinational conglomerate company', 'Deeptech startup',\n",
       "       'Social Network', 'Publication', 'Tech', 'Fashion', 'Finance',\n",
       "       'Venture capital', 'Entreprenurship', 'Food devlivery',\n",
       "       'Warehouse', 'Online financial service', 'Eyeglasses',\n",
       "       'Battery design', 'Online credit management startup', 'Beverage',\n",
       "       'TravelTech', 'Agriculture', 'Startup laboratory',\n",
       "       'Personal care startup', 'Customer service company',\n",
       "       'SaaS\\xa0\\xa0startup', 'Marketing startup', 'Service industry',\n",
       "       'Social media', 'AI', 'Jewellery', 'AR startup', 'HR Tech startup',\n",
       "       'Automotive Startup', 'Food Startup', 'EdTech Startup',\n",
       "       'Car Trade', 'EdtTech', 'Manufacturing', 'AI Platform',\n",
       "       'Automation', 'Solar SaaS', 'WL & RAC protection',\n",
       "       'Social commerce', 'Home interior services', 'Agritech startup',\n",
       "       'API platform', 'Deep Tech', 'Electricity', 'Automotive company',\n",
       "       'FMCG', 'Insurance Tech', 'Video personalization',\n",
       "       'Software Company', 'Biomaterial startup', 'Health', 'IT',\n",
       "       'Craft Beer', 'Healthtech', 'Education', 'Investment',\n",
       "       'Linguistic Spiritual', 'Construction', 'Battery manufacturer',\n",
       "       'Nano Distribution Network', 'AI health', 'Dating app', 'Media',\n",
       "       'Fintech', 'Healthcare/Edtech', 'Social Commerce',\n",
       "       'Agritech/Commerce', 'Mobility tech', 'Social e-commerce',\n",
       "       'Food & Logistics', 'SpaceTech', 'Nutrition Tech', 'HR', 'IoT',\n",
       "       None, 'Agritech', 'Interior design', 'Foodtech', 'AR/VR',\n",
       "       'Appliance', 'HR tech', 'Food tech', 'Mental Health', 'Ecommerce',\n",
       "       'Solar Solution', 'SaaS', 'Automobile', 'B2B marketplace',\n",
       "       'Fashion Tech', 'Nutrition tech', 'Health & Wellness',\n",
       "       'Cloud Kitchen', 'IoT/Automobile', 'Eye Wear', 'Digital tech',\n",
       "       'Data Intelligence', 'Co-living', 'Food & Beverages', 'Automotive',\n",
       "       'B2B', 'Defense tech', 'Marketplace', 'Construction tech',\n",
       "       'Nutrition', 'Coworking', 'Micro-mobiity', 'Auto-tech', 'Beauty',\n",
       "       'Robotics', 'Yoga & wellness', 'Logitech', 'Med Tech',\n",
       "       'Life sciences', 'Retail Aggregator', 'Deep Tech AI', 'Biotech',\n",
       "       'Blockchain', 'HrTech', 'Mobility/Transport', 'Travel', 'Rental',\n",
       "       'AI & Debt', 'SaaS/Edtech', 'Transport', 'Co-working', 'Insurtech',\n",
       "       'Cryptocurrency', 'Automotive tech', 'Legal', 'Fitness', 'EV',\n",
       "       'Supply chain, Agritech', 'Pharma', 'Insurance technology',\n",
       "       'Foodtech & Logistics', 'Housing', 'Pharmaceutical',\n",
       "       'Data Analytics', 'Investment Tech', 'Financial Services',\n",
       "       'Biopharma', 'Dairy', 'Beauty & wellness', 'Travel & SaaS',\n",
       "       'Tourism & EV', 'Media Tech', 'Location Analytics', 'E store',\n",
       "       'Data Science', 'Insurance', 'Health and Fitness', 'Technology',\n",
       "       'Interior & decor', 'eMobility', 'Automation tech',\n",
       "       'Media & Networking', 'E-market', 'AI & Data science',\n",
       "       'Travel tech', 'Automotive and Rentals', 'E-tail', 'Accomodation',\n",
       "       'AI & Media', 'Machine Learning', 'Content Marktplace',\n",
       "       'Visual Media', 'Hygiene', 'VR & SaaS', 'Sales & Services',\n",
       "       'AI & Deep learning', 'Housing & Rentals', 'Estore', 'Marketing',\n",
       "       'E tailor', 'E-mobility', 'Ad-tech', 'Neo-banking',\n",
       "       'Transport Automation', 'Techonology', 'Transport & Rentals',\n",
       "       'AI Robotics', 'Preschool Daycare', 'Food diet', 'B2B Agritech',\n",
       "       'E-connect', 'Tech hub', 'Consultancy', 'Pharmacy', 'Deisgning',\n",
       "       'Taxation', 'Automobile Technology'], dtype=object)"
      ]
     },
     "execution_count": 117,
     "metadata": {},
     "output_type": "execute_result"
    }
   ],
   "source": [
    "df3['Sector'].unique() # ckecking for unique values in the Sector column "
   ]
  },
  {
   "cell_type": "code",
   "execution_count": 118,
   "metadata": {},
   "outputs": [
    {
     "data": {
      "text/html": [
       "<div>\n",
       "<style scoped>\n",
       "    .dataframe tbody tr th:only-of-type {\n",
       "        vertical-align: middle;\n",
       "    }\n",
       "\n",
       "    .dataframe tbody tr th {\n",
       "        vertical-align: top;\n",
       "    }\n",
       "\n",
       "    .dataframe thead th {\n",
       "        text-align: right;\n",
       "    }\n",
       "</style>\n",
       "<table border=\"1\" class=\"dataframe\">\n",
       "  <thead>\n",
       "    <tr style=\"text-align: right;\">\n",
       "      <th></th>\n",
       "      <th>Company_Brand</th>\n",
       "      <th>Founded</th>\n",
       "      <th>HeadQuarter</th>\n",
       "      <th>Sector</th>\n",
       "      <th>What_it_does</th>\n",
       "      <th>Founders</th>\n",
       "      <th>Investor</th>\n",
       "      <th>Amount</th>\n",
       "      <th>Stage</th>\n",
       "      <th>column10</th>\n",
       "    </tr>\n",
       "  </thead>\n",
       "  <tbody>\n",
       "    <tr>\n",
       "      <th>518</th>\n",
       "      <td>Text Mercato</td>\n",
       "      <td>2015.0</td>\n",
       "      <td>Bengaluru</td>\n",
       "      <td>None</td>\n",
       "      <td>Cataloguing startup that serves ecommerce plat...</td>\n",
       "      <td>Kiran Ramakrishna, Subhajit Mukherjee</td>\n",
       "      <td>1Crowd</td>\n",
       "      <td>649600.0</td>\n",
       "      <td>Series A</td>\n",
       "      <td>None</td>\n",
       "    </tr>\n",
       "    <tr>\n",
       "      <th>569</th>\n",
       "      <td>Magicpin</td>\n",
       "      <td>2015.0</td>\n",
       "      <td>Gurugram</td>\n",
       "      <td>None</td>\n",
       "      <td>It is a local discovery, rewards, and commerce...</td>\n",
       "      <td>Anshoo Sharma, Brij Bhushan</td>\n",
       "      <td>Samsung Venture Investment Corporation</td>\n",
       "      <td>7000000.0</td>\n",
       "      <td>Series D</td>\n",
       "      <td>None</td>\n",
       "    </tr>\n",
       "    <tr>\n",
       "      <th>687</th>\n",
       "      <td>Leap Club</td>\n",
       "      <td>NaN</td>\n",
       "      <td>Gurugram</td>\n",
       "      <td>None</td>\n",
       "      <td>Community led professional network for women</td>\n",
       "      <td>Ragini Das, Anand Sinha</td>\n",
       "      <td>Whiteboard Capital, FirstCheque, Artha India V...</td>\n",
       "      <td>340000.0</td>\n",
       "      <td>Pre seed round</td>\n",
       "      <td>None</td>\n",
       "    </tr>\n",
       "    <tr>\n",
       "      <th>699</th>\n",
       "      <td>Juicy Chemistry</td>\n",
       "      <td>2014.0</td>\n",
       "      <td>Coimbatore</td>\n",
       "      <td>None</td>\n",
       "      <td>It focuses on organic based skincare products</td>\n",
       "      <td>Pritesh Asher</td>\n",
       "      <td>Akya Ventures</td>\n",
       "      <td>650000.0</td>\n",
       "      <td>Series A</td>\n",
       "      <td>None</td>\n",
       "    </tr>\n",
       "    <tr>\n",
       "      <th>707</th>\n",
       "      <td>Magicpin</td>\n",
       "      <td>2015.0</td>\n",
       "      <td>Gurugram</td>\n",
       "      <td>None</td>\n",
       "      <td>It is a local discovery, rewards, and commerce...</td>\n",
       "      <td>Anshoo Sharma, Brij Bhushan</td>\n",
       "      <td>Lightspeed Venture Partners</td>\n",
       "      <td>3879000.0</td>\n",
       "      <td>None</td>\n",
       "      <td>None</td>\n",
       "    </tr>\n",
       "    <tr>\n",
       "      <th>732</th>\n",
       "      <td>Servify</td>\n",
       "      <td>NaN</td>\n",
       "      <td>Mumbai</td>\n",
       "      <td>None</td>\n",
       "      <td>It is a technology company which serves as a p...</td>\n",
       "      <td>Sreevathsa Prabhakar</td>\n",
       "      <td>Barkawi</td>\n",
       "      <td>250000.0</td>\n",
       "      <td>None</td>\n",
       "      <td>None</td>\n",
       "    </tr>\n",
       "    <tr>\n",
       "      <th>746</th>\n",
       "      <td>Wagonfly</td>\n",
       "      <td>2018.0</td>\n",
       "      <td>Bengaluru</td>\n",
       "      <td>None</td>\n",
       "      <td>Contactless shopping and delivery experience b...</td>\n",
       "      <td>Raghavendra Prasad</td>\n",
       "      <td>Investment Trust of India</td>\n",
       "      <td>500000.0</td>\n",
       "      <td>None</td>\n",
       "      <td>None</td>\n",
       "    </tr>\n",
       "    <tr>\n",
       "      <th>763</th>\n",
       "      <td>DrinkPrime</td>\n",
       "      <td>NaN</td>\n",
       "      <td>Bengaluru</td>\n",
       "      <td>None</td>\n",
       "      <td>Water purifier subscription service</td>\n",
       "      <td>Manas Ranjan Hota, Vijender Reddy</td>\n",
       "      <td>Abhishek Goyal, Bharat Jaisinghani, FirstCheque</td>\n",
       "      <td>NaN</td>\n",
       "      <td>Seed Round</td>\n",
       "      <td>None</td>\n",
       "    </tr>\n",
       "    <tr>\n",
       "      <th>809</th>\n",
       "      <td>Kitchens Centre</td>\n",
       "      <td>2019.0</td>\n",
       "      <td>New Delhi</td>\n",
       "      <td>None</td>\n",
       "      <td>Offers solutions to cloud kitchens by providin...</td>\n",
       "      <td>Lakshay Jain</td>\n",
       "      <td>AngelList India</td>\n",
       "      <td>500000.0</td>\n",
       "      <td>Seed Round</td>\n",
       "      <td>None</td>\n",
       "    </tr>\n",
       "    <tr>\n",
       "      <th>918</th>\n",
       "      <td>Innoviti</td>\n",
       "      <td>NaN</td>\n",
       "      <td>Bengaluru</td>\n",
       "      <td>None</td>\n",
       "      <td>Digital payments solutions company</td>\n",
       "      <td>Rajeev Agrawal</td>\n",
       "      <td>FMO</td>\n",
       "      <td>5000000.0</td>\n",
       "      <td>None</td>\n",
       "      <td>None</td>\n",
       "    </tr>\n",
       "    <tr>\n",
       "      <th>926</th>\n",
       "      <td>Brick&amp;Bolt</td>\n",
       "      <td>2018.0</td>\n",
       "      <td>Bengaluru</td>\n",
       "      <td>None</td>\n",
       "      <td>Operates in the residential construction space</td>\n",
       "      <td>Jayesh Rajpurohit, Arpit Rajpurohit</td>\n",
       "      <td>Surge</td>\n",
       "      <td>1500000.0</td>\n",
       "      <td>Pre series A</td>\n",
       "      <td>None</td>\n",
       "    </tr>\n",
       "    <tr>\n",
       "      <th>1012</th>\n",
       "      <td>Toddle</td>\n",
       "      <td>NaN</td>\n",
       "      <td>Bengaluru</td>\n",
       "      <td>None</td>\n",
       "      <td>Collaboration and productivity platform for te...</td>\n",
       "      <td>Deepanshu Arora, Parita Parekh</td>\n",
       "      <td>Matrix Partners India</td>\n",
       "      <td>NaN</td>\n",
       "      <td>None</td>\n",
       "      <td>None</td>\n",
       "    </tr>\n",
       "    <tr>\n",
       "      <th>1031</th>\n",
       "      <td>HaikuJAM</td>\n",
       "      <td>NaN</td>\n",
       "      <td>Mumbai</td>\n",
       "      <td>None</td>\n",
       "      <td>Creative writing mobile platform</td>\n",
       "      <td>Neer Sharma</td>\n",
       "      <td>Lightbox. Social Capital, Dunce Capital</td>\n",
       "      <td>3400000.0</td>\n",
       "      <td>None</td>\n",
       "      <td>None</td>\n",
       "    </tr>\n",
       "  </tbody>\n",
       "</table>\n",
       "</div>"
      ],
      "text/plain": [
       "        Company_Brand  Founded HeadQuarter Sector   \n",
       "518      Text Mercato   2015.0   Bengaluru   None  \\\n",
       "569          Magicpin   2015.0    Gurugram   None   \n",
       "687         Leap Club      NaN    Gurugram   None   \n",
       "699   Juicy Chemistry   2014.0  Coimbatore   None   \n",
       "707          Magicpin   2015.0    Gurugram   None   \n",
       "732           Servify      NaN      Mumbai   None   \n",
       "746          Wagonfly   2018.0   Bengaluru   None   \n",
       "763        DrinkPrime      NaN   Bengaluru   None   \n",
       "809   Kitchens Centre   2019.0   New Delhi   None   \n",
       "918          Innoviti      NaN   Bengaluru   None   \n",
       "926        Brick&Bolt   2018.0   Bengaluru   None   \n",
       "1012           Toddle      NaN   Bengaluru   None   \n",
       "1031         HaikuJAM      NaN      Mumbai   None   \n",
       "\n",
       "                                           What_it_does   \n",
       "518   Cataloguing startup that serves ecommerce plat...  \\\n",
       "569   It is a local discovery, rewards, and commerce...   \n",
       "687        Community led professional network for women   \n",
       "699       It focuses on organic based skincare products   \n",
       "707   It is a local discovery, rewards, and commerce...   \n",
       "732   It is a technology company which serves as a p...   \n",
       "746   Contactless shopping and delivery experience b...   \n",
       "763                 Water purifier subscription service   \n",
       "809   Offers solutions to cloud kitchens by providin...   \n",
       "918                  Digital payments solutions company   \n",
       "926      Operates in the residential construction space   \n",
       "1012  Collaboration and productivity platform for te...   \n",
       "1031                   Creative writing mobile platform   \n",
       "\n",
       "                                   Founders   \n",
       "518   Kiran Ramakrishna, Subhajit Mukherjee  \\\n",
       "569             Anshoo Sharma, Brij Bhushan   \n",
       "687                 Ragini Das, Anand Sinha   \n",
       "699                           Pritesh Asher   \n",
       "707             Anshoo Sharma, Brij Bhushan   \n",
       "732                    Sreevathsa Prabhakar   \n",
       "746                      Raghavendra Prasad   \n",
       "763       Manas Ranjan Hota, Vijender Reddy   \n",
       "809                            Lakshay Jain   \n",
       "918                          Rajeev Agrawal   \n",
       "926     Jayesh Rajpurohit, Arpit Rajpurohit   \n",
       "1012         Deepanshu Arora, Parita Parekh   \n",
       "1031                            Neer Sharma   \n",
       "\n",
       "                                               Investor     Amount   \n",
       "518                                              1Crowd   649600.0  \\\n",
       "569              Samsung Venture Investment Corporation  7000000.0   \n",
       "687   Whiteboard Capital, FirstCheque, Artha India V...   340000.0   \n",
       "699                                       Akya Ventures   650000.0   \n",
       "707                         Lightspeed Venture Partners  3879000.0   \n",
       "732                                             Barkawi   250000.0   \n",
       "746                           Investment Trust of India   500000.0   \n",
       "763     Abhishek Goyal, Bharat Jaisinghani, FirstCheque        NaN   \n",
       "809                                     AngelList India   500000.0   \n",
       "918                                                 FMO  5000000.0   \n",
       "926                                               Surge  1500000.0   \n",
       "1012                              Matrix Partners India        NaN   \n",
       "1031            Lightbox. Social Capital, Dunce Capital  3400000.0   \n",
       "\n",
       "               Stage column10  \n",
       "518         Series A     None  \n",
       "569         Series D     None  \n",
       "687   Pre seed round     None  \n",
       "699         Series A     None  \n",
       "707             None     None  \n",
       "732             None     None  \n",
       "746             None     None  \n",
       "763       Seed Round     None  \n",
       "809       Seed Round     None  \n",
       "918             None     None  \n",
       "926     Pre series A     None  \n",
       "1012            None     None  \n",
       "1031            None     None  "
      ]
     },
     "execution_count": 118,
     "metadata": {},
     "output_type": "execute_result"
    }
   ],
   "source": [
    "df3[df3['Sector'].isnull()] # we are checking for null values"
   ]
  },
  {
   "cell_type": "code",
   "execution_count": 119,
   "metadata": {},
   "outputs": [],
   "source": [
    "# we replacing the null values with the actual data by searching from google\n",
    "\n",
    "df3.loc[df3['Company_Brand'] == 'Text Mercato', 'Sector'] = 'E-commerce Technology'\n",
    "df3.loc[df3['Company_Brand'] == 'Magicpin', 'Sector'] = 'Hyperlocal Services'\n",
    "df3.loc[df3['Company_Brand'] == 'Leap Club', 'Sector'] = 'Professional Networking'\n",
    "df3.loc[df3['Company_Brand'] == 'Juicy Chemistry', 'Sector'] = 'Organic Skincare'\n",
    "df3.loc[df3['Company_Brand'] == 'Servify', 'Sector'] = 'Technology Services'\n",
    "df3.loc[df3['Company_Brand'] == 'Wagonfly', 'Sector'] = 'Retail Technology'\n",
    "df3.loc[df3['Company_Brand'] == 'DrinkPrime', 'Sector'] = 'Water Technology'\n",
    "df3.loc[df3['Company_Brand'] == 'Kitchens Centre', 'Sector'] = 'Food Service Infrastructure'\n",
    "df3.loc[df3['Company_Brand'] == 'Innoviti', 'Sector'] = 'Fintech'\n",
    "df3.loc[df3['Company_Brand'] == 'Brick&Bolt', 'Sector'] = 'Construction and Real Estate'\n",
    "df3.loc[df3['Company_Brand'] == 'Toddle', 'Sector'] = 'EdTech'\n",
    "df3.loc[df3['Company_Brand'] == 'HaikuJAM', 'Sector'] = 'EdTech'"
   ]
  },
  {
   "cell_type": "code",
   "execution_count": 120,
   "metadata": {},
   "outputs": [
    {
     "data": {
      "text/plain": [
       "0"
      ]
     },
     "execution_count": 120,
     "metadata": {},
     "output_type": "execute_result"
    }
   ],
   "source": [
    "df3['Sector'].isnull().sum() # checking to confirm the null values "
   ]
  },
  {
   "attachments": {},
   "cell_type": "markdown",
   "metadata": {},
   "source": [
    "### Stage Column"
   ]
  },
  {
   "cell_type": "code",
   "execution_count": 121,
   "metadata": {},
   "outputs": [
    {
     "data": {
      "text/plain": [
       "array([None, 'Pre-seed', 'Seed', 'Pre-series A', 'Pre-series', 'Series C',\n",
       "       'Series A', 'Series B', 'Debt', 'Pre-series C', 'Pre-series B',\n",
       "       'Series E', 'Bridge', 'Series D', 'Series B2', 'Series F',\n",
       "       'Pre- series A', 'Edge', 'Series H', 'Pre-Series B', 'Seed A',\n",
       "       'Series A-1', 'Seed Funding', 'Pre-Seed', 'Seed round',\n",
       "       'Pre-seed Round', 'Seed Round & Series A', 'Pre Series A',\n",
       "       'Pre seed Round', 'Angel Round', 'Pre series A1', 'Series E2',\n",
       "       'Pre series A', 'Seed Round', 'Bridge Round', 'Pre seed round',\n",
       "       'Pre series B', 'Pre series C', 'Seed Investment', 'Series D1',\n",
       "       'Mid series', 'Series C, D', 'Seed funding'], dtype=object)"
      ]
     },
     "execution_count": 121,
     "metadata": {},
     "output_type": "execute_result"
    }
   ],
   "source": [
    "df3['Stage'].unique() # checking the unique values in the data set"
   ]
  },
  {
   "cell_type": "code",
   "execution_count": 122,
   "metadata": {},
   "outputs": [],
   "source": [
    "most_frequent_stage = df3['Stage'].mode()[0]\n",
    "df3['Stage'].fillna(most_frequent_stage, inplace=True)"
   ]
  },
  {
   "cell_type": "code",
   "execution_count": 123,
   "metadata": {},
   "outputs": [
    {
     "data": {
      "text/plain": [
       "0"
      ]
     },
     "execution_count": 123,
     "metadata": {},
     "output_type": "execute_result"
    }
   ],
   "source": [
    "df3['Stage'].isnull().sum() # CONFIRMING THE NULL VALUES AGAIN"
   ]
  },
  {
   "cell_type": "code",
   "execution_count": 124,
   "metadata": {},
   "outputs": [
    {
     "name": "stdout",
     "output_type": "stream",
     "text": [
      "Company_Brand: False\n",
      "HeadQuarter: False\n",
      "Sector: False\n",
      "What_it_does: False\n",
      "Stage: False\n",
      "Amount: False\n"
     ]
    }
   ],
   "source": [
    "# checking for '-' symbol within the columns\n",
    "df3_to_check_colomns = ['Company_Brand','HeadQuarter', 'Sector', 'What_it_does','Stage','Amount']\n",
    "for col in df3_to_check_colomns:\n",
    "    dash_symbols = df3[col].astype(str).str.contains('—').any()\n",
    "    print(f\"{col}: {dash_symbols}\")"
   ]
  },
  {
   "attachments": {},
   "cell_type": "markdown",
   "metadata": {},
   "source": [
    "### Amount Column"
   ]
  },
  {
   "cell_type": "code",
   "execution_count": 125,
   "metadata": {},
   "outputs": [
    {
     "data": {
      "text/plain": [
       "0    200000.0\n",
       "1    100000.0\n",
       "2         NaN\n",
       "3    400000.0\n",
       "4    340000.0\n",
       "Name: Amount, dtype: float64"
      ]
     },
     "execution_count": 125,
     "metadata": {},
     "output_type": "execute_result"
    }
   ],
   "source": [
    "df3[\"Amount\"].head() # Calculate the frequency count of unique values in the \"Amount\" column"
   ]
  },
  {
   "cell_type": "code",
   "execution_count": 126,
   "metadata": {},
   "outputs": [
    {
     "data": {
      "text/plain": [
       "253"
      ]
     },
     "execution_count": 126,
     "metadata": {},
     "output_type": "execute_result"
    }
   ],
   "source": [
    "df3['Amount'].isnull().sum()"
   ]
  },
  {
   "attachments": {},
   "cell_type": "markdown",
   "metadata": {},
   "source": [
    "DEALING WITH MISSING VALUES IN THE AMOUNT COLUMN IN DATA SET 2020"
   ]
  },
  {
   "cell_type": "code",
   "execution_count": 127,
   "metadata": {},
   "outputs": [],
   "source": [
    "#creating the contingency table\n",
    "\n",
    "conting_table_3 = pd.crosstab(df3['Sector'], df3['Amount'].isnull())"
   ]
  },
  {
   "cell_type": "code",
   "execution_count": 128,
   "metadata": {},
   "outputs": [
    {
     "data": {
      "text/plain": [
       "0.1839099738666176"
      ]
     },
     "execution_count": 128,
     "metadata": {},
     "output_type": "execute_result"
    }
   ],
   "source": [
    "# below we are performing the chi-square test\n",
    "chi2_3, p_value_3, _,_ = chi2_contingency(conting_table_3)\n",
    "chi2_3\n",
    "p_value_3"
   ]
  },
  {
   "cell_type": "code",
   "execution_count": 129,
   "metadata": {},
   "outputs": [
    {
     "name": "stdout",
     "output_type": "stream",
     "text": [
      "There is no significant association between the missing values in the 'Amount' column and the 'Sector' column.\n"
     ]
    }
   ],
   "source": [
    "# we are interpretting the chi-sqaure test \n",
    "significance_level_3 = 0.05\n",
    "\n",
    "if p_value_3 < significance_level_3:\n",
    "    print(\"There is a significant association between the missing values in the 'Amount' column and the 'Sector' column.\")\n",
    "else:\n",
    "    print(\"There is no significant association between the missing values in the 'Amount' column and the 'Sector' column.\")"
   ]
  },
  {
   "cell_type": "code",
   "execution_count": 130,
   "metadata": {},
   "outputs": [
    {
     "data": {
      "image/png": "[encoded data removed]",
      "text/plain": [
       "<Figure size 640x480 with 1 Axes>"
      ]
     },
     "metadata": {},
     "output_type": "display_data"
    }
   ],
   "source": [
    "# creating a subset of the relevant columns\n",
    "rele_col = ['Amount', 'Sector', 'Stage', 'HeadQuarter']\n",
    "\n",
    "# creating a dataframe with missing value indicator \n",
    "missing_indicator_df = df3[rele_col].isnull()\n",
    "\n",
    "# below we are creating a missing data heat map\n",
    "sns.heatmap(missing_indicator_df, cmap='viridis', cbar=False)\n",
    "plt.title('Missing Data Map')\n",
    "plt.show()"
   ]
  },
  {
   "cell_type": "code",
   "execution_count": 131,
   "metadata": {},
   "outputs": [],
   "source": [
    "# we are creating the median of the not missing values \n",
    "median_non_null_Amount = df3['Amount'].dropna()\n",
    "\n",
    "median_Amount = median_non_null_Amount.median() \n",
    "\n",
    "# below we are filling in the missing values with the median \n",
    "df3['Amount'].fillna(median_Amount, inplace=True)"
   ]
  },
  {
   "cell_type": "code",
   "execution_count": 132,
   "metadata": {},
   "outputs": [
    {
     "data": {
      "text/plain": [
       "0"
      ]
     },
     "execution_count": 132,
     "metadata": {},
     "output_type": "execute_result"
    }
   ],
   "source": [
    "df3['Amount'].isnull().sum() # checking for null values"
   ]
  },
  {
   "cell_type": "code",
   "execution_count": 133,
   "metadata": {},
   "outputs": [],
   "source": [
    "df3 = df3.drop(['column10','Founded','Founders','Investor'], axis=1) #dropping specific columns from the DataFrame "
   ]
  },
  {
   "cell_type": "code",
   "execution_count": 134,
   "metadata": {},
   "outputs": [],
   "source": [
    "df3['Funding Year'] = 2020 # Assign 2020 to the 'Funding Year' column"
   ]
  },
  {
   "cell_type": "code",
   "execution_count": 135,
   "metadata": {},
   "outputs": [],
   "source": [
    "new_column_names = {'Company_Brand': 'Company', 'What_it_does': 'About', 'HeadQuarter': 'Location'} # Renaming columns\n",
    "df3 = df3.rename(columns=new_column_names)"
   ]
  },
  {
   "cell_type": "code",
   "execution_count": 136,
   "metadata": {},
   "outputs": [
    {
     "data": {
      "text/plain": [
       "Company         0\n",
       "Location        0\n",
       "Sector          0\n",
       "About           0\n",
       "Amount          0\n",
       "Stage           0\n",
       "Funding Year    0\n",
       "dtype: int64"
      ]
     },
     "execution_count": 136,
     "metadata": {},
     "output_type": "execute_result"
    }
   ],
   "source": [
    "df3.isnull().sum()"
   ]
  },
  {
   "cell_type": "code",
   "execution_count": 137,
   "metadata": {},
   "outputs": [
    {
     "data": {
      "text/html": [
       "<div>\n",
       "<style scoped>\n",
       "    .dataframe tbody tr th:only-of-type {\n",
       "        vertical-align: middle;\n",
       "    }\n",
       "\n",
       "    .dataframe tbody tr th {\n",
       "        vertical-align: top;\n",
       "    }\n",
       "\n",
       "    .dataframe thead th {\n",
       "        text-align: right;\n",
       "    }\n",
       "</style>\n",
       "<table border=\"1\" class=\"dataframe\">\n",
       "  <thead>\n",
       "    <tr style=\"text-align: right;\">\n",
       "      <th></th>\n",
       "      <th>Company</th>\n",
       "      <th>Location</th>\n",
       "      <th>Sector</th>\n",
       "      <th>About</th>\n",
       "      <th>Amount</th>\n",
       "      <th>Stage</th>\n",
       "      <th>Funding Year</th>\n",
       "    </tr>\n",
       "  </thead>\n",
       "  <tbody>\n",
       "    <tr>\n",
       "      <th>0</th>\n",
       "      <td>Aqgromalin</td>\n",
       "      <td>Chennai</td>\n",
       "      <td>AgriTech</td>\n",
       "      <td>Cultivating Ideas for Profit</td>\n",
       "      <td>200000.0</td>\n",
       "      <td>Series A</td>\n",
       "      <td>2020</td>\n",
       "    </tr>\n",
       "    <tr>\n",
       "      <th>1</th>\n",
       "      <td>Krayonnz</td>\n",
       "      <td>Bengaluru</td>\n",
       "      <td>EdTech</td>\n",
       "      <td>An academy-guardian-scholar centric ecosystem ...</td>\n",
       "      <td>100000.0</td>\n",
       "      <td>Pre-seed</td>\n",
       "      <td>2020</td>\n",
       "    </tr>\n",
       "    <tr>\n",
       "      <th>2</th>\n",
       "      <td>PadCare Labs</td>\n",
       "      <td>Pune</td>\n",
       "      <td>Hygiene management</td>\n",
       "      <td>Converting bio-hazardous waste to harmless waste</td>\n",
       "      <td>3000000.0</td>\n",
       "      <td>Pre-seed</td>\n",
       "      <td>2020</td>\n",
       "    </tr>\n",
       "    <tr>\n",
       "      <th>3</th>\n",
       "      <td>NCOME</td>\n",
       "      <td>New Delhi</td>\n",
       "      <td>Escrow</td>\n",
       "      <td>Escrow-as-a-service platform</td>\n",
       "      <td>400000.0</td>\n",
       "      <td>Series A</td>\n",
       "      <td>2020</td>\n",
       "    </tr>\n",
       "    <tr>\n",
       "      <th>4</th>\n",
       "      <td>Gramophone</td>\n",
       "      <td>Indore</td>\n",
       "      <td>AgriTech</td>\n",
       "      <td>Gramophone is an AgTech platform enabling acce...</td>\n",
       "      <td>340000.0</td>\n",
       "      <td>Series A</td>\n",
       "      <td>2020</td>\n",
       "    </tr>\n",
       "  </tbody>\n",
       "</table>\n",
       "</div>"
      ],
      "text/plain": [
       "        Company   Location              Sector   \n",
       "0    Aqgromalin    Chennai            AgriTech  \\\n",
       "1      Krayonnz  Bengaluru              EdTech   \n",
       "2  PadCare Labs       Pune  Hygiene management   \n",
       "3         NCOME  New Delhi              Escrow   \n",
       "4    Gramophone     Indore            AgriTech   \n",
       "\n",
       "                                               About     Amount     Stage   \n",
       "0                       Cultivating Ideas for Profit   200000.0  Series A  \\\n",
       "1  An academy-guardian-scholar centric ecosystem ...   100000.0  Pre-seed   \n",
       "2   Converting bio-hazardous waste to harmless waste  3000000.0  Pre-seed   \n",
       "3                       Escrow-as-a-service platform   400000.0  Series A   \n",
       "4  Gramophone is an AgTech platform enabling acce...   340000.0  Series A   \n",
       "\n",
       "   Funding Year  \n",
       "0          2020  \n",
       "1          2020  \n",
       "2          2020  \n",
       "3          2020  \n",
       "4          2020  "
      ]
     },
     "execution_count": 137,
     "metadata": {},
     "output_type": "execute_result"
    }
   ],
   "source": [
    "df3.head() # checking the head of the data to confirm before saving the data "
   ]
  },
  {
   "cell_type": "code",
   "execution_count": 138,
   "metadata": {},
   "outputs": [],
   "source": [
    "# saving the clean data set\n",
    "\n",
    "df3.to_csv('df_2020.csv', index=False)"
   ]
  },
  {
   "attachments": {},
   "cell_type": "markdown",
   "metadata": {},
   "source": [
    "## 2021 Dataset"
   ]
  },
  {
   "cell_type": "code",
   "execution_count": 139,
   "metadata": {},
   "outputs": [
    {
     "data": {
      "text/html": [
       "<div>\n",
       "<style scoped>\n",
       "    .dataframe tbody tr th:only-of-type {\n",
       "        vertical-align: middle;\n",
       "    }\n",
       "\n",
       "    .dataframe tbody tr th {\n",
       "        vertical-align: top;\n",
       "    }\n",
       "\n",
       "    .dataframe thead th {\n",
       "        text-align: right;\n",
       "    }\n",
       "</style>\n",
       "<table border=\"1\" class=\"dataframe\">\n",
       "  <thead>\n",
       "    <tr style=\"text-align: right;\">\n",
       "      <th></th>\n",
       "      <th>Company_Brand</th>\n",
       "      <th>Founded</th>\n",
       "      <th>HeadQuarter</th>\n",
       "      <th>Sector</th>\n",
       "      <th>What_it_does</th>\n",
       "      <th>Founders</th>\n",
       "      <th>Investor</th>\n",
       "      <th>Amount</th>\n",
       "      <th>Stage</th>\n",
       "    </tr>\n",
       "  </thead>\n",
       "  <tbody>\n",
       "    <tr>\n",
       "      <th>0</th>\n",
       "      <td>Unbox Robotics</td>\n",
       "      <td>2019.0</td>\n",
       "      <td>Bangalore</td>\n",
       "      <td>AI startup</td>\n",
       "      <td>Unbox Robotics builds on-demand AI-driven ware...</td>\n",
       "      <td>Pramod Ghadge, Shahid Memon</td>\n",
       "      <td>BEENEXT, Entrepreneur First</td>\n",
       "      <td>$1,200,000</td>\n",
       "      <td>Pre-series A</td>\n",
       "    </tr>\n",
       "    <tr>\n",
       "      <th>1</th>\n",
       "      <td>upGrad</td>\n",
       "      <td>2015.0</td>\n",
       "      <td>Mumbai</td>\n",
       "      <td>EdTech</td>\n",
       "      <td>UpGrad is an online higher education platform.</td>\n",
       "      <td>Mayank Kumar, Phalgun Kompalli, Ravijot Chugh,...</td>\n",
       "      <td>Unilazer Ventures, IIFL Asset Management</td>\n",
       "      <td>$120,000,000</td>\n",
       "      <td>None</td>\n",
       "    </tr>\n",
       "    <tr>\n",
       "      <th>2</th>\n",
       "      <td>Lead School</td>\n",
       "      <td>2012.0</td>\n",
       "      <td>Mumbai</td>\n",
       "      <td>EdTech</td>\n",
       "      <td>LEAD School offers technology based school tra...</td>\n",
       "      <td>Smita Deorah, Sumeet Mehta</td>\n",
       "      <td>GSV Ventures, Westbridge Capital</td>\n",
       "      <td>$30,000,000</td>\n",
       "      <td>Series D</td>\n",
       "    </tr>\n",
       "    <tr>\n",
       "      <th>3</th>\n",
       "      <td>Bizongo</td>\n",
       "      <td>2015.0</td>\n",
       "      <td>Mumbai</td>\n",
       "      <td>B2B E-commerce</td>\n",
       "      <td>Bizongo is a business-to-business online marke...</td>\n",
       "      <td>Aniket Deb, Ankit Tomar, Sachin Agrawal</td>\n",
       "      <td>CDC Group, IDG Capital</td>\n",
       "      <td>$51,000,000</td>\n",
       "      <td>Series C</td>\n",
       "    </tr>\n",
       "    <tr>\n",
       "      <th>4</th>\n",
       "      <td>FypMoney</td>\n",
       "      <td>2021.0</td>\n",
       "      <td>Gurugram</td>\n",
       "      <td>FinTech</td>\n",
       "      <td>FypMoney is Digital NEO Bank for Teenagers, em...</td>\n",
       "      <td>Kapil Banwari</td>\n",
       "      <td>Liberatha Kallat, Mukesh Yadav, Dinesh Nagpal</td>\n",
       "      <td>$2,000,000</td>\n",
       "      <td>Seed</td>\n",
       "    </tr>\n",
       "  </tbody>\n",
       "</table>\n",
       "</div>"
      ],
      "text/plain": [
       "    Company_Brand  Founded HeadQuarter          Sector   \n",
       "0  Unbox Robotics   2019.0   Bangalore      AI startup  \\\n",
       "1          upGrad   2015.0      Mumbai          EdTech   \n",
       "2     Lead School   2012.0      Mumbai          EdTech   \n",
       "3         Bizongo   2015.0      Mumbai  B2B E-commerce   \n",
       "4        FypMoney   2021.0    Gurugram         FinTech   \n",
       "\n",
       "                                        What_it_does   \n",
       "0  Unbox Robotics builds on-demand AI-driven ware...  \\\n",
       "1     UpGrad is an online higher education platform.   \n",
       "2  LEAD School offers technology based school tra...   \n",
       "3  Bizongo is a business-to-business online marke...   \n",
       "4  FypMoney is Digital NEO Bank for Teenagers, em...   \n",
       "\n",
       "                                            Founders   \n",
       "0                        Pramod Ghadge, Shahid Memon  \\\n",
       "1  Mayank Kumar, Phalgun Kompalli, Ravijot Chugh,...   \n",
       "2                         Smita Deorah, Sumeet Mehta   \n",
       "3            Aniket Deb, Ankit Tomar, Sachin Agrawal   \n",
       "4                                      Kapil Banwari   \n",
       "\n",
       "                                        Investor        Amount         Stage  \n",
       "0                    BEENEXT, Entrepreneur First    $1,200,000  Pre-series A  \n",
       "1       Unilazer Ventures, IIFL Asset Management  $120,000,000          None  \n",
       "2               GSV Ventures, Westbridge Capital   $30,000,000      Series D  \n",
       "3                         CDC Group, IDG Capital   $51,000,000      Series C  \n",
       "4  Liberatha Kallat, Mukesh Yadav, Dinesh Nagpal    $2,000,000          Seed  "
      ]
     },
     "execution_count": 139,
     "metadata": {},
     "output_type": "execute_result"
    }
   ],
   "source": [
    "df4.head() #showing the first five rows"
   ]
  },
  {
   "cell_type": "code",
   "execution_count": 140,
   "metadata": {},
   "outputs": [
    {
     "data": {
      "text/plain": [
       "(1209, 9)"
      ]
     },
     "execution_count": 140,
     "metadata": {},
     "output_type": "execute_result"
    }
   ],
   "source": [
    "df4.shape #understanding the size of your DataFrame"
   ]
  },
  {
   "cell_type": "code",
   "execution_count": 141,
   "metadata": {},
   "outputs": [
    {
     "data": {
      "text/plain": [
       "Index(['Company_Brand', 'Founded', 'HeadQuarter', 'Sector', 'What_it_does',\n",
       "       'Founders', 'Investor', 'Amount', 'Stage'],\n",
       "      dtype='object')"
      ]
     },
     "execution_count": 141,
     "metadata": {},
     "output_type": "execute_result"
    }
   ],
   "source": [
    "df4.columns #retrieving the column names of the DataFrame"
   ]
  },
  {
   "cell_type": "code",
   "execution_count": 142,
   "metadata": {},
   "outputs": [
    {
     "name": "stdout",
     "output_type": "stream",
     "text": [
      "<class 'pandas.core.frame.DataFrame'>\n",
      "RangeIndex: 1209 entries, 0 to 1208\n",
      "Data columns (total 9 columns):\n",
      " #   Column         Non-Null Count  Dtype  \n",
      "---  ------         --------------  -----  \n",
      " 0   Company_Brand  1209 non-null   object \n",
      " 1   Founded        1208 non-null   float64\n",
      " 2   HeadQuarter    1208 non-null   object \n",
      " 3   Sector         1209 non-null   object \n",
      " 4   What_it_does   1209 non-null   object \n",
      " 5   Founders       1205 non-null   object \n",
      " 6   Investor       1147 non-null   object \n",
      " 7   Amount         1206 non-null   object \n",
      " 8   Stage          781 non-null    object \n",
      "dtypes: float64(1), object(8)\n",
      "memory usage: 85.1+ KB\n"
     ]
    }
   ],
   "source": [
    "df4.info() #providing a summary of the DataFrame"
   ]
  },
  {
   "cell_type": "code",
   "execution_count": 143,
   "metadata": {},
   "outputs": [
    {
     "data": {
      "text/html": [
       "<div>\n",
       "<style scoped>\n",
       "    .dataframe tbody tr th:only-of-type {\n",
       "        vertical-align: middle;\n",
       "    }\n",
       "\n",
       "    .dataframe tbody tr th {\n",
       "        vertical-align: top;\n",
       "    }\n",
       "\n",
       "    .dataframe thead th {\n",
       "        text-align: right;\n",
       "    }\n",
       "</style>\n",
       "<table border=\"1\" class=\"dataframe\">\n",
       "  <thead>\n",
       "    <tr style=\"text-align: right;\">\n",
       "      <th></th>\n",
       "      <th>count</th>\n",
       "      <th>unique</th>\n",
       "      <th>top</th>\n",
       "      <th>freq</th>\n",
       "    </tr>\n",
       "  </thead>\n",
       "  <tbody>\n",
       "    <tr>\n",
       "      <th>Company_Brand</th>\n",
       "      <td>1209</td>\n",
       "      <td>1033</td>\n",
       "      <td>BharatPe</td>\n",
       "      <td>8</td>\n",
       "    </tr>\n",
       "    <tr>\n",
       "      <th>HeadQuarter</th>\n",
       "      <td>1208</td>\n",
       "      <td>70</td>\n",
       "      <td>Bangalore</td>\n",
       "      <td>426</td>\n",
       "    </tr>\n",
       "    <tr>\n",
       "      <th>Sector</th>\n",
       "      <td>1209</td>\n",
       "      <td>254</td>\n",
       "      <td>FinTech</td>\n",
       "      <td>122</td>\n",
       "    </tr>\n",
       "    <tr>\n",
       "      <th>What_it_does</th>\n",
       "      <td>1209</td>\n",
       "      <td>1143</td>\n",
       "      <td>BharatPe develops a QR code-based payment app ...</td>\n",
       "      <td>4</td>\n",
       "    </tr>\n",
       "    <tr>\n",
       "      <th>Founders</th>\n",
       "      <td>1205</td>\n",
       "      <td>1095</td>\n",
       "      <td>Ashneer Grover, Shashvat Nakrani</td>\n",
       "      <td>7</td>\n",
       "    </tr>\n",
       "    <tr>\n",
       "      <th>Investor</th>\n",
       "      <td>1147</td>\n",
       "      <td>937</td>\n",
       "      <td>Inflection Point Ventures</td>\n",
       "      <td>24</td>\n",
       "    </tr>\n",
       "    <tr>\n",
       "      <th>Amount</th>\n",
       "      <td>1206</td>\n",
       "      <td>278</td>\n",
       "      <td>$Undisclosed</td>\n",
       "      <td>73</td>\n",
       "    </tr>\n",
       "    <tr>\n",
       "      <th>Stage</th>\n",
       "      <td>781</td>\n",
       "      <td>31</td>\n",
       "      <td>Seed</td>\n",
       "      <td>246</td>\n",
       "    </tr>\n",
       "  </tbody>\n",
       "</table>\n",
       "</div>"
      ],
      "text/plain": [
       "              count unique                                                top   \n",
       "Company_Brand  1209   1033                                           BharatPe  \\\n",
       "HeadQuarter    1208     70                                          Bangalore   \n",
       "Sector         1209    254                                            FinTech   \n",
       "What_it_does   1209   1143  BharatPe develops a QR code-based payment app ...   \n",
       "Founders       1205   1095                   Ashneer Grover, Shashvat Nakrani   \n",
       "Investor       1147    937                          Inflection Point Ventures   \n",
       "Amount         1206    278                                       $Undisclosed   \n",
       "Stage           781     31                                               Seed   \n",
       "\n",
       "              freq  \n",
       "Company_Brand    8  \n",
       "HeadQuarter    426  \n",
       "Sector         122  \n",
       "What_it_does     4  \n",
       "Founders         7  \n",
       "Investor        24  \n",
       "Amount          73  \n",
       "Stage          246  "
      ]
     },
     "execution_count": 143,
     "metadata": {},
     "output_type": "execute_result"
    }
   ],
   "source": [
    "df4.describe(include='object').T #providing descriptive statistics for columns of object data type in the DataFrame"
   ]
  },
  {
   "attachments": {},
   "cell_type": "markdown",
   "metadata": {},
   "source": [
    "### Handling Duplicated Data"
   ]
  },
  {
   "cell_type": "code",
   "execution_count": 144,
   "metadata": {},
   "outputs": [
    {
     "name": "stdout",
     "output_type": "stream",
     "text": [
      "Company_Brand: True\n",
      "Founded: True\n",
      "HeadQuarter: True\n",
      "Sector: True\n",
      "What_it_does: True\n",
      "Founders: True\n",
      "Investor: True\n",
      "Amount: True\n",
      "Stage: True\n"
     ]
    }
   ],
   "source": [
    "#checking for duplicate values in each column of the DataFrame df4\n",
    "columns_to_check4 = ['Company_Brand', 'Founded', 'HeadQuarter', 'Sector', 'What_it_does', 'Founders', 'Investor', 'Amount', 'Stage']\n",
    "\n",
    "for column4 in columns_to_check4:\n",
    "    has_duplicates4 = df4[column4].duplicated().any()\n",
    "    print(f'{column4}: {has_duplicates4}')"
   ]
  },
  {
   "cell_type": "code",
   "execution_count": 145,
   "metadata": {},
   "outputs": [],
   "source": [
    "#removing any rows that have the same values in all the specified columns.\n",
    "df4.drop_duplicates(subset=['Company_Brand', 'Founded', 'HeadQuarter', 'Sector', 'What_it_does', 'Founders', 'Investor', 'Amount', 'Stage'], inplace=True)"
   ]
  },
  {
   "cell_type": "code",
   "execution_count": 146,
   "metadata": {},
   "outputs": [
    {
     "data": {
      "text/plain": [
       "Company_Brand      0\n",
       "Founded            1\n",
       "HeadQuarter        1\n",
       "Sector             0\n",
       "What_it_does       0\n",
       "Founders           4\n",
       "Investor          61\n",
       "Amount             3\n",
       "Stage            421\n",
       "dtype: int64"
      ]
     },
     "execution_count": 146,
     "metadata": {},
     "output_type": "execute_result"
    }
   ],
   "source": [
    "df4.isnull().sum() # looking for missing values in dataFrame"
   ]
  },
  {
   "attachments": {},
   "cell_type": "markdown",
   "metadata": {},
   "source": [
    "### Handling Categorical Data"
   ]
  },
  {
   "cell_type": "code",
   "execution_count": 147,
   "metadata": {},
   "outputs": [
    {
     "data": {
      "text/plain": [
       "array(['Bangalore', 'Mumbai', 'Gurugram', 'New Delhi', 'Hyderabad',\n",
       "       'Jaipur', 'Ahmadabad', 'Chennai', None,\n",
       "       'Small Towns, Andhra Pradesh', 'Goa', 'Rajsamand', 'Ranchi',\n",
       "       'Faridabad, Haryana', 'Gujarat', 'Pune', 'Thane', 'Computer Games',\n",
       "       'Cochin', 'Noida', 'Chandigarh', 'Gurgaon', 'Vadodara',\n",
       "       'Food & Beverages', 'Pharmaceuticals\\t#REF!', 'Gurugram\\t#REF!',\n",
       "       'Kolkata', 'Ahmedabad', 'Mohali', 'Haryana', 'Indore', 'Powai',\n",
       "       'Ghaziabad', 'Nagpur', 'West Bengal', 'Patna', 'Samsitpur',\n",
       "       'Lucknow', 'Telangana', 'Silvassa', 'Thiruvananthapuram',\n",
       "       'Faridabad', 'Roorkee', 'Ambernath', 'Panchkula', 'Surat',\n",
       "       'Coimbatore', 'Andheri', 'Mangalore', 'Telugana', 'Bhubaneswar',\n",
       "       'Kottayam', 'Beijing', 'Panaji', 'Satara', 'Orissia', 'Jodhpur',\n",
       "       'New York', 'Santra', 'Mountain View, CA', 'Trivandrum',\n",
       "       'Jharkhand', 'Kanpur', 'Bhilwara', 'Guwahati',\n",
       "       'Online Media\\t#REF!', 'Kochi', 'London',\n",
       "       'Information Technology & Services', 'The Nilgiris', 'Gandhinagar'],\n",
       "      dtype=object)"
      ]
     },
     "execution_count": 147,
     "metadata": {},
     "output_type": "execute_result"
    }
   ],
   "source": [
    "df4['HeadQuarter'].unique() # here we are looking at the unique values in the column "
   ]
  },
  {
   "cell_type": "code",
   "execution_count": 148,
   "metadata": {},
   "outputs": [
    {
     "data": {
      "text/html": [
       "<div>\n",
       "<style scoped>\n",
       "    .dataframe tbody tr th:only-of-type {\n",
       "        vertical-align: middle;\n",
       "    }\n",
       "\n",
       "    .dataframe tbody tr th {\n",
       "        vertical-align: top;\n",
       "    }\n",
       "\n",
       "    .dataframe thead th {\n",
       "        text-align: right;\n",
       "    }\n",
       "</style>\n",
       "<table border=\"1\" class=\"dataframe\">\n",
       "  <thead>\n",
       "    <tr style=\"text-align: right;\">\n",
       "      <th></th>\n",
       "      <th>Company_Brand</th>\n",
       "      <th>Founded</th>\n",
       "      <th>HeadQuarter</th>\n",
       "      <th>Sector</th>\n",
       "      <th>What_it_does</th>\n",
       "      <th>Founders</th>\n",
       "      <th>Investor</th>\n",
       "      <th>Amount</th>\n",
       "      <th>Stage</th>\n",
       "    </tr>\n",
       "  </thead>\n",
       "  <tbody>\n",
       "    <tr>\n",
       "      <th>98</th>\n",
       "      <td>FanPlay</td>\n",
       "      <td>2020.0</td>\n",
       "      <td>Computer Games</td>\n",
       "      <td>Computer Games</td>\n",
       "      <td>A real money game app specializing in trivia g...</td>\n",
       "      <td>YC W21</td>\n",
       "      <td>Pritesh Kumar, Bharat Gupta</td>\n",
       "      <td>Upsparks</td>\n",
       "      <td>$1200000</td>\n",
       "    </tr>\n",
       "    <tr>\n",
       "      <th>241</th>\n",
       "      <td>MasterChow</td>\n",
       "      <td>2020.0</td>\n",
       "      <td>Food &amp; Beverages</td>\n",
       "      <td>Hauz Khas</td>\n",
       "      <td>A ready-to-cook Asian cuisine brand</td>\n",
       "      <td>Vidur Kataria, Sidhanth Madan</td>\n",
       "      <td>WEH Ventures</td>\n",
       "      <td>$461000</td>\n",
       "      <td>Seed</td>\n",
       "    </tr>\n",
       "    <tr>\n",
       "      <th>242</th>\n",
       "      <td>Fullife Healthcare</td>\n",
       "      <td>2009.0</td>\n",
       "      <td>Pharmaceuticals\\t#REF!</td>\n",
       "      <td>Primary Business is Development and Manufactur...</td>\n",
       "      <td>Varun Khanna</td>\n",
       "      <td>Morgan Stanley Private Equity Asia</td>\n",
       "      <td>$22000000</td>\n",
       "      <td>Series C</td>\n",
       "      <td>None</td>\n",
       "    </tr>\n",
       "    <tr>\n",
       "      <th>1100</th>\n",
       "      <td>Sochcast</td>\n",
       "      <td>2020.0</td>\n",
       "      <td>Online Media\\t#REF!</td>\n",
       "      <td>Sochcast is an Audio experiences company that ...</td>\n",
       "      <td>CA Harvinderjit Singh Bhatia, Garima Surana, A...</td>\n",
       "      <td>Vinners, Raj Nayak, Amritaanshu Agrawal</td>\n",
       "      <td>$Undisclosed</td>\n",
       "      <td>None</td>\n",
       "      <td>None</td>\n",
       "    </tr>\n",
       "    <tr>\n",
       "      <th>1176</th>\n",
       "      <td>Peak</td>\n",
       "      <td>2014.0</td>\n",
       "      <td>Information Technology &amp; Services</td>\n",
       "      <td>Manchester, Greater Manchester</td>\n",
       "      <td>Peak helps the world's smartest companies put ...</td>\n",
       "      <td>Atul Sharma</td>\n",
       "      <td>SoftBank Vision Fund 2</td>\n",
       "      <td>$75000000</td>\n",
       "      <td>Series C</td>\n",
       "    </tr>\n",
       "  </tbody>\n",
       "</table>\n",
       "</div>"
      ],
      "text/plain": [
       "           Company_Brand  Founded                        HeadQuarter   \n",
       "98               FanPlay   2020.0                     Computer Games  \\\n",
       "241           MasterChow   2020.0                   Food & Beverages   \n",
       "242   Fullife Healthcare   2009.0             Pharmaceuticals\\t#REF!   \n",
       "1100            Sochcast   2020.0                Online Media\\t#REF!   \n",
       "1176                Peak   2014.0  Information Technology & Services   \n",
       "\n",
       "                                                 Sector   \n",
       "98                                       Computer Games  \\\n",
       "241                                           Hauz Khas   \n",
       "242   Primary Business is Development and Manufactur...   \n",
       "1100  Sochcast is an Audio experiences company that ...   \n",
       "1176                     Manchester, Greater Manchester   \n",
       "\n",
       "                                           What_it_does   \n",
       "98    A real money game app specializing in trivia g...  \\\n",
       "241                 A ready-to-cook Asian cuisine brand   \n",
       "242                                        Varun Khanna   \n",
       "1100  CA Harvinderjit Singh Bhatia, Garima Surana, A...   \n",
       "1176  Peak helps the world's smartest companies put ...   \n",
       "\n",
       "                                     Founders                     Investor   \n",
       "98                                     YC W21  Pritesh Kumar, Bharat Gupta  \\\n",
       "241             Vidur Kataria, Sidhanth Madan                 WEH Ventures   \n",
       "242        Morgan Stanley Private Equity Asia                    $22000000   \n",
       "1100  Vinners, Raj Nayak, Amritaanshu Agrawal                 $Undisclosed   \n",
       "1176                              Atul Sharma       SoftBank Vision Fund 2   \n",
       "\n",
       "         Amount     Stage  \n",
       "98     Upsparks  $1200000  \n",
       "241     $461000      Seed  \n",
       "242    Series C      None  \n",
       "1100       None      None  \n",
       "1176  $75000000  Series C  "
      ]
     },
     "execution_count": 148,
     "metadata": {},
     "output_type": "execute_result"
    }
   ],
   "source": [
    "#using a filter to get all the inconsistencies in the HeadQuater column\n",
    "df4[df4['HeadQuarter'].isin(['Online Media\\t#REF!', 'Pharmaceuticals\\t#REF!','Computer Games','Information Technology & Services','Food & Beverages'])]"
   ]
  },
  {
   "cell_type": "code",
   "execution_count": 153,
   "metadata": {},
   "outputs": [
    {
     "data": {
      "text/html": [
       "<div>\n",
       "<style scoped>\n",
       "    .dataframe tbody tr th:only-of-type {\n",
       "        vertical-align: middle;\n",
       "    }\n",
       "\n",
       "    .dataframe tbody tr th {\n",
       "        vertical-align: top;\n",
       "    }\n",
       "\n",
       "    .dataframe thead th {\n",
       "        text-align: right;\n",
       "    }\n",
       "</style>\n",
       "<table border=\"1\" class=\"dataframe\">\n",
       "  <thead>\n",
       "    <tr style=\"text-align: right;\">\n",
       "      <th></th>\n",
       "      <th>Company_Brand</th>\n",
       "      <th>Founded</th>\n",
       "      <th>HeadQuarter</th>\n",
       "      <th>Sector</th>\n",
       "      <th>What_it_does</th>\n",
       "      <th>Founders</th>\n",
       "      <th>Investor</th>\n",
       "      <th>Amount</th>\n",
       "      <th>Stage</th>\n",
       "    </tr>\n",
       "  </thead>\n",
       "  <tbody>\n",
       "    <tr>\n",
       "      <th>98</th>\n",
       "      <td>FanPlay</td>\n",
       "      <td>2020.0</td>\n",
       "      <td>New Delhi</td>\n",
       "      <td>Computer Games</td>\n",
       "      <td>A real money game app specializing in trivia g...</td>\n",
       "      <td>YC W21</td>\n",
       "      <td>Pritesh Kumar, Bharat Gupta</td>\n",
       "      <td>$1200000</td>\n",
       "      <td>Pre-Series A</td>\n",
       "    </tr>\n",
       "  </tbody>\n",
       "</table>\n",
       "</div>"
      ],
      "text/plain": [
       "   Company_Brand  Founded HeadQuarter          Sector   \n",
       "98       FanPlay   2020.0   New Delhi  Computer Games  \\\n",
       "\n",
       "                                         What_it_does Founders   \n",
       "98  A real money game app specializing in trivia g...   YC W21  \\\n",
       "\n",
       "                       Investor    Amount         Stage  \n",
       "98  Pritesh Kumar, Bharat Gupta  $1200000  Pre-Series A  "
      ]
     },
     "execution_count": 153,
     "metadata": {},
     "output_type": "execute_result"
    }
   ],
   "source": [
    "#assigning specific values to HeadQuarter\", \"Amount\", \"Stage in the DataFrame\n",
    "\n",
    "df4.loc[df4[\"Company_Brand\"] == \"FanPlay\", [\"HeadQuarter\", \"Amount\", \"Stage\"]] = [\"New Delhi\", \"$1200000\",\"Pre-Series A\"]\n",
    "df4.loc[df4[\"Company_Brand\"] == \"FanPlay\"]"
   ]
  },
  {
   "cell_type": "code",
   "execution_count": 150,
   "metadata": {},
   "outputs": [
    {
     "data": {
      "text/html": [
       "<div>\n",
       "<style scoped>\n",
       "    .dataframe tbody tr th:only-of-type {\n",
       "        vertical-align: middle;\n",
       "    }\n",
       "\n",
       "    .dataframe tbody tr th {\n",
       "        vertical-align: top;\n",
       "    }\n",
       "\n",
       "    .dataframe thead th {\n",
       "        text-align: right;\n",
       "    }\n",
       "</style>\n",
       "<table border=\"1\" class=\"dataframe\">\n",
       "  <thead>\n",
       "    <tr style=\"text-align: right;\">\n",
       "      <th></th>\n",
       "      <th>Company_Brand</th>\n",
       "      <th>Founded</th>\n",
       "      <th>HeadQuarter</th>\n",
       "      <th>Sector</th>\n",
       "      <th>What_it_does</th>\n",
       "      <th>Founders</th>\n",
       "      <th>Investor</th>\n",
       "      <th>Amount</th>\n",
       "      <th>Stage</th>\n",
       "    </tr>\n",
       "  </thead>\n",
       "  <tbody>\n",
       "    <tr>\n",
       "      <th>241</th>\n",
       "      <td>MasterChow</td>\n",
       "      <td>2020.0</td>\n",
       "      <td>New Delhi</td>\n",
       "      <td>Food &amp; Beverages</td>\n",
       "      <td>A ready-to-cook Asian cuisine brand</td>\n",
       "      <td>Vidur Kataria, Sidhanth Madan</td>\n",
       "      <td>WEH Ventures</td>\n",
       "      <td>$461000</td>\n",
       "      <td>Seed</td>\n",
       "    </tr>\n",
       "  </tbody>\n",
       "</table>\n",
       "</div>"
      ],
      "text/plain": [
       "    Company_Brand  Founded HeadQuarter            Sector   \n",
       "241    MasterChow   2020.0   New Delhi  Food & Beverages  \\\n",
       "\n",
       "                            What_it_does                       Founders   \n",
       "241  A ready-to-cook Asian cuisine brand  Vidur Kataria, Sidhanth Madan  \\\n",
       "\n",
       "         Investor   Amount Stage  \n",
       "241  WEH Ventures  $461000  Seed  "
      ]
     },
     "execution_count": 150,
     "metadata": {},
     "output_type": "execute_result"
    }
   ],
   "source": [
    "#assigning specific values to HeadQuarter\", \"Amount\", \"Stage in the DataFrame\n",
    "\n",
    "df4.loc[df4[\"Company_Brand\"] == \"MasterChow\", [\"HeadQuarter\", \"Sector\"]] = [\"New Delhi\", \"Food & Beverages\"]\n",
    "df4.loc[df4[\"Company_Brand\"] == \"MasterChow\"]"
   ]
  },
  {
   "cell_type": "code",
   "execution_count": 151,
   "metadata": {},
   "outputs": [
    {
     "data": {
      "text/html": [
       "<div>\n",
       "<style scoped>\n",
       "    .dataframe tbody tr th:only-of-type {\n",
       "        vertical-align: middle;\n",
       "    }\n",
       "\n",
       "    .dataframe tbody tr th {\n",
       "        vertical-align: top;\n",
       "    }\n",
       "\n",
       "    .dataframe thead th {\n",
       "        text-align: right;\n",
       "    }\n",
       "</style>\n",
       "<table border=\"1\" class=\"dataframe\">\n",
       "  <thead>\n",
       "    <tr style=\"text-align: right;\">\n",
       "      <th></th>\n",
       "      <th>Company_Brand</th>\n",
       "      <th>Founded</th>\n",
       "      <th>HeadQuarter</th>\n",
       "      <th>Sector</th>\n",
       "      <th>What_it_does</th>\n",
       "      <th>Founders</th>\n",
       "      <th>Investor</th>\n",
       "      <th>Amount</th>\n",
       "      <th>Stage</th>\n",
       "    </tr>\n",
       "  </thead>\n",
       "  <tbody>\n",
       "    <tr>\n",
       "      <th>242</th>\n",
       "      <td>Fullife Healthcare</td>\n",
       "      <td>2009.0</td>\n",
       "      <td>Mumbai</td>\n",
       "      <td>Pharmaceuticals</td>\n",
       "      <td>Primary Business is Development and Manufactur...</td>\n",
       "      <td>Morgan Stanley Private Equity Asia</td>\n",
       "      <td>Varun Khanna</td>\n",
       "      <td>$22000000</td>\n",
       "      <td>Series C</td>\n",
       "    </tr>\n",
       "  </tbody>\n",
       "</table>\n",
       "</div>"
      ],
      "text/plain": [
       "          Company_Brand  Founded HeadQuarter           Sector   \n",
       "242  Fullife Healthcare   2009.0      Mumbai  Pharmaceuticals  \\\n",
       "\n",
       "                                          What_it_does   \n",
       "242  Primary Business is Development and Manufactur...  \\\n",
       "\n",
       "                               Founders      Investor     Amount     Stage  \n",
       "242  Morgan Stanley Private Equity Asia  Varun Khanna  $22000000  Series C  "
      ]
     },
     "execution_count": 151,
     "metadata": {},
     "output_type": "execute_result"
    }
   ],
   "source": [
    "# here we are repositioning the values into their correct columns\n",
    "\n",
    "df4.loc[df4[\"Company_Brand\"] == \"Fullife Healthcare\", [\"HeadQuarter\",\"Sector\",\"What_it_does\",\"Investor\", \"Amount\", \"Stage\"]] = [\"Mumbai\",\"Pharmaceuticals\",\"Primary Business is Development and Manufactur...\",\"Varun Khanna\", \"$22000000\",\"Series C\"]\n",
    "df4.loc[df4[\"Company_Brand\"] == \"Fullife Healthcare\"]"
   ]
  },
  {
   "cell_type": "code",
   "execution_count": 152,
   "metadata": {},
   "outputs": [
    {
     "data": {
      "text/html": [
       "<div>\n",
       "<style scoped>\n",
       "    .dataframe tbody tr th:only-of-type {\n",
       "        vertical-align: middle;\n",
       "    }\n",
       "\n",
       "    .dataframe tbody tr th {\n",
       "        vertical-align: top;\n",
       "    }\n",
       "\n",
       "    .dataframe thead th {\n",
       "        text-align: right;\n",
       "    }\n",
       "</style>\n",
       "<table border=\"1\" class=\"dataframe\">\n",
       "  <thead>\n",
       "    <tr style=\"text-align: right;\">\n",
       "      <th></th>\n",
       "      <th>Company_Brand</th>\n",
       "      <th>Founded</th>\n",
       "      <th>HeadQuarter</th>\n",
       "      <th>Sector</th>\n",
       "      <th>What_it_does</th>\n",
       "      <th>Founders</th>\n",
       "      <th>Investor</th>\n",
       "      <th>Amount</th>\n",
       "      <th>Stage</th>\n",
       "    </tr>\n",
       "  </thead>\n",
       "  <tbody>\n",
       "    <tr>\n",
       "      <th>1176</th>\n",
       "      <td>Peak</td>\n",
       "      <td>2014.0</td>\n",
       "      <td>New Delhi</td>\n",
       "      <td>Information Technology &amp; Services</td>\n",
       "      <td>Peak helps the world's smartest companies put ...</td>\n",
       "      <td>Atul Sharma</td>\n",
       "      <td>SoftBank Vision Fund 2</td>\n",
       "      <td>$75000000</td>\n",
       "      <td>Series C</td>\n",
       "    </tr>\n",
       "  </tbody>\n",
       "</table>\n",
       "</div>"
      ],
      "text/plain": [
       "     Company_Brand  Founded HeadQuarter                             Sector   \n",
       "1176          Peak   2014.0   New Delhi  Information Technology & Services  \\\n",
       "\n",
       "                                           What_it_does     Founders   \n",
       "1176  Peak helps the world's smartest companies put ...  Atul Sharma  \\\n",
       "\n",
       "                    Investor     Amount     Stage  \n",
       "1176  SoftBank Vision Fund 2  $75000000  Series C  "
      ]
     },
     "execution_count": 152,
     "metadata": {},
     "output_type": "execute_result"
    }
   ],
   "source": [
    "# getting the all the data points that matches the company_Brand name 'Peak'\n",
    "\n",
    "df4.loc[df4[\"Company_Brand\"] == \"Peak\", [\"HeadQuarter\", \"Sector\"]] = [\"New Delhi\", \"Information Technology & Services\"]\n",
    "df4.loc[df4[\"Company_Brand\"] == \"Peak\"]"
   ]
  },
  {
   "cell_type": "code",
   "execution_count": 154,
   "metadata": {},
   "outputs": [
    {
     "data": {
      "text/html": [
       "<div>\n",
       "<style scoped>\n",
       "    .dataframe tbody tr th:only-of-type {\n",
       "        vertical-align: middle;\n",
       "    }\n",
       "\n",
       "    .dataframe tbody tr th {\n",
       "        vertical-align: top;\n",
       "    }\n",
       "\n",
       "    .dataframe thead th {\n",
       "        text-align: right;\n",
       "    }\n",
       "</style>\n",
       "<table border=\"1\" class=\"dataframe\">\n",
       "  <thead>\n",
       "    <tr style=\"text-align: right;\">\n",
       "      <th></th>\n",
       "      <th>Company_Brand</th>\n",
       "      <th>Founded</th>\n",
       "      <th>HeadQuarter</th>\n",
       "      <th>Sector</th>\n",
       "      <th>What_it_does</th>\n",
       "      <th>Founders</th>\n",
       "      <th>Investor</th>\n",
       "      <th>Amount</th>\n",
       "      <th>Stage</th>\n",
       "    </tr>\n",
       "  </thead>\n",
       "  <tbody>\n",
       "    <tr>\n",
       "      <th>1100</th>\n",
       "      <td>Sochcast</td>\n",
       "      <td>2020.0</td>\n",
       "      <td>Bengaluru</td>\n",
       "      <td>Online Media</td>\n",
       "      <td>Sochcast is an Audio experiences company that ...</td>\n",
       "      <td>CA Harvinderjit Singh Bhatia, Garima Surana</td>\n",
       "      <td>Vinners, Raj Nayak, Amritaanshu Agrawal</td>\n",
       "      <td>$Undisclosed</td>\n",
       "      <td>Angel funding</td>\n",
       "    </tr>\n",
       "  </tbody>\n",
       "</table>\n",
       "</div>"
      ],
      "text/plain": [
       "     Company_Brand  Founded HeadQuarter        Sector   \n",
       "1100      Sochcast   2020.0   Bengaluru  Online Media  \\\n",
       "\n",
       "                                           What_it_does   \n",
       "1100  Sochcast is an Audio experiences company that ...  \\\n",
       "\n",
       "                                         Founders   \n",
       "1100  CA Harvinderjit Singh Bhatia, Garima Surana  \\\n",
       "\n",
       "                                     Investor        Amount          Stage  \n",
       "1100  Vinners, Raj Nayak, Amritaanshu Agrawal  $Undisclosed  Angel funding  "
      ]
     },
     "execution_count": 154,
     "metadata": {},
     "output_type": "execute_result"
    }
   ],
   "source": [
    "# getting the all the data points that matches the company_Brand name 'Sochcast'\n",
    "\n",
    "df4.loc[df4[\"Company_Brand\"] == \"Sochcast\", [\"HeadQuarter\", \"Sector\",'What_it_does','Founders','Investor',\"Amount\",'Stage']] = ['Bengaluru', 'Online Media','Sochcast is an Audio experiences company that give the listener and creators an Immersive Audio experience','CA Harvinderjit Singh Bhatia, Garima Surana','Vinners, Raj Nayak, Amritaanshu Agrawal',\"$Undisclosed\",'Angel funding']\n",
    "df4.loc[df4[\"Company_Brand\"] == \"Sochcast\"]"
   ]
  },
  {
   "cell_type": "code",
   "execution_count": 155,
   "metadata": {},
   "outputs": [
    {
     "data": {
      "text/html": [
       "<div>\n",
       "<style scoped>\n",
       "    .dataframe tbody tr th:only-of-type {\n",
       "        vertical-align: middle;\n",
       "    }\n",
       "\n",
       "    .dataframe tbody tr th {\n",
       "        vertical-align: top;\n",
       "    }\n",
       "\n",
       "    .dataframe thead th {\n",
       "        text-align: right;\n",
       "    }\n",
       "</style>\n",
       "<table border=\"1\" class=\"dataframe\">\n",
       "  <thead>\n",
       "    <tr style=\"text-align: right;\">\n",
       "      <th></th>\n",
       "      <th>Company_Brand</th>\n",
       "      <th>Founded</th>\n",
       "      <th>HeadQuarter</th>\n",
       "      <th>Sector</th>\n",
       "      <th>What_it_does</th>\n",
       "      <th>Founders</th>\n",
       "      <th>Investor</th>\n",
       "      <th>Amount</th>\n",
       "      <th>Stage</th>\n",
       "    </tr>\n",
       "  </thead>\n",
       "  <tbody>\n",
       "    <tr>\n",
       "      <th>29</th>\n",
       "      <td>Vidyakul</td>\n",
       "      <td>2018.0</td>\n",
       "      <td>None</td>\n",
       "      <td>EdTech</td>\n",
       "      <td>Vidyakul is an vernacular e-learning platform ...</td>\n",
       "      <td>Raman Garg, Tarun Saini</td>\n",
       "      <td>JITO Angel Network, SOSV</td>\n",
       "      <td>$500,000</td>\n",
       "      <td>Seed</td>\n",
       "    </tr>\n",
       "  </tbody>\n",
       "</table>\n",
       "</div>"
      ],
      "text/plain": [
       "   Company_Brand  Founded HeadQuarter  Sector   \n",
       "29      Vidyakul   2018.0        None  EdTech  \\\n",
       "\n",
       "                                         What_it_does   \n",
       "29  Vidyakul is an vernacular e-learning platform ...  \\\n",
       "\n",
       "                   Founders                  Investor    Amount Stage  \n",
       "29  Raman Garg, Tarun Saini  JITO Angel Network, SOSV  $500,000  Seed  "
      ]
     },
     "execution_count": 155,
     "metadata": {},
     "output_type": "execute_result"
    }
   ],
   "source": [
    "df4[df4['HeadQuarter'].isnull()]"
   ]
  },
  {
   "cell_type": "code",
   "execution_count": 156,
   "metadata": {},
   "outputs": [],
   "source": [
    "#Fill the nan\n",
    "df4.loc[df4['Company_Brand'] == 'Vidyakul', 'HeadQuarter'] = 'Gurugram'"
   ]
  },
  {
   "cell_type": "code",
   "execution_count": 157,
   "metadata": {},
   "outputs": [],
   "source": [
    "# From obersavtion, there is use of official and unofficial names of certain cities.\n",
    "# The incorrect names need to be rectified for correct analysis, eg A city with more than one name.\n",
    "\n",
    "df4['HeadQuarter'] = df4['HeadQuarter'].replace (['Bangalore','Bangalore City','Belgaum'], 'Bengaluru')\n",
    "df4['HeadQuarter'].replace('Gurugram\\t#REF!','Gurugram',inplace =True, regex=True)\n",
    "df4['HeadQuarter'] = df4['HeadQuarter'].str.replace('New Delhi','Delhi')"
   ]
  },
  {
   "cell_type": "code",
   "execution_count": 158,
   "metadata": {},
   "outputs": [
    {
     "data": {
      "text/plain": [
       "array(['Bengaluru', 'Mumbai', 'Gurugram', 'Delhi', 'Hyderabad', 'Jaipur',\n",
       "       'Ahmadabad', 'Chennai', 'Small Towns, Andhra Pradesh', 'Goa',\n",
       "       'Rajsamand', 'Ranchi', 'Faridabad, Haryana', 'Gujarat', 'Pune',\n",
       "       'Thane', 'Cochin', 'Noida', 'Chandigarh', 'Gurgaon', 'Vadodara',\n",
       "       'Kolkata', 'Ahmedabad', 'Mohali', 'Haryana', 'Indore', 'Powai',\n",
       "       'Ghaziabad', 'Nagpur', 'West Bengal', 'Patna', 'Samsitpur',\n",
       "       'Lucknow', 'Telangana', 'Silvassa', 'Thiruvananthapuram',\n",
       "       'Faridabad', 'Roorkee', 'Ambernath', 'Panchkula', 'Surat',\n",
       "       'Coimbatore', 'Andheri', 'Mangalore', 'Telugana', 'Bhubaneswar',\n",
       "       'Kottayam', 'Beijing', 'Panaji', 'Satara', 'Orissia', 'Jodhpur',\n",
       "       'New York', 'Santra', 'Mountain View, CA', 'Trivandrum',\n",
       "       'Jharkhand', 'Kanpur', 'Bhilwara', 'Guwahati', 'Kochi', 'London',\n",
       "       'The Nilgiris', 'Gandhinagar'], dtype=object)"
      ]
     },
     "execution_count": 158,
     "metadata": {},
     "output_type": "execute_result"
    }
   ],
   "source": [
    "df4['HeadQuarter'].unique()"
   ]
  },
  {
   "cell_type": "code",
   "execution_count": 159,
   "metadata": {},
   "outputs": [
    {
     "data": {
      "text/plain": [
       "0"
      ]
     },
     "execution_count": 159,
     "metadata": {},
     "output_type": "execute_result"
    }
   ],
   "source": [
    "df4['HeadQuarter'].isnull().sum()"
   ]
  },
  {
   "attachments": {},
   "cell_type": "markdown",
   "metadata": {},
   "source": [
    "### Sector Column"
   ]
  },
  {
   "cell_type": "code",
   "execution_count": 160,
   "metadata": {},
   "outputs": [
    {
     "data": {
      "text/plain": [
       "array(['AI startup', 'EdTech', 'B2B E-commerce', 'FinTech',\n",
       "       'Home services', 'HealthTech', 'Tech Startup', 'E-commerce',\n",
       "       'B2B service', 'Helathcare', 'Renewable Energy', 'Electronics',\n",
       "       'IT startup', 'Food & Beverages', 'Aeorspace', 'Deep Tech',\n",
       "       'Dating', 'Gaming', 'Robotics', 'Retail', 'Food', 'Oil and Energy',\n",
       "       'AgriTech', 'Telecommuncation', 'Milk startup', 'AI Chatbot', 'IT',\n",
       "       'Logistics', 'Hospitality', 'Fashion', 'Marketing',\n",
       "       'Transportation', 'LegalTech', 'Food delivery', 'Automotive',\n",
       "       'SaaS startup', 'Fantasy sports', 'Video communication',\n",
       "       'Social Media', 'Skill development', 'Rental', 'Recruitment',\n",
       "       'HealthCare', 'Sports', 'Computer Games', 'Consumer Goods',\n",
       "       'Information Technology', 'Apparel & Fashion',\n",
       "       'Logistics & Supply Chain', 'Healthtech', 'Healthcare',\n",
       "       'SportsTech', 'HRTech', 'Wine & Spirits',\n",
       "       'Mechanical & Industrial Engineering', 'Spiritual',\n",
       "       'Financial Services', 'Industrial Automation', 'Health',\n",
       "       'Lifestyle', 'IoT', 'Banking', 'Computer software', 'Tech startup',\n",
       "       'Digital mortgage', 'Information Technology & Services',\n",
       "       'Furniture', 'B2B marketplace', 'Healtcare', 'Location Analytics',\n",
       "       'Media', 'Consumer Electronics', 'Tobacco', 'Deeptech',\n",
       "       'Insuretech', 'MLOps platform', 'Venture Capital', 'Pet care',\n",
       "       'Drone', 'Wholesale', 'Construction', 'E-learning',\n",
       "       'Consumer Services', 'Venture Capital & Private Equity',\n",
       "       'Health, Wellness & Fitness', 'OTT', 'Education Management',\n",
       "       'Computer Software', 'Insurance', 'Software Startup',\n",
       "       'Computer & Network Security', 'Capital Markets', 'Social network',\n",
       "       'Hospital & Health Care', 'Music', 'Pharmaceuticals',\n",
       "       \"MoEVing is India's only Electric Mobility focused Technology Platform with a vision to accelerate EV adoption in India.\",\n",
       "       'Cosmetics', 'Mobility', 'Social media', 'Real Estate',\n",
       "       'Digital platform', 'B2B Ecommerce', 'Online Media',\n",
       "       'Social commerce', 'Mobile Games', 'Food Production', 'Podcast',\n",
       "       'HeathTech', 'Battery', 'Content publishing', 'Water purification',\n",
       "       'Content commerce', 'Innovation Management', 'Software company',\n",
       "       'Automation', 'Food Industry', 'Celebrity Engagement',\n",
       "       'Trading platform', 'Personal Care', 'Cannabis startup',\n",
       "       'Blogging', 'Consulting', 'BioTechnology', 'B2B Marketplace',\n",
       "       'Health care', 'Social audio', 'Fashion and lifestyle',\n",
       "       'Delivery service', 'B2B Manufacturing', 'Home Decor', 'Solar',\n",
       "       'TaaS startup', 'EV startup', 'HR Tech', 'Blockchain startup',\n",
       "       'Food and Beverages', 'Beverages', 'Manufacturing startup',\n",
       "       'Cryptocurrency', 'Vehicle repair startup', 'Advisory firm',\n",
       "       'Legaltech', 'Pollution control equiptment', 'Fashion & Lifestyle',\n",
       "       'Blockchain', 'Fitness', 'D2C', 'Automobile',\n",
       "       'Environmental Services', 'Merchandise', 'Facilities Services',\n",
       "       'Marketing & Advertising', 'Human Resources', 'Eyewear',\n",
       "       'D2C Business', 'Biotechnology', 'Farming', 'NFT Marketplace',\n",
       "       'Internet', 'SpaceTech', 'Consumer software', 'Social community',\n",
       "       'Fishery', 'Renewables & Environment', 'Online storytelling',\n",
       "       'Aviation', 'IT company', 'Environmental service',\n",
       "       'Job discovery platform', 'D2C Fashion', 'Heathcare', 'CRM',\n",
       "       'Software', 'Nutrition', 'D2C startup', 'Innovation management',\n",
       "       'Community platform', 'Venture capitalist', 'Networking',\n",
       "       'Commercial Real Estate', 'AR startup', 'Consumer service',\n",
       "       'Consumer goods', 'MarTech', 'Advertisement', 'Content creation',\n",
       "       'Augmented reality', 'Rental space', 'Bike Rental',\n",
       "       'Beauty products', 'Tourism', 'FemTech', 'Cultural', 'Co-working',\n",
       "       'InsureTech', 'Supply chain platform', 'Social platform',\n",
       "       'CleanTech', 'Real estate', 'AI company', 'Sports startup',\n",
       "       'Matrimony', 'Crypto', 'Clothing', 'Analytics', 'Finance',\n",
       "       'IoT platform', 'Commerce', 'Defense & Space', 'Entertainment',\n",
       "       'Business Supplies & Equipment', 'NFT', 'Oil & Energy', 'EV',\n",
       "       'Company-as-a-Service', 'Textiles',\n",
       "       'Professional Training & Coaching', 'Maritime',\n",
       "       'Housing Marketplace', 'Furniture Rental', 'Telecommunications',\n",
       "       'Equity Management', 'Cloud kitchen', 'Nanotechnology',\n",
       "       'Community', 'Higher Education', 'B2B',\n",
       "       'Mechanical Or Industrial Engineering', 'D2C jewellery',\n",
       "       'Sales and Distribution', 'SaaS', 'Information Services',\n",
       "       'Translation & Localization', 'Investment Banking', 'Femtech',\n",
       "       'sports', 'Foootwear', 'Legal Services', 'Veterinary',\n",
       "       'Arts & Crafts', 'Investment Management', 'Education',\n",
       "       'Management Consulting', 'B2B startup', 'Design', 'B2B Travel',\n",
       "       'Interior Design', 'Product studio', 'Aviation & Aerospace',\n",
       "       'Staffing & Recruiting'], dtype=object)"
      ]
     },
     "execution_count": 160,
     "metadata": {},
     "output_type": "execute_result"
    }
   ],
   "source": [
    "df4['Sector'].unique() # here we are looking at the unique value of the Sector column "
   ]
  },
  {
   "cell_type": "code",
   "execution_count": 161,
   "metadata": {},
   "outputs": [
    {
     "data": {
      "text/html": [
       "<div>\n",
       "<style scoped>\n",
       "    .dataframe tbody tr th:only-of-type {\n",
       "        vertical-align: middle;\n",
       "    }\n",
       "\n",
       "    .dataframe tbody tr th {\n",
       "        vertical-align: top;\n",
       "    }\n",
       "\n",
       "    .dataframe thead th {\n",
       "        text-align: right;\n",
       "    }\n",
       "</style>\n",
       "<table border=\"1\" class=\"dataframe\">\n",
       "  <thead>\n",
       "    <tr style=\"text-align: right;\">\n",
       "      <th></th>\n",
       "      <th>Company_Brand</th>\n",
       "      <th>Founded</th>\n",
       "      <th>HeadQuarter</th>\n",
       "      <th>Sector</th>\n",
       "      <th>What_it_does</th>\n",
       "      <th>Founders</th>\n",
       "      <th>Investor</th>\n",
       "      <th>Amount</th>\n",
       "      <th>Stage</th>\n",
       "    </tr>\n",
       "  </thead>\n",
       "  <tbody>\n",
       "    <tr>\n",
       "      <th>257</th>\n",
       "      <td>MoEVing</td>\n",
       "      <td>2021.0</td>\n",
       "      <td>Gurugram</td>\n",
       "      <td>Electric Mobility</td>\n",
       "      <td>MoEVing is India's only Electric Mobility focu...</td>\n",
       "      <td>Vikash Mishra, Mragank Jain</td>\n",
       "      <td>Anshuman Maheshwary, Dr Srihari Raju Kalidindi</td>\n",
       "      <td>$5000000</td>\n",
       "      <td>Seed</td>\n",
       "    </tr>\n",
       "  </tbody>\n",
       "</table>\n",
       "</div>"
      ],
      "text/plain": [
       "    Company_Brand  Founded HeadQuarter             Sector   \n",
       "257       MoEVing   2021.0    Gurugram  Electric Mobility  \\\n",
       "\n",
       "                                          What_it_does   \n",
       "257  MoEVing is India's only Electric Mobility focu...  \\\n",
       "\n",
       "                        Founders   \n",
       "257  Vikash Mishra, Mragank Jain  \\\n",
       "\n",
       "                                           Investor    Amount Stage  \n",
       "257  Anshuman Maheshwary, Dr Srihari Raju Kalidindi  $5000000  Seed  "
      ]
     },
     "execution_count": 161,
     "metadata": {},
     "output_type": "execute_result"
    }
   ],
   "source": [
    "# here we are updating this Row 'MoEVing' with the correct values\n",
    "\n",
    "df4.loc[df4[\"Company_Brand\"] == \"MoEVing\", [\"Sector\",'What_it_does','Founders','Investor','Amount','Stage']] = [\n",
    "'Electric Mobility',\"MoEVing is India's only Electric Mobility focused Technology Platform with a vision to accelerate EV adoption in India.\",\n",
    "'Vikash Mishra, Mragank Jain','Anshuman Maheshwary, Dr Srihari Raju Kalidindi','$5000000','Seed']\n",
    "df4.loc[df4[\"Company_Brand\"] == \"MoEVing\"]"
   ]
  },
  {
   "attachments": {},
   "cell_type": "markdown",
   "metadata": {},
   "source": [
    "### Stage Column"
   ]
  },
  {
   "cell_type": "code",
   "execution_count": 162,
   "metadata": {},
   "outputs": [
    {
     "data": {
      "text/plain": [
       "array(['Pre-series A', None, 'Series D', 'Series C', 'Seed', 'Series B',\n",
       "       'Series E', 'Pre-seed', 'Series A', 'Pre-series B', 'Debt',\n",
       "       'Pre-Series A', 'Bridge', 'Seed+', 'Series F2', 'Series A+',\n",
       "       'Series G', 'Series F', 'Series H', 'Series B3', 'PE', 'Series F1',\n",
       "       'Pre-series A1', '$300000', 'Early seed', 'Series D1', '$6000000',\n",
       "       '$1000000', 'Seies A', 'Pre-series', 'Series A2', 'Angel funding',\n",
       "       'Series I'], dtype=object)"
      ]
     },
     "execution_count": 162,
     "metadata": {},
     "output_type": "execute_result"
    }
   ],
   "source": [
    "df4[\"Stage\"].unique() # getting the unique values in this column "
   ]
  },
  {
   "cell_type": "code",
   "execution_count": 163,
   "metadata": {},
   "outputs": [
    {
     "data": {
      "text/html": [
       "<div>\n",
       "<style scoped>\n",
       "    .dataframe tbody tr th:only-of-type {\n",
       "        vertical-align: middle;\n",
       "    }\n",
       "\n",
       "    .dataframe tbody tr th {\n",
       "        vertical-align: top;\n",
       "    }\n",
       "\n",
       "    .dataframe thead th {\n",
       "        text-align: right;\n",
       "    }\n",
       "</style>\n",
       "<table border=\"1\" class=\"dataframe\">\n",
       "  <thead>\n",
       "    <tr style=\"text-align: right;\">\n",
       "      <th></th>\n",
       "      <th>Company_Brand</th>\n",
       "      <th>Founded</th>\n",
       "      <th>HeadQuarter</th>\n",
       "      <th>Sector</th>\n",
       "      <th>What_it_does</th>\n",
       "      <th>Founders</th>\n",
       "      <th>Investor</th>\n",
       "      <th>Amount</th>\n",
       "      <th>Stage</th>\n",
       "    </tr>\n",
       "  </thead>\n",
       "  <tbody>\n",
       "    <tr>\n",
       "      <th>538</th>\n",
       "      <td>Little Leap</td>\n",
       "      <td>2020.0</td>\n",
       "      <td>Delhi</td>\n",
       "      <td>EdTech</td>\n",
       "      <td>Soft Skills that make Smart Leaders</td>\n",
       "      <td>Holistic Development Programs for children in ...</td>\n",
       "      <td>Vishal Gupta</td>\n",
       "      <td>ah! Ventures</td>\n",
       "      <td>$300000</td>\n",
       "    </tr>\n",
       "    <tr>\n",
       "      <th>551</th>\n",
       "      <td>BHyve</td>\n",
       "      <td>2020.0</td>\n",
       "      <td>Mumbai</td>\n",
       "      <td>Human Resources</td>\n",
       "      <td>A Future of Work Platform for diffusing Employ...</td>\n",
       "      <td>Backed by 100x.VC</td>\n",
       "      <td>Omkar Pandharkame, Ketaki Ogale</td>\n",
       "      <td>ITO Angel Network, LetsVenture</td>\n",
       "      <td>$300000</td>\n",
       "    </tr>\n",
       "    <tr>\n",
       "      <th>674</th>\n",
       "      <td>MYRE Capital</td>\n",
       "      <td>2020.0</td>\n",
       "      <td>Mumbai</td>\n",
       "      <td>Commercial Real Estate</td>\n",
       "      <td>Democratising Real Estate Ownership</td>\n",
       "      <td>Own rent yielding commercial properties</td>\n",
       "      <td>Aryaman Vir</td>\n",
       "      <td>None</td>\n",
       "      <td>$6000000</td>\n",
       "    </tr>\n",
       "    <tr>\n",
       "      <th>677</th>\n",
       "      <td>Saarthi Pedagogy</td>\n",
       "      <td>2015.0</td>\n",
       "      <td>Ahmadabad</td>\n",
       "      <td>EdTech</td>\n",
       "      <td>India's fastest growing Pedagogy company, serv...</td>\n",
       "      <td>Pedagogy</td>\n",
       "      <td>Sushil Agarwal</td>\n",
       "      <td>JITO Angel Network, LetsVenture</td>\n",
       "      <td>$1000000</td>\n",
       "    </tr>\n",
       "  </tbody>\n",
       "</table>\n",
       "</div>"
      ],
      "text/plain": [
       "        Company_Brand  Founded HeadQuarter                  Sector   \n",
       "538       Little Leap   2020.0       Delhi                  EdTech  \\\n",
       "551             BHyve   2020.0      Mumbai         Human Resources   \n",
       "674      MYRE Capital   2020.0      Mumbai  Commercial Real Estate   \n",
       "677  Saarthi Pedagogy   2015.0   Ahmadabad                  EdTech   \n",
       "\n",
       "                                          What_it_does   \n",
       "538                Soft Skills that make Smart Leaders  \\\n",
       "551  A Future of Work Platform for diffusing Employ...   \n",
       "674                Democratising Real Estate Ownership   \n",
       "677  India's fastest growing Pedagogy company, serv...   \n",
       "\n",
       "                                              Founders   \n",
       "538  Holistic Development Programs for children in ...  \\\n",
       "551                                  Backed by 100x.VC   \n",
       "674            Own rent yielding commercial properties   \n",
       "677                                           Pedagogy   \n",
       "\n",
       "                            Investor                           Amount   \n",
       "538                     Vishal Gupta                     ah! Ventures  \\\n",
       "551  Omkar Pandharkame, Ketaki Ogale   ITO Angel Network, LetsVenture   \n",
       "674                      Aryaman Vir                             None   \n",
       "677                   Sushil Agarwal  JITO Angel Network, LetsVenture   \n",
       "\n",
       "        Stage  \n",
       "538   $300000  \n",
       "551   $300000  \n",
       "674  $6000000  \n",
       "677  $1000000  "
      ]
     },
     "execution_count": 163,
     "metadata": {},
     "output_type": "execute_result"
    }
   ],
   "source": [
    "#using a filter to get all the inconsistencies in the HeadQuater column\n",
    "df4[df4[\"Stage\"].isin(['$6000000', '$300000','$1000000'])]"
   ]
  },
  {
   "cell_type": "code",
   "execution_count": 164,
   "metadata": {},
   "outputs": [
    {
     "data": {
      "text/html": [
       "<div>\n",
       "<style scoped>\n",
       "    .dataframe tbody tr th:only-of-type {\n",
       "        vertical-align: middle;\n",
       "    }\n",
       "\n",
       "    .dataframe tbody tr th {\n",
       "        vertical-align: top;\n",
       "    }\n",
       "\n",
       "    .dataframe thead th {\n",
       "        text-align: right;\n",
       "    }\n",
       "</style>\n",
       "<table border=\"1\" class=\"dataframe\">\n",
       "  <thead>\n",
       "    <tr style=\"text-align: right;\">\n",
       "      <th></th>\n",
       "      <th>Company_Brand</th>\n",
       "      <th>Founded</th>\n",
       "      <th>HeadQuarter</th>\n",
       "      <th>Sector</th>\n",
       "      <th>What_it_does</th>\n",
       "      <th>Founders</th>\n",
       "      <th>Investor</th>\n",
       "      <th>Amount</th>\n",
       "      <th>Stage</th>\n",
       "    </tr>\n",
       "  </thead>\n",
       "  <tbody>\n",
       "    <tr>\n",
       "      <th>674</th>\n",
       "      <td>MYRE Capital</td>\n",
       "      <td>2020.0</td>\n",
       "      <td>Mumbai</td>\n",
       "      <td>Commercial Real Estate</td>\n",
       "      <td>Democratising Real Estate Ownership</td>\n",
       "      <td>Own rent yielding commercial properties</td>\n",
       "      <td>Aryaman Vir</td>\n",
       "      <td>6000000</td>\n",
       "      <td>NaN</td>\n",
       "    </tr>\n",
       "  </tbody>\n",
       "</table>\n",
       "</div>"
      ],
      "text/plain": [
       "    Company_Brand  Founded HeadQuarter                  Sector   \n",
       "674  MYRE Capital   2020.0      Mumbai  Commercial Real Estate  \\\n",
       "\n",
       "                            What_it_does   \n",
       "674  Democratising Real Estate Ownership  \\\n",
       "\n",
       "                                    Founders     Investor   Amount Stage  \n",
       "674  Own rent yielding commercial properties  Aryaman Vir  6000000   NaN  "
      ]
     },
     "execution_count": 164,
     "metadata": {},
     "output_type": "execute_result"
    }
   ],
   "source": [
    "# repositioning the values to their respective columns  \n",
    "\n",
    "df4.loc[df4[\"Company_Brand\"] == \"MYRE Capital\", [\"Amount\", \"Stage\"]] = [\"6000000\",np.nan]\n",
    "df4.loc[df4[\"Company_Brand\"] == \"MYRE Capital\"]"
   ]
  },
  {
   "cell_type": "code",
   "execution_count": 165,
   "metadata": {},
   "outputs": [
    {
     "data": {
      "text/html": [
       "<div>\n",
       "<style scoped>\n",
       "    .dataframe tbody tr th:only-of-type {\n",
       "        vertical-align: middle;\n",
       "    }\n",
       "\n",
       "    .dataframe tbody tr th {\n",
       "        vertical-align: top;\n",
       "    }\n",
       "\n",
       "    .dataframe thead th {\n",
       "        text-align: right;\n",
       "    }\n",
       "</style>\n",
       "<table border=\"1\" class=\"dataframe\">\n",
       "  <thead>\n",
       "    <tr style=\"text-align: right;\">\n",
       "      <th></th>\n",
       "      <th>Company_Brand</th>\n",
       "      <th>Founded</th>\n",
       "      <th>HeadQuarter</th>\n",
       "      <th>Sector</th>\n",
       "      <th>What_it_does</th>\n",
       "      <th>Founders</th>\n",
       "      <th>Investor</th>\n",
       "      <th>Amount</th>\n",
       "      <th>Stage</th>\n",
       "    </tr>\n",
       "  </thead>\n",
       "  <tbody>\n",
       "    <tr>\n",
       "      <th>538</th>\n",
       "      <td>Little Leap</td>\n",
       "      <td>2020.0</td>\n",
       "      <td>Delhi</td>\n",
       "      <td>EdTech</td>\n",
       "      <td>Soft Skills that make Smart Leaders</td>\n",
       "      <td>Holistic Development Programs for children in ...</td>\n",
       "      <td>Vishal Gupta</td>\n",
       "      <td>300000</td>\n",
       "      <td>Seed</td>\n",
       "    </tr>\n",
       "  </tbody>\n",
       "</table>\n",
       "</div>"
      ],
      "text/plain": [
       "    Company_Brand  Founded HeadQuarter  Sector   \n",
       "538   Little Leap   2020.0       Delhi  EdTech  \\\n",
       "\n",
       "                            What_it_does   \n",
       "538  Soft Skills that make Smart Leaders  \\\n",
       "\n",
       "                                              Founders      Investor  Amount   \n",
       "538  Holistic Development Programs for children in ...  Vishal Gupta  300000  \\\n",
       "\n",
       "    Stage  \n",
       "538  Seed  "
      ]
     },
     "execution_count": 165,
     "metadata": {},
     "output_type": "execute_result"
    }
   ],
   "source": [
    "# repositioning the values to their respective columns\n",
    "df4.loc[df4[\"Company_Brand\"] == \"Little Leap\", [\"Amount\", \"Stage\"]] = [\"300000\",'Seed']\n",
    "df4.loc[df4[\"Company_Brand\"] == \"Little Leap\"]"
   ]
  },
  {
   "cell_type": "code",
   "execution_count": 166,
   "metadata": {},
   "outputs": [
    {
     "data": {
      "text/html": [
       "<div>\n",
       "<style scoped>\n",
       "    .dataframe tbody tr th:only-of-type {\n",
       "        vertical-align: middle;\n",
       "    }\n",
       "\n",
       "    .dataframe tbody tr th {\n",
       "        vertical-align: top;\n",
       "    }\n",
       "\n",
       "    .dataframe thead th {\n",
       "        text-align: right;\n",
       "    }\n",
       "</style>\n",
       "<table border=\"1\" class=\"dataframe\">\n",
       "  <thead>\n",
       "    <tr style=\"text-align: right;\">\n",
       "      <th></th>\n",
       "      <th>Company_Brand</th>\n",
       "      <th>Founded</th>\n",
       "      <th>HeadQuarter</th>\n",
       "      <th>Sector</th>\n",
       "      <th>What_it_does</th>\n",
       "      <th>Founders</th>\n",
       "      <th>Investor</th>\n",
       "      <th>Amount</th>\n",
       "      <th>Stage</th>\n",
       "    </tr>\n",
       "  </thead>\n",
       "  <tbody>\n",
       "    <tr>\n",
       "      <th>551</th>\n",
       "      <td>BHyve</td>\n",
       "      <td>2020.0</td>\n",
       "      <td>Mumbai</td>\n",
       "      <td>Human Resources</td>\n",
       "      <td>A Future of Work Platform for diffusing Employ...</td>\n",
       "      <td>Backed by 100x.VC</td>\n",
       "      <td>Omkar Pandharkame, Ketaki Ogale</td>\n",
       "      <td>300000</td>\n",
       "      <td>Angel</td>\n",
       "    </tr>\n",
       "  </tbody>\n",
       "</table>\n",
       "</div>"
      ],
      "text/plain": [
       "    Company_Brand  Founded HeadQuarter           Sector   \n",
       "551         BHyve   2020.0      Mumbai  Human Resources  \\\n",
       "\n",
       "                                          What_it_does           Founders   \n",
       "551  A Future of Work Platform for diffusing Employ...  Backed by 100x.VC  \\\n",
       "\n",
       "                            Investor  Amount  Stage  \n",
       "551  Omkar Pandharkame, Ketaki Ogale  300000  Angel  "
      ]
     },
     "execution_count": 166,
     "metadata": {},
     "output_type": "execute_result"
    }
   ],
   "source": [
    " # repositioning the values to their respective columns\n",
    "df4.loc[df4[\"Company_Brand\"] == \"BHyve\", [\"Amount\", \"Stage\"]] = [\"300000\",'Angel']\n",
    "df4.loc[df4[\"Company_Brand\"] == \"BHyve\"]"
   ]
  },
  {
   "cell_type": "code",
   "execution_count": 167,
   "metadata": {},
   "outputs": [
    {
     "data": {
      "text/html": [
       "<div>\n",
       "<style scoped>\n",
       "    .dataframe tbody tr th:only-of-type {\n",
       "        vertical-align: middle;\n",
       "    }\n",
       "\n",
       "    .dataframe tbody tr th {\n",
       "        vertical-align: top;\n",
       "    }\n",
       "\n",
       "    .dataframe thead th {\n",
       "        text-align: right;\n",
       "    }\n",
       "</style>\n",
       "<table border=\"1\" class=\"dataframe\">\n",
       "  <thead>\n",
       "    <tr style=\"text-align: right;\">\n",
       "      <th></th>\n",
       "      <th>Company_Brand</th>\n",
       "      <th>Founded</th>\n",
       "      <th>HeadQuarter</th>\n",
       "      <th>Sector</th>\n",
       "      <th>What_it_does</th>\n",
       "      <th>Founders</th>\n",
       "      <th>Investor</th>\n",
       "      <th>Amount</th>\n",
       "      <th>Stage</th>\n",
       "    </tr>\n",
       "  </thead>\n",
       "  <tbody>\n",
       "    <tr>\n",
       "      <th>677</th>\n",
       "      <td>Saarthi Pedagogy</td>\n",
       "      <td>2015.0</td>\n",
       "      <td>Ahmadabad</td>\n",
       "      <td>EdTech</td>\n",
       "      <td>India's fastest growing Pedagogy company, serv...</td>\n",
       "      <td>Pedagogy</td>\n",
       "      <td>Sushil Agarwal</td>\n",
       "      <td>1000000</td>\n",
       "      <td>Seed</td>\n",
       "    </tr>\n",
       "  </tbody>\n",
       "</table>\n",
       "</div>"
      ],
      "text/plain": [
       "        Company_Brand  Founded HeadQuarter  Sector   \n",
       "677  Saarthi Pedagogy   2015.0   Ahmadabad  EdTech  \\\n",
       "\n",
       "                                          What_it_does  Founders   \n",
       "677  India's fastest growing Pedagogy company, serv...  Pedagogy  \\\n",
       "\n",
       "           Investor   Amount Stage  \n",
       "677  Sushil Agarwal  1000000  Seed  "
      ]
     },
     "execution_count": 167,
     "metadata": {},
     "output_type": "execute_result"
    }
   ],
   "source": [
    "# repositioning the values to their respective columns\n",
    "df4.loc[df4[\"Company_Brand\"] == \"Saarthi Pedagogy\", [\"Amount\", \"Stage\"]] = [\"1000000\",'Seed']\n",
    "df4.loc[df4[\"Company_Brand\"] == \"Saarthi Pedagogy\"]"
   ]
  },
  {
   "cell_type": "code",
   "execution_count": 168,
   "metadata": {},
   "outputs": [
    {
     "data": {
      "text/plain": [
       "array(['Pre-series A', None, 'Series D', 'Series C', 'Seed', 'Series B',\n",
       "       'Series E', 'Pre-seed', 'Series A', 'Pre-series B', 'Debt',\n",
       "       'Pre-Series A', 'Bridge', 'Seed+', 'Series F2', 'Series A+',\n",
       "       'Series G', 'Series F', 'Series H', 'Series B3', 'PE', 'Series F1',\n",
       "       'Pre-series A1', 'Angel', 'Early seed', 'Series D1', nan,\n",
       "       'Seies A', 'Pre-series', 'Series A2', 'Angel funding', 'Series I'],\n",
       "      dtype=object)"
      ]
     },
     "execution_count": 168,
     "metadata": {},
     "output_type": "execute_result"
    }
   ],
   "source": [
    "df4[\"Stage\"].unique()"
   ]
  },
  {
   "attachments": {},
   "cell_type": "markdown",
   "metadata": {},
   "source": [
    "### Amount Column"
   ]
  },
  {
   "cell_type": "code",
   "execution_count": 169,
   "metadata": {},
   "outputs": [
    {
     "data": {
      "text/plain": [
       "array(['$1,200,000', '$120,000,000', '$30,000,000', '$51,000,000',\n",
       "       '$2,000,000', '$188,000,000', '$200,000', 'Undisclosed',\n",
       "       '$1,000,000', '$3,000,000', '$100,000', '$700,000', '$9,000,000',\n",
       "       '$40,000,000', '$49,000,000', '$400,000', '$300,000',\n",
       "       '$25,000,000', '$160,000,000', '$150,000', '$1,800,000',\n",
       "       '$5,000,000', '$850,000', '$53,000,000', '$500,000', '$1,100,000',\n",
       "       '$6,000,000', '$800,000', '$10,000,000', '$21,000,000',\n",
       "       '$7,500,000', '$26,000,000', '$7,400,000', '$1,500,000',\n",
       "       '$600,000', '$800,000,000', '$17,000,000', '$3,500,000',\n",
       "       '$15,000,000', '$215,000,000', '$2,500,000', '$350,000,000',\n",
       "       '$5,500,000', '$83,000,000', '$110,000,000', '$500,000,000',\n",
       "       '$65,000,000', '$150,000,000,000', '$300,000,000', '$2,200,000',\n",
       "       '$35,000,000', '$140,000,000', '$4,000,000', '$13,000,000', None,\n",
       "       '$Undisclosed', '$2000000', '$800000', '$6000000', '$2500000',\n",
       "       '$9500000', '$13000000', '$5000000', '$8000000', '$1000000',\n",
       "       '$1200000', '$200000', '$12000000', '$1500000', '$1700000',\n",
       "       '$5500000', '$400000', '$150000000', '$4000000', '$100000000',\n",
       "       '$500000', '$15000000', '$10000000', '$40000000', '$225000000',\n",
       "       '$6700000', '$1300000', '$20000000', '$250000', '$21000000',\n",
       "       '$52000000', '$3800000', '$17500000', '$42000000', '$2300000',\n",
       "       '$7000000', '$30000000', '$450000000', '$28000000', '$300000',\n",
       "       '$3500000', '$8500000', '$25000000', '$3000000', '$37000000',\n",
       "       '$370000000', '$700000', '$16000000', '$100000', '$44000000',\n",
       "       '$770000', '$125000000', '$35000000', '$50000000', '$4900000',\n",
       "       '$145000000', '$22000000', '$70000000', '$6600000', '$32000000',\n",
       "       '$24000000', '$725000', '$461000', '$96000000', '$60000000',\n",
       "       '$500000000', '$266000000', '$4500000', '$325000000', '$6500000',\n",
       "       '$1600000', '$150000', '$225000', '$85000000', '$235000',\n",
       "       '$260000', '$2900000', '$53000000', '$1100000', '$86000000',\n",
       "       '$130000', '$$100,00', '$111000000', '$265000', '$76000000',\n",
       "       '$100,000,000', '$75,000,000', '$3,800,000', '$12,000,000',\n",
       "       '$1,600,000', '$260,000', '$1,000,000,000', '$18,000,000',\n",
       "       '$20,000,000', '$350,000', '$95,000,000', '$4,100,000',\n",
       "       '$5,200,000', '$8,000,000', '$1,400,000', '$2,600,000', '$900,000',\n",
       "       '$250,000', '$16,000,000', '$7,000,000', '$11,000,000',\n",
       "       '$280,000,000', '$50,000,000', '$14,300,000', '$81,000,000',\n",
       "       '$1,300,000', '$8,200,000', '$70,000,000', '$720,000', '$600000',\n",
       "       '$9000000', '$1800000', '$330000', '$undisclosed', '$200000000',\n",
       "       '$36000000', '$67000000', '$10200000', '$220000000', '$108000000',\n",
       "       '$75000000', '$450000', '$660000000', '300000', '$45000000',\n",
       "       '$3200000', '$370000', 'Pre-series A', '$48000000', '$3600000',\n",
       "       '$11000000', '$192000000', '$65000000', '$1400000', '$1900000',\n",
       "       '$41000000', '$144000000', '$5200000', '$270000000', '$140000',\n",
       "       '$250000000', '$320000', '$350000000', '$4800000', '$38000000',\n",
       "       '$125000', '$26000000', '$64000000', '$620000', '$900000',\n",
       "       '6000000', '1000000', '$2600000', '$1,250,000', '$400,000,000',\n",
       "       '$1,700,000', '$27,000,000', '$234,000,000', '$460,000,000',\n",
       "       '$13,500,000', '$5,100,000', '$195,000,000', '$125,000',\n",
       "       '$45,000,000', '$200,000,000', '$7,300,000', '$6,300,000',\n",
       "       '$12,500,000', '$24,000,000', '$140,000', '$16,500,000',\n",
       "       '$340,000', '$43,000,000', '$150,000,000', '$3300000', '$92000000',\n",
       "       '$17000000', '$135000000', '$$1,55,000', '$2100000', '$840000000',\n",
       "       '$248000000', '$4300000', '$570000', '$2200000', '$4700000',\n",
       "       '$300000000', '$260000000', '$140000000', '$175000000',\n",
       "       '$19000000', '$810000', '$7500000', '$600000000', '$90000000',\n",
       "       '$5700000', '$6750000', '$78000000', '$5400000', '$115000000',\n",
       "       '$255000000', '$18000000', '$570000000', '$550000', '$2700000',\n",
       "       '$4200000', '$31000000', '$540000', '$14000000', '$340000', '$',\n",
       "       '$6200000', 'Seed', '$750000', '$6300000', '$23000000',\n",
       "       '$55000000'], dtype=object)"
      ]
     },
     "execution_count": 169,
     "metadata": {},
     "output_type": "execute_result"
    }
   ],
   "source": [
    "df4[\"Amount\"].unique() # getting unique values"
   ]
  },
  {
   "cell_type": "code",
   "execution_count": 170,
   "metadata": {},
   "outputs": [
    {
     "data": {
      "text/html": [
       "<div>\n",
       "<style scoped>\n",
       "    .dataframe tbody tr th:only-of-type {\n",
       "        vertical-align: middle;\n",
       "    }\n",
       "\n",
       "    .dataframe tbody tr th {\n",
       "        vertical-align: top;\n",
       "    }\n",
       "\n",
       "    .dataframe thead th {\n",
       "        text-align: right;\n",
       "    }\n",
       "</style>\n",
       "<table border=\"1\" class=\"dataframe\">\n",
       "  <thead>\n",
       "    <tr style=\"text-align: right;\">\n",
       "      <th></th>\n",
       "      <th>Company_Brand</th>\n",
       "      <th>Founded</th>\n",
       "      <th>HeadQuarter</th>\n",
       "      <th>Sector</th>\n",
       "      <th>What_it_does</th>\n",
       "      <th>Founders</th>\n",
       "      <th>Investor</th>\n",
       "      <th>Amount</th>\n",
       "      <th>Stage</th>\n",
       "    </tr>\n",
       "  </thead>\n",
       "  <tbody>\n",
       "    <tr>\n",
       "      <th>545</th>\n",
       "      <td>AdmitKard</td>\n",
       "      <td>2016.0</td>\n",
       "      <td>Noida</td>\n",
       "      <td>EdTech</td>\n",
       "      <td>A tech solution for end to end career advisory...</td>\n",
       "      <td>Vamsi Krishna, Pulkit Jain, Gaurav Munjal\\t#REF!</td>\n",
       "      <td>$1000000</td>\n",
       "      <td>Pre-series A</td>\n",
       "      <td>None</td>\n",
       "    </tr>\n",
       "    <tr>\n",
       "      <th>1148</th>\n",
       "      <td>Godamwale</td>\n",
       "      <td>2016.0</td>\n",
       "      <td>Mumbai</td>\n",
       "      <td>Logistics &amp; Supply Chain</td>\n",
       "      <td>Godamwale is tech enabled integrated logistics...</td>\n",
       "      <td>Basant Kumar, Vivek Tiwari, Ranbir Nandan</td>\n",
       "      <td>1000000\\t#REF!</td>\n",
       "      <td>Seed</td>\n",
       "      <td>None</td>\n",
       "    </tr>\n",
       "  </tbody>\n",
       "</table>\n",
       "</div>"
      ],
      "text/plain": [
       "     Company_Brand  Founded HeadQuarter                    Sector   \n",
       "545      AdmitKard   2016.0       Noida                    EdTech  \\\n",
       "1148     Godamwale   2016.0      Mumbai  Logistics & Supply Chain   \n",
       "\n",
       "                                           What_it_does   \n",
       "545   A tech solution for end to end career advisory...  \\\n",
       "1148  Godamwale is tech enabled integrated logistics...   \n",
       "\n",
       "                                              Founders        Investor   \n",
       "545   Vamsi Krishna, Pulkit Jain, Gaurav Munjal\\t#REF!        $1000000  \\\n",
       "1148         Basant Kumar, Vivek Tiwari, Ranbir Nandan  1000000\\t#REF!   \n",
       "\n",
       "            Amount Stage  \n",
       "545   Pre-series A  None  \n",
       "1148          Seed  None  "
      ]
     },
     "execution_count": 170,
     "metadata": {},
     "output_type": "execute_result"
    }
   ],
   "source": [
    "# checking if these specific values are present in the amount column \n",
    "df4[df4['Amount'].isin([ 'Seed','Pre-series A'])]"
   ]
  },
  {
   "cell_type": "code",
   "execution_count": 171,
   "metadata": {},
   "outputs": [
    {
     "data": {
      "text/html": [
       "<div>\n",
       "<style scoped>\n",
       "    .dataframe tbody tr th:only-of-type {\n",
       "        vertical-align: middle;\n",
       "    }\n",
       "\n",
       "    .dataframe tbody tr th {\n",
       "        vertical-align: top;\n",
       "    }\n",
       "\n",
       "    .dataframe thead th {\n",
       "        text-align: right;\n",
       "    }\n",
       "</style>\n",
       "<table border=\"1\" class=\"dataframe\">\n",
       "  <thead>\n",
       "    <tr style=\"text-align: right;\">\n",
       "      <th></th>\n",
       "      <th>Company_Brand</th>\n",
       "      <th>Founded</th>\n",
       "      <th>HeadQuarter</th>\n",
       "      <th>Sector</th>\n",
       "      <th>What_it_does</th>\n",
       "      <th>Founders</th>\n",
       "      <th>Investor</th>\n",
       "      <th>Amount</th>\n",
       "      <th>Stage</th>\n",
       "    </tr>\n",
       "  </thead>\n",
       "  <tbody>\n",
       "    <tr>\n",
       "      <th>1148</th>\n",
       "      <td>Godamwale</td>\n",
       "      <td>2016.0</td>\n",
       "      <td>Mumbai</td>\n",
       "      <td>Logistics &amp; Supply Chain</td>\n",
       "      <td>Godamwale is tech enabled integrated logistics...</td>\n",
       "      <td>Basant Kumar, Vivek Tiwari, Ranbir Nandan</td>\n",
       "      <td>NaN</td>\n",
       "      <td>$1000000</td>\n",
       "      <td>Seed</td>\n",
       "    </tr>\n",
       "  </tbody>\n",
       "</table>\n",
       "</div>"
      ],
      "text/plain": [
       "     Company_Brand  Founded HeadQuarter                    Sector   \n",
       "1148     Godamwale   2016.0      Mumbai  Logistics & Supply Chain  \\\n",
       "\n",
       "                                           What_it_does   \n",
       "1148  Godamwale is tech enabled integrated logistics...  \\\n",
       "\n",
       "                                       Founders Investor    Amount Stage  \n",
       "1148  Basant Kumar, Vivek Tiwari, Ranbir Nandan      NaN  $1000000  Seed  "
      ]
     },
     "execution_count": 171,
     "metadata": {},
     "output_type": "execute_result"
    }
   ],
   "source": [
    "# getting the row that matches the Amount \n",
    "# repositioning the values to their respective columns\n",
    "\n",
    "df4.loc[df4[\"Company_Brand\"] == \"Godamwale\", [\"Amount\", \"Stage\", \"Investor\"]] = [\"$1000000\", \"Seed\",np.nan]\n",
    "df4.loc[df4[\"Company_Brand\"] == \"Godamwale\"]"
   ]
  },
  {
   "cell_type": "code",
   "execution_count": 172,
   "metadata": {},
   "outputs": [
    {
     "data": {
      "text/html": [
       "<div>\n",
       "<style scoped>\n",
       "    .dataframe tbody tr th:only-of-type {\n",
       "        vertical-align: middle;\n",
       "    }\n",
       "\n",
       "    .dataframe tbody tr th {\n",
       "        vertical-align: top;\n",
       "    }\n",
       "\n",
       "    .dataframe thead th {\n",
       "        text-align: right;\n",
       "    }\n",
       "</style>\n",
       "<table border=\"1\" class=\"dataframe\">\n",
       "  <thead>\n",
       "    <tr style=\"text-align: right;\">\n",
       "      <th></th>\n",
       "      <th>Company_Brand</th>\n",
       "      <th>Founded</th>\n",
       "      <th>HeadQuarter</th>\n",
       "      <th>Sector</th>\n",
       "      <th>What_it_does</th>\n",
       "      <th>Founders</th>\n",
       "      <th>Investor</th>\n",
       "      <th>Amount</th>\n",
       "      <th>Stage</th>\n",
       "    </tr>\n",
       "  </thead>\n",
       "  <tbody>\n",
       "    <tr>\n",
       "      <th>545</th>\n",
       "      <td>AdmitKard</td>\n",
       "      <td>2016.0</td>\n",
       "      <td>Noida</td>\n",
       "      <td>EdTech</td>\n",
       "      <td>A tech solution for end to end career advisory...</td>\n",
       "      <td>Vamsi Krishna, Pulkit Jain, Gaurav Munjal\\t#REF!</td>\n",
       "      <td>NaN</td>\n",
       "      <td>$1000000</td>\n",
       "      <td>Pre-series A</td>\n",
       "    </tr>\n",
       "  </tbody>\n",
       "</table>\n",
       "</div>"
      ],
      "text/plain": [
       "    Company_Brand  Founded HeadQuarter  Sector   \n",
       "545     AdmitKard   2016.0       Noida  EdTech  \\\n",
       "\n",
       "                                          What_it_does   \n",
       "545  A tech solution for end to end career advisory...  \\\n",
       "\n",
       "                                             Founders Investor    Amount   \n",
       "545  Vamsi Krishna, Pulkit Jain, Gaurav Munjal\\t#REF!      NaN  $1000000  \\\n",
       "\n",
       "            Stage  \n",
       "545  Pre-series A  "
      ]
     },
     "execution_count": 172,
     "metadata": {},
     "output_type": "execute_result"
    }
   ],
   "source": [
    "df4.loc[df4[\"Company_Brand\"] == \"AdmitKard\", [\"Amount\", \"Stage\", \"Investor\"]] = [\n",
    "    \"$1000000\", \"Pre-series A\",np.nan]\n",
    "df4.loc[df4[\"Company_Brand\"] == \"AdmitKard\"]"
   ]
  },
  {
   "cell_type": "code",
   "execution_count": 173,
   "metadata": {},
   "outputs": [],
   "source": [
    "# Cleaning the Amounts column & removing the currency symbol in df4\n",
    "df4['Amount'] = df4['Amount'].astype(str).str.replace('[\\₹$,]', '', regex=True)\n",
    "df4['Amount'].replace(['Undisclosed', '$undisclosed', 'None', 'undisclosed', '$Undisclosed'], np.nan, inplace=True, regex=True)\n",
    "df4['Amount'].replace([',', '—', '$'], ['', 0, ''], inplace=True, regex=True)\n",
    "df4['Amount'].replace('', np.nan, inplace=True)  # Replace empty strings with NaN\n",
    "df4['Amount'].replace(0, np.nan, inplace=True)   # Replace 0 with NaN\n",
    "df4['Amount'].replace({None: np.nan}, inplace=True)"
   ]
  },
  {
   "cell_type": "code",
   "execution_count": 174,
   "metadata": {},
   "outputs": [
    {
     "data": {
      "text/plain": [
       "array(['1200000', '120000000', '30000000', '51000000', '2000000',\n",
       "       '188000000', '200000', nan, '1000000', '3000000', '100000',\n",
       "       '700000', '9000000', '40000000', '49000000', '400000', '300000',\n",
       "       '25000000', '160000000', '150000', '1800000', '5000000', '850000',\n",
       "       '53000000', '500000', '1100000', '6000000', '800000', '10000000',\n",
       "       '21000000', '7500000', '26000000', '7400000', '1500000', '600000',\n",
       "       '800000000', '17000000', '3500000', '15000000', '215000000',\n",
       "       '2500000', '350000000', '5500000', '83000000', '110000000',\n",
       "       '500000000', '65000000', '150000000000', '300000000', '2200000',\n",
       "       '35000000', '140000000', '4000000', '13000000', '9500000',\n",
       "       '8000000', '12000000', '1700000', '150000000', '100000000',\n",
       "       '225000000', '6700000', '1300000', '20000000', '250000',\n",
       "       '52000000', '3800000', '17500000', '42000000', '2300000',\n",
       "       '7000000', '450000000', '28000000', '8500000', '37000000',\n",
       "       '370000000', '16000000', '44000000', '770000', '125000000',\n",
       "       '50000000', '4900000', '145000000', '22000000', '70000000',\n",
       "       '6600000', '32000000', '24000000', '725000', '461000', '96000000',\n",
       "       '60000000', '266000000', '4500000', '325000000', '6500000',\n",
       "       '1600000', '225000', '85000000', '235000', '260000', '2900000',\n",
       "       '86000000', '130000', '10000', '111000000', '265000', '76000000',\n",
       "       '75000000', '1000000000', '18000000', '350000', '95000000',\n",
       "       '4100000', '5200000', '1400000', '2600000', '900000', '11000000',\n",
       "       '280000000', '14300000', '81000000', '8200000', '720000', '330000',\n",
       "       '200000000', '36000000', '67000000', '10200000', '220000000',\n",
       "       '108000000', '450000', '660000000', '45000000', '3200000',\n",
       "       '370000', '48000000', '3600000', '192000000', '1900000',\n",
       "       '41000000', '144000000', '270000000', '140000', '250000000',\n",
       "       '320000', '4800000', '38000000', '125000', '64000000', '620000',\n",
       "       '1250000', '400000000', '27000000', '234000000', '460000000',\n",
       "       '13500000', '5100000', '195000000', '7300000', '6300000',\n",
       "       '12500000', '16500000', '340000', '43000000', '3300000',\n",
       "       '92000000', '135000000', '155000', '2100000', '840000000',\n",
       "       '248000000', '4300000', '570000', '4700000', '260000000',\n",
       "       '175000000', '19000000', '810000', '600000000', '90000000',\n",
       "       '5700000', '6750000', '78000000', '5400000', '115000000',\n",
       "       '255000000', '570000000', '550000', '2700000', '4200000',\n",
       "       '31000000', '540000', '14000000', '6200000', '750000', '23000000',\n",
       "       '55000000'], dtype=object)"
      ]
     },
     "execution_count": 174,
     "metadata": {},
     "output_type": "execute_result"
    }
   ],
   "source": [
    "df4['Amount'].unique()"
   ]
  },
  {
   "cell_type": "code",
   "execution_count": 175,
   "metadata": {},
   "outputs": [
    {
     "data": {
      "text/plain": [
       "numpy.float64"
      ]
     },
     "execution_count": 175,
     "metadata": {},
     "output_type": "execute_result"
    }
   ],
   "source": [
    "df4['Amount'] = df4['Amount'].astype(float)\n",
    "type(df4['Amount'][0])   # we are converting to float "
   ]
  },
  {
   "cell_type": "code",
   "execution_count": 176,
   "metadata": {},
   "outputs": [
    {
     "name": "stdout",
     "output_type": "stream",
     "text": [
      "141\n"
     ]
    }
   ],
   "source": [
    "null_values_Amount4 = df4['Amount'].isnull().sum() # here we are comfirming for null values\n",
    "print(null_values_Amount4)"
   ]
  },
  {
   "cell_type": "code",
   "execution_count": 177,
   "metadata": {},
   "outputs": [
    {
     "data": {
      "text/plain": [
       "1190"
      ]
     },
     "execution_count": 177,
     "metadata": {},
     "output_type": "execute_result"
    }
   ],
   "source": [
    "len(df4['Amount'])"
   ]
  },
  {
   "attachments": {},
   "cell_type": "markdown",
   "metadata": {},
   "source": [
    "NOW LET'S FIND THE PERCENTAGE OF NULL VALUES TO THE THAT OF THE WHOLE \n",
    "AMOUNT COLUMN \n",
    "this will help us to understand and appreciate the impact of the null values in the Amount column"
   ]
  },
  {
   "cell_type": "code",
   "execution_count": 178,
   "metadata": {},
   "outputs": [
    {
     "data": {
      "text/plain": [
       "11.848739495798318"
      ]
     },
     "execution_count": 178,
     "metadata": {},
     "output_type": "execute_result"
    }
   ],
   "source": [
    "# Finding the percentage of null values\n",
    "Amnt_null_perc = (null_values_Amount4 / len(df4['Amount'])) * 100\n",
    "Amnt_null_perc"
   ]
  },
  {
   "cell_type": "code",
   "execution_count": 179,
   "metadata": {},
   "outputs": [
    {
     "name": "stdout",
     "output_type": "stream",
     "text": [
      "count             1,049.00\n",
      "mean        171,218,804.58\n",
      "std       4,631,144,722.04\n",
      "min              10,000.00\n",
      "25%           1,000,000.00\n",
      "50%           3,500,000.00\n",
      "75%          15,000,000.00\n",
      "max     150,000,000,000.00\n",
      "Name: Amount, dtype: float64\n"
     ]
    }
   ],
   "source": [
    "amount_stats = df4['Amount'].describe()\n",
    "pd.options.display.float_format = '{:,.2f}'.format\n",
    "print(amount_stats)"
   ]
  },
  {
   "cell_type": "code",
   "execution_count": 180,
   "metadata": {},
   "outputs": [],
   "source": [
    "#creating the contingency table\n",
    "conting_table_3 = pd.crosstab(df4['Sector'], df4['Amount'].isnull())"
   ]
  },
  {
   "cell_type": "code",
   "execution_count": 181,
   "metadata": {},
   "outputs": [
    {
     "data": {
      "text/plain": [
       "0.17913170329298025"
      ]
     },
     "execution_count": 181,
     "metadata": {},
     "output_type": "execute_result"
    }
   ],
   "source": [
    "# below we are performing the chi-square test\n",
    "chi2_3, p_value_3, _,_ = chi2_contingency(conting_table_3)\n",
    "chi2_3\n",
    "p_value_3"
   ]
  },
  {
   "cell_type": "code",
   "execution_count": 182,
   "metadata": {},
   "outputs": [
    {
     "name": "stdout",
     "output_type": "stream",
     "text": [
      "There is no significant association between the missing values in the 'Amount' column and the 'Sector' column.\n"
     ]
    }
   ],
   "source": [
    "# we are interpretting the chi-sqaure test \n",
    "significance_level_3 = 0.05\n",
    "\n",
    "if p_value_3 < significance_level_3:\n",
    "    print(\"There is a significant association between the missing values in the 'Amount' column and the 'Sector' column.\")\n",
    "else:\n",
    "    print(\"There is no significant association between the missing values in the 'Amount' column and the 'Sector' column.\")"
   ]
  },
  {
   "cell_type": "code",
   "execution_count": 183,
   "metadata": {},
   "outputs": [
    {
     "data": {
      "image/png": "[encoded data removed]",
      "text/plain": [
       "<Figure size 640x480 with 1 Axes>"
      ]
     },
     "metadata": {},
     "output_type": "display_data"
    }
   ],
   "source": [
    "# creating a subset of the relevant columns\n",
    "rele_col = ['Amount', 'Sector', 'Stage', 'HeadQuarter']\n",
    "\n",
    "# creating a dataframe with missing value indicator \n",
    "missing_indicator_df = df4[rele_col].isnull()\n",
    "\n",
    "# below we are creating a missing data heat map\n",
    "sns.heatmap(missing_indicator_df, cmap='viridis', cbar=False)\n",
    "plt.title('Missing Data Map')\n",
    "plt.show()"
   ]
  },
  {
   "cell_type": "code",
   "execution_count": 184,
   "metadata": {},
   "outputs": [],
   "source": [
    "# we are creating the median of the not missing values \n",
    "median_non_null_Amount = df4['Amount'].dropna()\n",
    "\n",
    "median_Amount = median_non_null_Amount.median() \n",
    "\n",
    "# below we are filling in the missing values with the median \n",
    "df4['Amount'].fillna(median_Amount, inplace=True)"
   ]
  },
  {
   "cell_type": "code",
   "execution_count": 185,
   "metadata": {},
   "outputs": [
    {
     "data": {
      "text/plain": [
       "0"
      ]
     },
     "execution_count": 185,
     "metadata": {},
     "output_type": "execute_result"
    }
   ],
   "source": [
    "df4['Amount'].isnull().sum() # checking for null values"
   ]
  },
  {
   "cell_type": "code",
   "execution_count": 186,
   "metadata": {},
   "outputs": [
    {
     "data": {
      "image/png": "[encoded data removed]",
      "text/plain": [
       "<Figure size 640x480 with 1 Axes>"
      ]
     },
     "metadata": {},
     "output_type": "display_data"
    }
   ],
   "source": [
    "# first we will use the distribution shape by the help of a histogram \n",
    "# below we are plotting the histogram \n",
    "\n",
    "# Apply logarithmic transformation to the data\n",
    "# Filter out non-positive and missing values\n",
    "valid_amounts = df4['Amount'][df4['Amount'] > 0].dropna()\n",
    "\n",
    "# Apply logarithmic transformation to the filtered values\n",
    "log_amount = np.log10(valid_amounts)\n",
    "\n",
    "# Plot the histogram using logarithmic scale\n",
    "plt.hist(log_amount, bins=10)\n",
    "plt.xlabel('Logarithm of Amount')\n",
    "plt.ylabel('Frequency')\n",
    "plt.title('Distribution of logarithm of values in the Amount column')\n",
    "plt.show()\n"
   ]
  },
  {
   "attachments": {},
   "cell_type": "markdown",
   "metadata": {},
   "source": [
    "NOW LET'S DEAL WITH NULL VALUES IN THE STAGE COLUMN"
   ]
  },
  {
   "cell_type": "code",
   "execution_count": 187,
   "metadata": {},
   "outputs": [
    {
     "data": {
      "text/plain": [
       "417"
      ]
     },
     "execution_count": 187,
     "metadata": {},
     "output_type": "execute_result"
    }
   ],
   "source": [
    "null_stage_4 = df4['Stage'].isnull().sum()  # checking for null values in the stage column \n",
    "null_stage_4"
   ]
  },
  {
   "cell_type": "code",
   "execution_count": 188,
   "metadata": {},
   "outputs": [
    {
     "data": {
      "text/plain": [
       "35.042016806722685"
      ]
     },
     "execution_count": 188,
     "metadata": {},
     "output_type": "execute_result"
    }
   ],
   "source": [
    "null_stage_4 = df4['Stage'].isnull().sum()\n",
    "perce_null_stage4 = (null_stage_4 / len(df4['Stage'])) * 100 # here we want to know the percentage of the null values in the stage column \n",
    "perce_null_stage4"
   ]
  },
  {
   "cell_type": "code",
   "execution_count": 189,
   "metadata": {},
   "outputs": [],
   "source": [
    "df4.rename(columns = {'Company_Brand':'Company',\n",
    "                        'HeadQuarter':'Location',\n",
    "                        'What_it_does':'About'},\n",
    "             inplace = True)"
   ]
  },
  {
   "cell_type": "code",
   "execution_count": 190,
   "metadata": {},
   "outputs": [],
   "source": [
    "df4.loc[df4['Company'] == 'upGrad', 'Stage'] = 'Series D'\n",
    "df4.loc[df4['Company'] == 'Urban Company', 'Stage'] = 'Series D'\n",
    "df4.loc[df4['Company'] == 'Comofi Medtech', 'Stage'] = 'Seed'\n",
    "df4.loc[df4['Company'] == 'Smart Joules', 'Stage'] = 'Series A'\n",
    "df4.loc[df4['Company'] == 'Miko', 'Stage'] = 'Series A'\n",
    "df4.loc[df4['Company'] == 'M1xchange', 'Stage'] = 'Series A'\n",
    "df4.loc[df4['Company'] == 'Do Your Thng', 'Stage'] = 'Seed'\n",
    "df4.loc[df4['Company'] == 'LegitQuest', 'Stage'] = 'Seed'\n",
    "df4.loc[df4['Company'] == 'Fantasy Akhada', 'Stage'] = 'Seed'\n",
    "df4.loc[df4['Company'] == 'Speciale Invest', 'Stage'] = 'Seed'\n",
    "df4.loc[df4['Company'] == 'Meesho', 'Stage'] = 'Series D'\n",
    "df4.loc[df4['Company'] == 'Elevar', 'Stage'] = 'Seed'\n",
    "df4.loc[df4['Company'] == 'Curefoods', 'Stage'] = 'Seed'\n",
    "df4.loc[df4['Company'] == 'Camp K12', 'Stage'] = 'Seed'\n",
    "df4.loc[df4['Company'] == 'Defy', 'Stage'] = 'Seed'\n",
    "df4.loc[df4['Company'] == 'Homversity', 'Stage'] = 'Seed'\n",
    "df4.loc[df4['Company'] == 'Loop Health', 'Stage'] = 'Seed'\n",
    "df4.loc[df4['Company'] == 'Smartstaff', 'Stage'] = 'Series A'\n",
    "df4.loc[df4['Company'] == 'Hyperface', 'Stage'] = 'Seed'\n",
    "df4.loc[df4['Company'] == 'Melorra', 'Stage'] = 'Series B'\n",
    "df4.loc[df4['Company'] == 'Onato', 'Stage'] = 'Series A'\n",
    "df4.loc[df4['Company'] == 'Mestastop Solutions', 'Stage'] = 'Seed'\n",
    "df4.loc[df4['Company'] == 'MergerDomo', 'Stage'] = 'Seed'\n",
    "df4.loc[df4['Company'] == 'Trell', 'Stage'] = 'Series C'\n",
    "df4.loc[df4['Company'] == 'Homeville', 'Stage'] = 'Series A'\n",
    "df4.loc[df4['Company'] == 'Ola Electric', 'Stage'] = 'Series D'\n",
    "df4.loc[df4['Company'] == 'Delhivery', 'Stage'] = 'Series F'\n",
    "df4.loc[df4['Company'] == 'Upgame', 'Stage'] = 'Series A'\n",
    "df4.loc[df4['Company'] == 'byteXL', 'Stage'] = 'Seed'\n",
    "df4.loc[df4['Company'] == 'EventBeep', 'Stage'] = 'Seed'\n",
    "df4.loc[df4['Company'] == 'GameEon Studios', 'Stage'] = 'Seed'\n",
    "df4.loc[df4['Company'] == 'Tessolve', 'Stage'] = 'Series A'\n",
    "df4.loc[df4['Company'] == 'EF Polymer', 'Stage'] = 'Seed'\n",
    "df4.loc[df4['Company'] == 'LearnVern', 'Stage'] = 'Seed'\n",
    "df4.loc[df4['Company'] == 'Beldara', 'Stage'] = 'Series A'\n",
    "df4.loc[df4['Company'] == 'Oye Rickshaw', 'Stage'] = 'Series A'\n",
    "df4.loc[df4['Company'] == 'OfBusiness', 'Stage'] = 'Series D'\n",
    "df4.loc[df4['Company'] == 'CareerLabs', 'Stage'] = 'Seed'\n",
    "df4.loc[df4['Company'] == 'Studio Sirah', 'Stage'] = 'Seed'\n",
    "df4.loc[df4['Company'] == '1Bridge', 'Stage'] = 'Seed'\n",
    "df4.loc[df4['Company'] == 'TartanSense', 'Stage'] = 'Seed'\n",
    "df4.loc[df4['Company'] == 'Bewakoof', 'Stage'] = 'Series C'\n",
    "df4.loc[df4['Company'] == 'Elda Health', 'Stage'] = 'Seed'\n",
    "df4.loc[df4['Company'] == 'Ruptok', 'Stage'] = 'Seed'\n",
    "df4.loc[df4['Company'] == \"O' Be Cocktails\", 'Stage'] = 'Seed'\n",
    "df4.loc[df4['Company'] == 'Hike', 'Stage'] = 'Series C'\n",
    "df4.loc[df4['Company'] == 'House of Kieraya', 'Stage'] = 'Series B'\n",
    "df4.loc[df4['Company'] == 'DrinkPrime', 'Stage'] = 'Seed'\n",
    "df4.loc[df4['Company'] == 'SATYA MicroCapital', 'Stage'] = 'Series C'\n",
    "df4.loc[df4['Company'] == 'CreatorStack', 'Stage'] = 'Seed'\n",
    "df4.loc[df4['Company'] == 'Rage Coffee', 'Stage'] = 'Series A'\n",
    "df4.loc[df4['Company'] == 'Klub', 'Stage'] = 'Series A'\n",
    "df4.loc[df4['Company'] == 'Stellaris Venture Partners', 'Stage'] = 'Series D'\n",
    "df4.loc[df4['Company'] == 'Celcius', 'Stage'] = 'Seed'\n",
    "df4.loc[df4['Company'] == 'UrbanMatrix Technologies', 'Stage'] = 'Seed'\n",
    "df4.loc[df4['Company'] == 'Evenflow Brands', 'Stage'] = 'Seed'\n",
    "df4.loc[df4['Company'] == 'Atomberg', 'Stage'] = 'Series A'\n",
    "df4.loc[df4['Company'] == 'ShopMyLooks', 'Stage'] = 'Seed'\n",
    "df4.loc[df4['Company'] == 'Veefin', 'Stage'] = 'Series A'\n",
    "df4.loc[df4['Company'] == 'BangDB', 'Stage'] = 'Seed'\n",
    "df4.loc[df4['Company'] == 'O’ Be Cocktails', 'Stage'] = 'Seed'\n",
    "df4.loc[df4['Company'] == 'OneCard', 'Stage'] = 'Series C'\n",
    "df4.loc[df4['Company'] == 'Hubhopper', 'Stage'] = 'Series B'\n",
    "df4.loc[df4['Company'] == 'Avataar Ventures', 'Stage'] = 'Series A'\n",
    "df4.loc[df4['Company'] == 'Codingal', 'Stage'] = 'Seed'\n",
    "df4.loc[df4['Company'] == 'Junio', 'Stage'] = 'Seed'\n",
    "df4.loc[df4['Company'] == 'MPL', 'Stage'] = 'Seed'\n",
    "df4.loc[df4['Company'] == 'Bombay Shaving Company', 'Stage'] = 'Seed'\n",
    "df4.loc[df4['Company'] == 'MFine', 'Stage'] = 'Series A'\n",
    "df4.loc[df4['Company'] == 'Darwinbox', 'Stage'] = 'Series A'\n",
    "df4.loc[df4['Company'] == 'SSA Finserv', 'Stage'] = 'Seed'\n",
    "df4.loc[df4['Company'] == 'Pariksha', 'Stage'] = 'Seed'\n",
    "df4.loc[df4['Company'] == 'Devic Earth', 'Stage'] = 'Seed'\n",
    "df4.loc[df4['Company'] == 'Pocket Aces', 'Stage'] = 'Seed'\n",
    "df4.loc[df4['Company'] == 'Biocon Biologics', 'Stage'] = 'Series C'\n",
    "df4.loc[df4['Company'] == 'Biconomy', 'Stage'] = 'Seed'\n",
    "df4.loc[df4['Company'] == 'Bandhoo', 'Stage'] = 'Seed'\n",
    "df4.loc[df4['Company'] == 'Mamaearth', 'Stage'] = 'Series A'\n",
    "df4.loc[df4['Company'] == 'Inspacco', 'Stage'] = 'Seed'\n",
    "df4.loc[df4['Company'] == 'GODI Energy', 'Stage'] = 'Seed'\n",
    "df4.loc[df4['Company'] == 'Lenskart', 'Stage'] = 'Series E'\n",
    "df4.loc[df4['Company'] == 'Clensta', 'Stage'] = 'Seed'\n",
    "df4.loc[df4['Company'] == 'Polygon', 'Stage'] = 'Seed'\n",
    "df4.loc[df4['Company'] == 'Thingsup', 'Stage'] = 'Seed'\n",
    "df4.loc[df4['Company'] == 'TRDR', 'Stage'] = 'Seed'\n",
    "df4.loc[df4['Company'] == 'SuperBottoms', 'Stage'] = 'Seed'\n",
    "df4.loc[df4['Company'] == 'Wingreens Farms', 'Stage'] = 'Series C'\n",
    "df4.loc[df4['Company'] == 'Bombay Hemp Company', 'Stage'] = 'Seed'\n",
    "df4.loc[df4['Company'] == 'Zenpay Solutions', 'Stage'] = 'Seed'\n",
    "df4.loc[df4['Company'] == 'Visit Health', 'Stage'] = 'Seed'\n",
    "df4.loc[df4['Company'] == 'Zetwerk', 'Stage'] = 'Series D'\n",
    "df4.loc[df4['Company'] == 'Wiingy', 'Stage'] = 'Seed'\n",
    "df4.loc[df4['Company'] == 'Arcana', 'Stage'] = 'Seed'\n",
    "df4.loc[df4['Company'] == 'Duroflex', 'Stage'] = 'Series C'\n",
    "df4.loc[df4['Company'] == 'Tvasta', 'Stage'] = 'Seed'\n",
    "df4.loc[df4['Company'] == 'Vakilsearch', 'Stage'] = 'Series B'\n",
    "df4.loc[df4['Company'] == 'PumPumPum', 'Stage'] = 'Seed'\n",
    "df4.loc[df4['Company'] == 'Sterling Accuris Wellness', 'Stage'] = 'Series D'\n",
    "df4.loc[df4['Company'] == 'Braingroom', 'Stage'] = 'Seed'\n",
    "df4.loc[df4['Company'] == 'Vegrow', 'Stage'] = 'Series A'\n",
    "df4.loc[df4['Company'] == 'Automovill', 'Stage'] = 'Seed'\n",
    "df4.loc[df4['Company'] == 'Bella Vita Organic', 'Stage'] = 'Series A'\n",
    "df4.loc[df4['Company'] == 'SmartCoin', 'Stage'] = 'Series A'\n",
    "df4.loc[df4['Company'] == 'MYSUN', 'Stage'] = 'Series A'\n",
    "df4.loc[df4['Company'] == 'Square Yards', 'Stage'] = 'Series A'\n",
    "df4.loc[df4['Company'] == 'Slang Labs', 'Stage'] = 'Seed'\n",
    "df4.loc[df4['Company'] == 'SMOOR', 'Stage'] = 'Seed'\n",
    "df4.loc[df4['Company'] == 'UrbanKisaan', 'Stage'] = 'Seed'\n",
    "df4.loc[df4['Company'] == 'SpEd@home', 'Stage'] = 'Seed'\n",
    "df4.loc[df4['Company'] == 'Now&Me', 'Stage'] = 'Seed'\n",
    "df4.loc[df4['Company'] == 'Capital Float', 'Stage'] = 'Series A'\n",
    "df4.loc[df4['Company'] == 'PazCare', 'Stage'] = 'Seed'\n",
    "df4.loc[df4['Company'] == 'MicroDegree', 'Stage'] = 'Seed'\n",
    "df4.loc[df4['Company'] == 'Plutomen', 'Stage'] = 'Seed'\n",
    "df4.loc[df4['Company'] == 'Grinntech', 'Stage'] = 'Seed'\n",
    "df4.loc[df4['Company'] == 'Navars', 'Stage'] = 'Seed'\n",
    "df4.loc[df4['Company'] == 'Slice', 'Stage'] = 'Series A'\n",
    "df4.loc[df4['Company'] == 'CredR', 'Stage'] = 'Series A'\n",
    "df4.loc[df4['Company'] == 'Dream Sports', 'Stage'] = 'Series D'\n",
    "df4.loc[df4['Company'] == 'Annapurna Finance', 'Stage'] = 'Series C'\n",
    "df4.loc[df4['Company'] == 'Purplle', 'Stage'] = 'Series D'\n",
    "df4.loc[df4['Company'] == 'Nazara Technologies', 'Stage'] = 'Series D'\n",
    "df4.loc[df4['Company'] == 'Svasti Microfinance', 'Stage'] = 'Series C'\n",
    "df4.loc[df4['Company'] == 'BlackSoil NBFC', 'Stage'] = 'Series C'\n",
    "df4.loc[df4['Company'] == 'Kinara Capital', 'Stage'] = 'Series C'\n",
    "df4.loc[df4['Company'] == 'AMPM', 'Stage'] = 'Seed'\n",
    "df4.loc[df4['Company'] == 'Design Cafe', 'Stage'] = 'Series C'\n",
    "df4.loc[df4['Company'] == 'eShipz', 'Stage'] = 'Seed'\n",
    "df4.loc[df4['Company'] == 'Atomberg Technologies', 'Stage'] = 'Series A'\n",
    "df4.loc[df4['Company'] == 'Peppermint', 'Stage'] = 'Seed'\n",
    "df4.loc[df4['Company'] == 'CredR', 'Stage'] = 'Series A'\n",
    "df4.loc[df4['Company'] == 'Dream Sports', 'Stage'] = 'Series D'\n",
    "df4.loc[df4['Company'] == 'Annapurna Finance', 'Stage'] = 'Series C'\n",
    "df4.loc[df4['Company'] == 'Purplle', 'Stage'] = 'Series D'\n",
    "df4.loc[df4['Company'] == 'Nazara Technologies', 'Stage'] = 'Series D'\n",
    "df4.loc[df4['Company'] == 'Svasti Microfinance', 'Stage'] = 'Series C'\n",
    "df4.loc[df4['Company'] == 'BlackSoil NBFC', 'Stage'] = 'Series C'\n",
    "df4.loc[df4['Company'] == 'Kinara Capital', 'Stage'] = 'Series C'\n",
    "df4.loc[df4['Company'] == 'AMPM', 'Stage'] = 'Seed'\n",
    "df4.loc[df4['Company'] == 'Design Cafe', 'Stage'] = 'Series C'\n",
    "df4.loc[df4['Company'] == 'eShipz', 'Stage'] = 'Seed'\n",
    "df4.loc[df4['Company'] == 'Atomberg Technologies', 'Stage'] = 'Series A'\n",
    "df4.loc[df4['Company'] == 'Peppermint', 'Stage'] = 'Seed'\n",
    "df4.loc[df4['Company'] == 'Spintly', 'Stage'] = 'Seed'\n",
    "df4.loc[df4['Company'] == 'ShopSe', 'Stage'] = 'Seed'\n",
    "df4.loc[df4['Company'] == 'ShareChat', 'Stage'] = 'Series C'\n",
    "df4.loc[df4['Company'] == 'Safexpay', 'Stage'] = 'Seed'\n",
    "df4.loc[df4['Company'] == 'Advantage Club', 'Stage'] = 'Seed'\n",
    "df4.loc[df4['Company'] == 'SuperGaming', 'Stage'] = 'Seed'\n",
    "df4.loc[df4['Company'] == 'SleepyCat', 'Stage'] = 'Seed'\n",
    "df4.loc[df4['Company'] == 'Ultrahuman', 'Stage'] = 'Series A'\n",
    "df4.loc[df4['Company'] == 'Yojak', 'Stage'] = 'Seed'\n",
    "df4.loc[df4['Company'] == 'Navia Life Care', 'Stage'] = 'Seed'\n",
    "df4.loc[df4['Company'] == 'Locale.ai', 'Stage'] = 'Seed'\n",
    "df4.loc[df4['Company'] == 'Whiz League', 'Stage'] = 'Seed'\n",
    "df4.loc[df4['Company'] == 'CHARGE+ZONE', 'Stage'] = 'Series A'\n",
    "df4.loc[df4['Company'] == 'PingoLearn', 'Stage'] = 'Seed'\n",
    "df4.loc[df4['Company'] == 'Practically', 'Stage'] = 'Series A'\n",
    "df4.loc[df4['Company'] == 'Keka HR', 'Stage'] = 'Series A'\n",
    "df4.loc[df4['Company'] == 'Marquee Equity', 'Stage'] = 'Series A'\n",
    "df4.loc[df4['Company'] == 'GoTo', 'Stage'] = 'Seed'\n",
    "df4.loc[df4['Company'] == 'Furlenco', 'Stage'] = 'Series A'\n",
    "df4.loc[df4['Company'] == 'Chalo', 'Stage'] = 'Series A'\n",
    "df4.loc[df4['Company'] == 'Udaan', 'Stage'] = 'Series D'\n",
    "df4.loc[df4['Company'] == 'MyGlamm', 'Stage'] = 'Series D'\n",
    "df4.loc[df4['Company'] == 'Inshorts', 'Stage'] = 'Series C'\n",
    "df4.loc[df4['Company'] == 'Bikry app', 'Stage'] = 'Seed'\n",
    "df4.loc[df4['Company'] == 'The Ayurveda Co', 'Stage'] = 'Series A'\n",
    "df4.loc[df4['Company'] == 'Furlenco', 'Stage'] = 'Series C'\n",
    "df4.loc[df4['Company'] == 'Rockclimber', 'Stage'] = 'Seed'\n",
    "df4.loc[df4['Company'] == 'Power Gummies', 'Stage'] = 'Seed'\n",
    "df4.loc[df4['Company'] == 'Answer Genomics', 'Stage'] = 'Seed'\n",
    "df4.loc[df4['Company'] == 'Lavado', 'Stage'] = 'Seed'\n",
    "df4.loc[df4['Company'] == 'NIRAMAI', 'Stage'] = 'Seed'\n",
    "df4.loc[df4['Company'] == 'Meddo', 'Stage'] = 'Seed'\n",
    "df4.loc[df4['Company'] == 'Five Star Finance', 'Stage'] = 'Series C'\n",
    "df4.loc[df4['Company'] == 'Policybazaar', 'Stage'] = 'Series D'\n",
    "df4.loc[df4['Company'] == 'OYO', 'Stage'] = 'Series F'\n",
    "df4.loc[df4['Company'] == 'Blume Ventures', 'Stage'] = 'Series C'\n",
    "df4.loc[df4['Company'] == 'ImaginXP', 'Stage'] = 'Seed'\n",
    "df4.loc[df4['Company'] == 'Virohan', 'Stage'] = 'Seed'\n",
    "df4.loc[df4['Company'] == 'Apna.co', 'Stage'] = 'Seed'\n",
    "df4.loc[df4['Company'] == 'Get My Parking', 'Stage'] = 'Seed'\n",
    "df4.loc[df4['Company'] == 'FanCode', 'Stage'] = 'Series A'\n",
    "df4.loc[df4['Company'] == 'Enthu.ai', 'Stage'] = 'Pre-Seed'\n",
    "df4.loc[df4['Company'] == 'Zepto', 'Stage'] = 'Series A'\n",
    "df4.loc[df4['Company'] == 'TurboHire', 'Stage'] = 'Seed'\n",
    "df4.loc[df4['Company'] == 'SatSure', 'Stage'] = 'Seed'\n",
    "df4.loc[df4['Company'] == 'Leap India', 'Stage'] = 'Seed'\n",
    "df4.loc[df4['Company'] == 'Better Capital', 'Stage'] = 'Seed'\n",
    "df4.loc[df4['Company'] == 'Rentomojo', 'Stage'] = 'Series A'\n",
    "df4.loc[df4['Company'] == 'Kissan Pro', 'Stage'] = 'Seed'\n",
    "df4.loc[df4['Company'] == 'VLCC Health Care', 'Stage'] = 'Series C'\n",
    "df4.loc[df4['Company'] == 'SUN Mobility', 'Stage'] = 'Series B'\n",
    "df4.loc[df4['Company'] == 'The Indus Valley', 'Stage'] = 'Seed'\n",
    "df4.loc[df4['Company'] == 'BharatPe', 'Stage'] = 'Seed'\n",
    "df4.loc[df4['Company'] == 'BankSathi', 'Stage'] = 'Pre-Seed'\n",
    "df4.loc[df4['Company'] == 'Auntie Fung', 'Stage'] = 'Seed'\n",
    "df4.loc[df4['Company'] == 'Sanctum Wealth', 'Stage'] = 'Series A'\n",
    "df4.loc[df4['Company'] == 'Easiloan', 'Stage'] = 'Seed'\n",
    "df4.loc[df4['Company'] == 'Boutique Spirit Brands', 'Stage'] = 'Series A'\n",
    "df4.loc[df4['Company'] == 'Chingari', 'Stage'] = 'Seed'\n",
    "df4.loc[df4['Company'] == 'Skeps', 'Stage'] = 'Seed'\n",
    "df4.loc[df4['Company'] == 'Kirana247', 'Stage'] = 'Seed'\n",
    "df4.loc[df4['Company'] == 'Imagimake', 'Stage'] = 'Series A'\n",
    "df4.loc[df4['Company'] == 'goEgoNetwork', 'Stage'] = 'Seed'\n",
    "df4.loc[df4['Company'] == 'Snack Amor', 'Stage'] = 'Seed'\n",
    "df4.loc[df4['Company'] == 'Expertrons', 'Stage'] = 'Seed'\n",
    "df4.loc[df4['Company'] == '1K Kirana Bazaar', 'Stage'] = 'Series A'\n",
    "df4.loc[df4['Company'] == 'Zupee', 'Stage'] = 'Series A'\n",
    "df4.loc[df4['Company'] == 'VerSe Innovation', 'Stage'] = 'Series D'\n",
    "df4.loc[df4['Company'] == 'MetroRide', 'Stage'] = 'Seed'\n",
    "df4.loc[df4['Company'] == 'PropReturns', 'Stage'] = 'Seed'\n",
    "df4.loc[df4['Company'] == 'Deciwood', 'Stage'] = 'Seed'\n",
    "df4.loc[df4['Company'] == 'Skippi Ice Pops', 'Stage'] = 'Pre-Seed'\n",
    "df4.loc[df4['Company'] == 'Onelife', 'Stage'] = 'Seed'\n",
    "df4.loc[df4['Company'] == 'TenderCuts', 'Stage'] = 'Series A'\n",
    "df4.loc[df4['Company'] == 'Scentials', 'Stage'] = 'Series A'\n",
    "df4.loc[df4['Company'] == 'Remedico', 'Stage'] = 'Seed'\n",
    "df4.loc[df4['Company'] == 'PrepBytes', 'Stage'] = 'Seed'\n",
    "df4.loc[df4['Company'] == 'RevFin', 'Stage'] = 'Seed'\n",
    "df4.loc[df4['Company'] == 'Paperfly', 'Stage'] = 'Seed'\n",
    "df4.loc[df4['Company'] == 'Bolkar', 'Stage'] = 'Seed'\n",
    "df4.loc[df4['Company'] == 'Oneiric Gaming', 'Stage'] = 'Seed'\n",
    "df4.loc[df4['Company'] == 'iMumz', 'Stage'] = 'Pre-Seed'\n",
    "df4.loc[df4['Company'] == 'BlackSoil', 'Stage'] = 'Seed'\n",
    "df4.loc[df4['Company'] == 'Chai Waale', 'Stage'] = 'Seed'\n",
    "df4.loc[df4['Company'] == 'JetSynthesys', 'Stage'] = 'Seed'\n",
    "df4.loc[df4['Company'] == 'Skymet', 'Stage'] = 'Seed'\n",
    "df4.loc[df4['Company'] == 'GalaxyCard', 'Stage'] = 'Seed'\n",
    "df4.loc[df4['Company'] == 'Pankhuri', 'Stage'] = 'Seed'\n",
    "df4.loc[df4['Company'] == 'Vah Vah!', 'Stage'] = 'Seed'\n",
    "df4.loc[df4['Company'] == 'Pratilipi', 'Stage'] = 'Series B'\n",
    "df4.loc[df4['Company'] == 'Arcatron Mobility', 'Stage'] = 'Seed'\n",
    "df4.loc[df4['Company'] == 'KreditBee', 'Stage'] = 'Series A'\n",
    "df4.loc[df4['Company'] == 'Holisol', 'Stage'] = 'Seed'\n",
    "df4.loc[df4['Company'] == 'India Quotient', 'Stage'] = 'Series C'\n",
    "df4.loc[df4['Company'] == 'Nobel Hygiene', 'Stage'] = 'Series C'\n",
    "df4.loc[df4['Company'] == 'Instoried', 'Stage'] = 'Seed'\n",
    "df4.loc[df4['Company'] == 'Homingos', 'Stage'] = 'Seed'\n",
    "df4.loc[df4['Company'] == 'NODWIN', 'Stage'] = 'Series D'\n",
    "df4.loc[df4['Company'] == 'Bijnis', 'Stage'] = 'Seed'\n",
    "df4.loc[df4['Company'] == 'Clairco', 'Stage'] = 'Seed'\n",
    "df4.loc[df4['Company'] == 'BYJU\\'S', 'Stage'] = 'Series D'\n",
    "df4.loc[df4['Company'] == 'Petpooja', 'Stage'] = 'Series B'\n",
    "df4.loc[df4['Company'] == 'Arbo Works', 'Stage'] = 'Seed'\n",
    "df4.loc[df4['Company'] == 'Recordent', 'Stage'] = 'Seed'\n",
    "df4.loc[df4['Company'] == 'Kaar Technologies', 'Stage'] = 'Series A'\n",
    "df4.loc[df4['Company'] == 'Phool.co', 'Stage'] = 'Series A'\n",
    "df4.loc[df4['Company'] == 'Log 9 Materials', 'Stage'] = 'Seed'\n",
    "df4.loc[df4['Company'] == 'EV Plugs', 'Stage'] = 'Seed'\n",
    "df4.loc[df4['Company'] == 'CredRight', 'Stage'] = 'Seed'\n",
    "df4.loc[df4['Company'] == 'Leverage Edu', 'Stage'] = 'Series A'\n",
    "df4.loc[df4['Company'] == 'Enercomp', 'Stage'] = 'Seed'\n",
    "df4.loc[df4['Company'] == 'LivQuik Technology', 'Stage'] = 'Series A'\n",
    "df4.loc[df4['Company'] == 'Tinkerly', 'Stage'] = 'Seed'\n",
    "df4.loc[df4['Company'] == 'Pine Labs', 'Stage'] = 'Series C'\n",
    "df4.loc[df4['Company'] == 'Lido Learning', 'Stage'] = 'Series D'\n",
    "df4.loc[df4['Company'] == 'Taikee', 'Stage'] = 'Seed'\n",
    "df4.loc[df4['Company'] == 'boAt', 'Stage'] = 'Series A'\n",
    "df4.loc[df4['Company'] == 'Onsurity', 'Stage'] = 'Series A'\n",
    "df4.loc[df4['Company'] == 'Unacademy', 'Stage'] = 'Series C'\n",
    "df4.loc[df4['Company'] == 'Flo Mobility', 'Stage'] = 'Seed'\n",
    "df4.loc[df4['Company'] == 'TheHouseMonk', 'Stage'] = 'Series A'\n",
    "df4.loc[df4['Company'] == 'Sirona Hygiene', 'Stage'] = 'Series B'\n",
    "df4.loc[df4['Company'] == 'Vista Rooms', 'Stage'] = 'Seed'\n",
    "df4.loc[df4['Company'] == 'Digit Insurance', 'Stage'] = 'Series C'\n",
    "df4.loc[df4['Company'] == 'Lohum', 'Stage'] = 'Series A'\n",
    "df4.loc[df4['Company'] == 'Unacademy', 'Stage'] = 'Series D'\n",
    "df4.loc[df4['Company'] == 'Knocksense', 'Stage'] = 'Seed'\n",
    "df4.loc[df4['Company'] == 'DcodeAI', 'Stage'] = 'Seed'\n",
    "df4.loc[df4['Company'] == 'ixigo', 'Stage'] = 'Series D'\n",
    "df4.loc[df4['Company'] == 'Droom', 'Stage'] = 'Series D'\n",
    "df4.loc[df4['Company'] == 'Oliveboard', 'Stage'] = 'Series A'\n",
    "df4.loc[df4['Company'] == 'Digit Insurance', 'Stage'] = 'Series D'\n",
    "df4.loc[df4['Company'] == 'CoRover', 'Stage'] = 'Seed'\n",
    "df4.loc[df4['Company'] == 'Powerplay', 'Stage'] = 'Seed'\n",
    "df4.loc[df4['Company'] == 'CustomerGlu', 'Stage'] = 'Seed'\n",
    "df4.loc[df4['Company'] == 'Cell Propulsion', 'Stage'] = 'Seed'\n",
    "df4.loc[df4['Company'] == 'Chqbook', 'Stage'] = 'Seed'\n",
    "df4.loc[df4['Company'] == 'WaterScience', 'Stage'] = 'Seed'\n",
    "df4.loc[df4['Company'] == 'BigLeap', 'Stage'] = 'Seed'\n",
    "df4.loc[df4['Company'] == 'Fourth Partner Energy', 'Stage'] = 'Series B'\n",
    "df4.loc[df4['Company'] == 'Safex Chemicals', 'Stage'] = 'Series A'\n",
    "df4.loc[df4['Company'] == 'IndiaLends', 'Stage'] = 'Series A'\n",
    "df4.loc[df4['Company'] == 'NewLink Group', 'Stage'] = 'Series C'\n",
    "df4.loc[df4['Company'] == 'Nexpert', 'Stage'] = 'Seed'\n",
    "df4.loc[df4['Company'] == 'Max Healthcare', 'Stage'] = 'Series D'\n",
    "df4.loc[df4['Company'] == 'Ecom Express', 'Stage'] = 'Series C'\n",
    "df4.loc[df4['Company'] == 'IGL', 'Stage'] = 'Seed'\n",
    "df4.loc[df4['Company'] == 'Pickright Technologies', 'Stage'] = 'Seed'\n",
    "df4.loc[df4['Company'] == 'Toplyne', 'Stage'] = 'Seed'\n",
    "df4.loc[df4['Company'] == 'Wonderchef', 'Stage'] = 'Series B'\n",
    "df4.loc[df4['Company'] == 'Totality', 'Stage'] = 'Seed'\n",
    "df4.loc[df4['Company'] == 'Vitra.ai', 'Stage'] = 'Series A'\n",
    "df4.loc[df4['Company'] == 'Swiggy', 'Stage'] = 'Series E'\n",
    "df4.loc[df4['Company'] == 'OTO Capital', 'Stage'] = 'Series A'\n",
    "df4.loc[df4['Company'] == 'UpScalio', 'Stage'] = 'Series A'"
   ]
  },
  {
   "cell_type": "code",
   "execution_count": 191,
   "metadata": {},
   "outputs": [],
   "source": [
    "most_frequent_stage = df4['Stage'].mode()[0]\n",
    "df4['Stage'].fillna(most_frequent_stage, inplace=True)"
   ]
  },
  {
   "cell_type": "code",
   "execution_count": 192,
   "metadata": {},
   "outputs": [],
   "source": [
    "# Dropping the columns that are not important to our analysis\n",
    "df4.drop(columns=['Founders','Investor','Founded'], inplace=True)"
   ]
  },
  {
   "cell_type": "code",
   "execution_count": 193,
   "metadata": {},
   "outputs": [],
   "source": [
    "df4.insert(6,\"Funding Year\", 2021) # inserting a new column 'funding Year 2021' to keep track of the data sets when combining"
   ]
  },
  {
   "cell_type": "code",
   "execution_count": 194,
   "metadata": {},
   "outputs": [
    {
     "data": {
      "text/plain": [
       "Company         0\n",
       "Location        0\n",
       "Sector          0\n",
       "About           0\n",
       "Amount          0\n",
       "Stage           0\n",
       "Funding Year    0\n",
       "dtype: int64"
      ]
     },
     "execution_count": 194,
     "metadata": {},
     "output_type": "execute_result"
    }
   ],
   "source": [
    "# confirming the null values in the amount column again \n",
    "df4.isnull().sum()"
   ]
  },
  {
   "cell_type": "code",
   "execution_count": 195,
   "metadata": {},
   "outputs": [
    {
     "data": {
      "text/html": [
       "<div>\n",
       "<style scoped>\n",
       "    .dataframe tbody tr th:only-of-type {\n",
       "        vertical-align: middle;\n",
       "    }\n",
       "\n",
       "    .dataframe tbody tr th {\n",
       "        vertical-align: top;\n",
       "    }\n",
       "\n",
       "    .dataframe thead th {\n",
       "        text-align: right;\n",
       "    }\n",
       "</style>\n",
       "<table border=\"1\" class=\"dataframe\">\n",
       "  <thead>\n",
       "    <tr style=\"text-align: right;\">\n",
       "      <th></th>\n",
       "      <th>Company</th>\n",
       "      <th>Location</th>\n",
       "      <th>Sector</th>\n",
       "      <th>About</th>\n",
       "      <th>Amount</th>\n",
       "      <th>Stage</th>\n",
       "      <th>Funding Year</th>\n",
       "    </tr>\n",
       "  </thead>\n",
       "  <tbody>\n",
       "    <tr>\n",
       "      <th>0</th>\n",
       "      <td>Unbox Robotics</td>\n",
       "      <td>Bengaluru</td>\n",
       "      <td>AI startup</td>\n",
       "      <td>Unbox Robotics builds on-demand AI-driven ware...</td>\n",
       "      <td>1,200,000.00</td>\n",
       "      <td>Pre-series A</td>\n",
       "      <td>2021</td>\n",
       "    </tr>\n",
       "    <tr>\n",
       "      <th>1</th>\n",
       "      <td>upGrad</td>\n",
       "      <td>Mumbai</td>\n",
       "      <td>EdTech</td>\n",
       "      <td>UpGrad is an online higher education platform.</td>\n",
       "      <td>120,000,000.00</td>\n",
       "      <td>Series D</td>\n",
       "      <td>2021</td>\n",
       "    </tr>\n",
       "    <tr>\n",
       "      <th>2</th>\n",
       "      <td>Lead School</td>\n",
       "      <td>Mumbai</td>\n",
       "      <td>EdTech</td>\n",
       "      <td>LEAD School offers technology based school tra...</td>\n",
       "      <td>30,000,000.00</td>\n",
       "      <td>Series D</td>\n",
       "      <td>2021</td>\n",
       "    </tr>\n",
       "    <tr>\n",
       "      <th>3</th>\n",
       "      <td>Bizongo</td>\n",
       "      <td>Mumbai</td>\n",
       "      <td>B2B E-commerce</td>\n",
       "      <td>Bizongo is a business-to-business online marke...</td>\n",
       "      <td>51,000,000.00</td>\n",
       "      <td>Series C</td>\n",
       "      <td>2021</td>\n",
       "    </tr>\n",
       "    <tr>\n",
       "      <th>4</th>\n",
       "      <td>FypMoney</td>\n",
       "      <td>Gurugram</td>\n",
       "      <td>FinTech</td>\n",
       "      <td>FypMoney is Digital NEO Bank for Teenagers, em...</td>\n",
       "      <td>2,000,000.00</td>\n",
       "      <td>Seed</td>\n",
       "      <td>2021</td>\n",
       "    </tr>\n",
       "  </tbody>\n",
       "</table>\n",
       "</div>"
      ],
      "text/plain": [
       "          Company   Location          Sector   \n",
       "0  Unbox Robotics  Bengaluru      AI startup  \\\n",
       "1          upGrad     Mumbai          EdTech   \n",
       "2     Lead School     Mumbai          EdTech   \n",
       "3         Bizongo     Mumbai  B2B E-commerce   \n",
       "4        FypMoney   Gurugram         FinTech   \n",
       "\n",
       "                                               About         Amount   \n",
       "0  Unbox Robotics builds on-demand AI-driven ware...   1,200,000.00  \\\n",
       "1     UpGrad is an online higher education platform. 120,000,000.00   \n",
       "2  LEAD School offers technology based school tra...  30,000,000.00   \n",
       "3  Bizongo is a business-to-business online marke...  51,000,000.00   \n",
       "4  FypMoney is Digital NEO Bank for Teenagers, em...   2,000,000.00   \n",
       "\n",
       "          Stage  Funding Year  \n",
       "0  Pre-series A          2021  \n",
       "1      Series D          2021  \n",
       "2      Series D          2021  \n",
       "3      Series C          2021  \n",
       "4          Seed          2021  "
      ]
     },
     "execution_count": 195,
     "metadata": {},
     "output_type": "execute_result"
    }
   ],
   "source": [
    "df4.head() # looking at head to comfirm before saving the data "
   ]
  },
  {
   "cell_type": "code",
   "execution_count": 196,
   "metadata": {},
   "outputs": [],
   "source": [
    "df4.to_csv('df_2021.csv', index=False)"
   ]
  },
  {
   "attachments": {},
   "cell_type": "markdown",
   "metadata": {},
   "source": [
    "## Concatenate the Cleaned Datasets"
   ]
  },
  {
   "cell_type": "code",
   "execution_count": 197,
   "metadata": {},
   "outputs": [],
   "source": [
    "#Load the cleaned Datasets\n",
    "df_18 = pd.read_csv(\"df_2018.csv\")\n",
    "df_19 = pd.read_csv(\"df_2019.csv\")\n",
    "df_20 = pd.read_csv(\"df_2020.csv\")\n",
    "df_21 = pd.read_csv(\"df_2021.csv\")"
   ]
  },
  {
   "cell_type": "code",
   "execution_count": 198,
   "metadata": {},
   "outputs": [],
   "source": [
    "# Concatenate the data frames\n",
    "data = pd.concat([df_18, df_19, df_20, df_21])"
   ]
  },
  {
   "cell_type": "code",
   "execution_count": 199,
   "metadata": {},
   "outputs": [],
   "source": [
    "# Reseting the index of the concatenated data frame\n",
    "data.to_csv('data.csv', index=False)"
   ]
  },
  {
   "attachments": {},
   "cell_type": "markdown",
   "metadata": {},
   "source": [
    "# Concatenated Dataset"
   ]
  },
  {
   "cell_type": "code",
   "execution_count": 200,
   "metadata": {},
   "outputs": [],
   "source": [
    "data = pd.read_csv('data.csv')"
   ]
  },
  {
   "cell_type": "code",
   "execution_count": 201,
   "metadata": {},
   "outputs": [
    {
     "data": {
      "text/html": [
       "<div>\n",
       "<style scoped>\n",
       "    .dataframe tbody tr th:only-of-type {\n",
       "        vertical-align: middle;\n",
       "    }\n",
       "\n",
       "    .dataframe tbody tr th {\n",
       "        vertical-align: top;\n",
       "    }\n",
       "\n",
       "    .dataframe thead th {\n",
       "        text-align: right;\n",
       "    }\n",
       "</style>\n",
       "<table border=\"1\" class=\"dataframe\">\n",
       "  <thead>\n",
       "    <tr style=\"text-align: right;\">\n",
       "      <th></th>\n",
       "      <th>Company</th>\n",
       "      <th>Sector</th>\n",
       "      <th>Stage</th>\n",
       "      <th>Amount</th>\n",
       "      <th>Location</th>\n",
       "      <th>About</th>\n",
       "      <th>Funding Year</th>\n",
       "    </tr>\n",
       "  </thead>\n",
       "  <tbody>\n",
       "    <tr>\n",
       "      <th>0</th>\n",
       "      <td>Thecollegefever</td>\n",
       "      <td>Brand Marketing</td>\n",
       "      <td>Seed</td>\n",
       "      <td>250,000.00</td>\n",
       "      <td>Bengaluru</td>\n",
       "      <td>TheCollegeFever is a hub for fun fiesta and fr...</td>\n",
       "      <td>2018</td>\n",
       "    </tr>\n",
       "    <tr>\n",
       "      <th>1</th>\n",
       "      <td>Happy Cow Dairy</td>\n",
       "      <td>Agriculture</td>\n",
       "      <td>Seed</td>\n",
       "      <td>584,000.00</td>\n",
       "      <td>Mumbai</td>\n",
       "      <td>A startup which aggregates milk from dairy far...</td>\n",
       "      <td>2018</td>\n",
       "    </tr>\n",
       "    <tr>\n",
       "      <th>2</th>\n",
       "      <td>Myloancare</td>\n",
       "      <td>Credit</td>\n",
       "      <td>Series A</td>\n",
       "      <td>949,000.00</td>\n",
       "      <td>Gurugram</td>\n",
       "      <td>Leading Online Loans Marketplace in India</td>\n",
       "      <td>2018</td>\n",
       "    </tr>\n",
       "    <tr>\n",
       "      <th>3</th>\n",
       "      <td>Payme India</td>\n",
       "      <td>Financial Services</td>\n",
       "      <td>Angel</td>\n",
       "      <td>2,000,000.00</td>\n",
       "      <td>Noida</td>\n",
       "      <td>PayMe India is an innovative FinTech organizat...</td>\n",
       "      <td>2018</td>\n",
       "    </tr>\n",
       "    <tr>\n",
       "      <th>4</th>\n",
       "      <td>Eunimart</td>\n",
       "      <td>E-Commerce Platforms</td>\n",
       "      <td>Seed</td>\n",
       "      <td>1,300,000.00</td>\n",
       "      <td>Hyderabad</td>\n",
       "      <td>Eunimart is a one stop solution for merchants ...</td>\n",
       "      <td>2018</td>\n",
       "    </tr>\n",
       "  </tbody>\n",
       "</table>\n",
       "</div>"
      ],
      "text/plain": [
       "           Company                Sector     Stage       Amount   Location   \n",
       "0  Thecollegefever       Brand Marketing      Seed   250,000.00  Bengaluru  \\\n",
       "1  Happy Cow Dairy           Agriculture      Seed   584,000.00     Mumbai   \n",
       "2       Myloancare                Credit  Series A   949,000.00   Gurugram   \n",
       "3      Payme India    Financial Services     Angel 2,000,000.00      Noida   \n",
       "4         Eunimart  E-Commerce Platforms      Seed 1,300,000.00  Hyderabad   \n",
       "\n",
       "                                               About  Funding Year  \n",
       "0  TheCollegeFever is a hub for fun fiesta and fr...          2018  \n",
       "1  A startup which aggregates milk from dairy far...          2018  \n",
       "2          Leading Online Loans Marketplace in India          2018  \n",
       "3  PayMe India is an innovative FinTech organizat...          2018  \n",
       "4  Eunimart is a one stop solution for merchants ...          2018  "
      ]
     },
     "execution_count": 201,
     "metadata": {},
     "output_type": "execute_result"
    }
   ],
   "source": [
    "data.head()"
   ]
  },
  {
   "cell_type": "code",
   "execution_count": 202,
   "metadata": {},
   "outputs": [
    {
     "data": {
      "text/plain": [
       "(2856, 7)"
      ]
     },
     "execution_count": 202,
     "metadata": {},
     "output_type": "execute_result"
    }
   ],
   "source": [
    "data.shape"
   ]
  },
  {
   "cell_type": "code",
   "execution_count": 203,
   "metadata": {},
   "outputs": [
    {
     "data": {
      "text/plain": [
       "Index(['Company', 'Sector', 'Stage', 'Amount', 'Location', 'About',\n",
       "       'Funding Year'],\n",
       "      dtype='object')"
      ]
     },
     "execution_count": 203,
     "metadata": {},
     "output_type": "execute_result"
    }
   ],
   "source": [
    "data.columns"
   ]
  },
  {
   "cell_type": "code",
   "execution_count": 204,
   "metadata": {},
   "outputs": [
    {
     "name": "stdout",
     "output_type": "stream",
     "text": [
      "<class 'pandas.core.frame.DataFrame'>\n",
      "RangeIndex: 2856 entries, 0 to 2855\n",
      "Data columns (total 7 columns):\n",
      " #   Column        Non-Null Count  Dtype  \n",
      "---  ------        --------------  -----  \n",
      " 0   Company       2856 non-null   object \n",
      " 1   Sector        2856 non-null   object \n",
      " 2   Stage         2856 non-null   object \n",
      " 3   Amount        2856 non-null   float64\n",
      " 4   Location      2856 non-null   object \n",
      " 5   About         2856 non-null   object \n",
      " 6   Funding Year  2856 non-null   int64  \n",
      "dtypes: float64(1), int64(1), object(5)\n",
      "memory usage: 156.3+ KB\n"
     ]
    }
   ],
   "source": [
    "data.info()"
   ]
  },
  {
   "cell_type": "code",
   "execution_count": 205,
   "metadata": {},
   "outputs": [
    {
     "data": {
      "text/plain": [
       "Company         0\n",
       "Sector          0\n",
       "Stage           0\n",
       "Amount          0\n",
       "Location        0\n",
       "About           0\n",
       "Funding Year    0\n",
       "dtype: int64"
      ]
     },
     "execution_count": 205,
     "metadata": {},
     "output_type": "execute_result"
    }
   ],
   "source": [
    "data.isnull().sum()"
   ]
  },
  {
   "cell_type": "code",
   "execution_count": 206,
   "metadata": {},
   "outputs": [
    {
     "data": {
      "text/html": [
       "<div>\n",
       "<style scoped>\n",
       "    .dataframe tbody tr th:only-of-type {\n",
       "        vertical-align: middle;\n",
       "    }\n",
       "\n",
       "    .dataframe tbody tr th {\n",
       "        vertical-align: top;\n",
       "    }\n",
       "\n",
       "    .dataframe thead th {\n",
       "        text-align: right;\n",
       "    }\n",
       "</style>\n",
       "<table border=\"1\" class=\"dataframe\">\n",
       "  <thead>\n",
       "    <tr style=\"text-align: right;\">\n",
       "      <th></th>\n",
       "      <th>count</th>\n",
       "      <th>unique</th>\n",
       "      <th>top</th>\n",
       "      <th>freq</th>\n",
       "    </tr>\n",
       "  </thead>\n",
       "  <tbody>\n",
       "    <tr>\n",
       "      <th>Company</th>\n",
       "      <td>2856</td>\n",
       "      <td>2240</td>\n",
       "      <td>BharatPe</td>\n",
       "      <td>10</td>\n",
       "    </tr>\n",
       "    <tr>\n",
       "      <th>Sector</th>\n",
       "      <td>2856</td>\n",
       "      <td>611</td>\n",
       "      <td>FinTech</td>\n",
       "      <td>172</td>\n",
       "    </tr>\n",
       "    <tr>\n",
       "      <th>Stage</th>\n",
       "      <td>2856</td>\n",
       "      <td>66</td>\n",
       "      <td>Seed</td>\n",
       "      <td>931</td>\n",
       "    </tr>\n",
       "    <tr>\n",
       "      <th>Location</th>\n",
       "      <td>2856</td>\n",
       "      <td>135</td>\n",
       "      <td>Bengaluru</td>\n",
       "      <td>963</td>\n",
       "    </tr>\n",
       "    <tr>\n",
       "      <th>About</th>\n",
       "      <td>2856</td>\n",
       "      <td>2711</td>\n",
       "      <td>Provides online learning classes</td>\n",
       "      <td>5</td>\n",
       "    </tr>\n",
       "  </tbody>\n",
       "</table>\n",
       "</div>"
      ],
      "text/plain": [
       "         count unique                               top freq\n",
       "Company   2856   2240                          BharatPe   10\n",
       "Sector    2856    611                           FinTech  172\n",
       "Stage     2856     66                              Seed  931\n",
       "Location  2856    135                         Bengaluru  963\n",
       "About     2856   2711  Provides online learning classes    5"
      ]
     },
     "execution_count": 206,
     "metadata": {},
     "output_type": "execute_result"
    }
   ],
   "source": [
    "data.describe(include='object').T"
   ]
  },
  {
   "cell_type": "code",
   "execution_count": 207,
   "metadata": {},
   "outputs": [
    {
     "data": {
      "text/plain": [
       "array(['Bengaluru', 'Mumbai', 'Gurugram', 'Noida', 'Hyderabad', 'Kalkaji',\n",
       "       'New Delhi', 'India', 'Hubli', 'Chennai', 'Mohali', 'Kolkata',\n",
       "       'Pune', 'Jodhpur', 'Kanpur', 'Ahmedabad', 'Azadpur', 'Haryana',\n",
       "       'Cochin', 'Faridabad', 'Jaipur', 'Kota', 'Anand', 'Belgaum',\n",
       "       'Thane', 'Margão', 'Indore', 'Alwar', 'Kannur', 'Trivandrum',\n",
       "       'Ernakulam', 'Kormangala', 'Uttar Pradesh', 'Andheri', 'Mylapore',\n",
       "       'Ghaziabad', 'Kochi', 'Powai', 'Guntur', 'Kalpakkam', 'Bhopal',\n",
       "       'Coimbatore', 'Worli', 'Alleppey', 'Chandigarh', 'Guindy',\n",
       "       'Lucknow', 'Telangana', 'Marlborough', 'London', 'San Francisco',\n",
       "       'California', 'Surat', 'Uttar pradesh', 'Rajasthan',\n",
       "       'Tirunelveli, Tamilnadu', 'Singapore', 'Gujarat', 'Kerala',\n",
       "       'Jaipur, Rajastan', 'Frisco, Texas, United States',\n",
       "       'Dhingsara, Haryana', 'New York, United States', 'Patna',\n",
       "       'San Francisco, California, United States',\n",
       "       'San Francisco, United States', 'San Ramon, California',\n",
       "       'Paris, Ile-de-France, France', 'Plano, Texas, United States',\n",
       "       'Sydney', 'San Francisco Bay Area, Silicon Valley, West Coast',\n",
       "       'Bangaldesh', 'London, England, United Kingdom',\n",
       "       'Sydney, New South Wales, Australia', 'Milano, Lombardia, Italy',\n",
       "       'Palmwoods, Queensland, Australia', 'France',\n",
       "       'San Francisco Bay Area, West Coast, Western US',\n",
       "       'Trivandrum, Kerala, India', 'Samastipur, Bihar',\n",
       "       'Irvine, California, United States', 'Tumkur, Karnataka',\n",
       "       'Newcastle Upon Tyne, Newcastle upon Tyne, United Kingdom',\n",
       "       'Shanghai, China', 'Jiaxing, Zhejiang, China', 'Rajastan',\n",
       "       'Ludhiana', 'Dehradun', 'San Franciscao',\n",
       "       'Tangerang, Jawa Barat, Indonesia', 'Berlin', 'Seattle', 'Riyadh',\n",
       "       'Seoul', 'New York', 'Bangkok', 'Madhapur', 'Warangal',\n",
       "       'Hyderebad', 'Odisha', 'Bihar', 'Goa', 'Tamil Nadu', 'Jakarta',\n",
       "       'Delhi', 'Ahmadabad', 'Small Towns, Andhra Pradesh', 'Rajsamand',\n",
       "       'Ranchi', 'Faridabad, Haryana', 'Gurgaon', 'Vadodara', 'Nagpur',\n",
       "       'West Bengal', 'Samsitpur', 'Silvassa', 'Thiruvananthapuram',\n",
       "       'Roorkee', 'Ambernath', 'Panchkula', 'Mangalore', 'Telugana',\n",
       "       'Bhubaneswar', 'Kottayam', 'Beijing', 'Panaji', 'Satara',\n",
       "       'Orissia', 'Santra', 'Mountain View, CA', 'Jharkhand', 'Bhilwara',\n",
       "       'Guwahati', 'The Nilgiris', 'Gandhinagar'], dtype=object)"
      ]
     },
     "execution_count": 207,
     "metadata": {},
     "output_type": "execute_result"
    }
   ],
   "source": [
    "data.Location.unique()"
   ]
  },
  {
   "cell_type": "code",
   "execution_count": 208,
   "metadata": {},
   "outputs": [
    {
     "data": {
      "text/plain": [
       "array(['Seed', 'Series A', 'Angel', 'Series B', 'Pre-Seed',\n",
       "       'Private Equity', 'Grant', 'Debt Financing', 'Post-IPO Debt',\n",
       "       'Series H', 'Series C', 'Series E', 'Corporate Round', 'Series D',\n",
       "       'Secondary Market', 'Post-IPO Equity', 'Non-equity Assistance',\n",
       "       'Funding Round', 'Fresh funding', 'Pre series A', 'Series G',\n",
       "       'Post series A', 'Seed funding', 'Seed fund', 'Series F',\n",
       "       'Series B+', 'Seed round', 'Pre-series A', 'Pre-seed',\n",
       "       'Pre-series', 'Debt', 'Pre-series C', 'Pre-series B', 'Bridge',\n",
       "       'Series B2', 'Pre- series A', 'Edge', 'Pre-Series B', 'Seed A',\n",
       "       'Series A-1', 'Seed Funding', 'Pre-seed Round',\n",
       "       'Seed Round & Series A', 'Pre Series A', 'Pre seed Round',\n",
       "       'Angel Round', 'Pre series A1', 'Series E2', 'Seed Round',\n",
       "       'Bridge Round', 'Pre seed round', 'Pre series B', 'Pre series C',\n",
       "       'Seed Investment', 'Series D1', 'Mid series', 'Series C, D',\n",
       "       'Pre-Series A', 'Seed+', 'Series B3', 'Series F1', 'Pre-series A1',\n",
       "       'Early seed', 'Seies A', 'Series A2', 'Angel funding'],\n",
       "      dtype=object)"
      ]
     },
     "execution_count": 208,
     "metadata": {},
     "output_type": "execute_result"
    }
   ],
   "source": [
    "data['Stage'].unique()"
   ]
  },
  {
   "cell_type": "code",
   "execution_count": 209,
   "metadata": {},
   "outputs": [],
   "source": [
    "funding_series_grouping = {\n",
    "    \"Seed and Pre-Seed Funding\": [\n",
    "        \"Seed\", \"Pre-Seed\", \"Pre-seed\", \"Seed+\", \"Seed A\", \"Seed fund\",\n",
    "        \"Seed Round\", \"Seed Investment\", \"Seed Round & Series A\",\n",
    "        \"Seed Round, Series A\", \"Seed funding\", \"Seed fund\", \"Seed round\", \"Seed A\",\n",
    "        \"Pre-seed Round\", \"Pre seed Round\", \"Fresh funding\", \"Seed+\",\n",
    "        \"Pre seed round\", \"Early seed\", 'Seed Funding','Pre-series'\n",
    "    ],\n",
    "    \"Series A Funding\": [\n",
    "        \"Series A\", \"Series A-1\", \"Series A2\", \"Series A1\", \"Pre-series A\",\n",
    "        \"Pre-Series A\", \"Pre series A\", \"Pre-Series A1\", \"Pre series A1\",\n",
    "        \"Pre-series A, Series A\", \"Pre Series A\", \"Pre-series A1\", \"Pre-series A1\",\n",
    "        \"Series A2\", \"Seies A\", \"Pre-Series A\", \"Pre-series A1\", 'Pre- series A','Series A Funding','Post series A'\n",
    "    ],\n",
    "    \"Angel Funding\": [\n",
    "        \"Angel\", \"Angel Round\", \"Angel funding\", \"Angel Round\"\n",
    "    ],\n",
    "    \"Series B Funding\": [\n",
    "        \"Series B\", \"Series B+\", \"Series B2\", \"Series B3\", \"Series B+\",\n",
    "        \"Series B2\", \"Series B3\", \"Series B3\", \"Pre-Series B\", \"Pre-series B\",'Pre series B'\n",
    "    ],\n",
    "    \"Later-Stage Funding\": [\n",
    "        \"Series C\", \"Series C, D\", \"Series E\", \"Series E2\",\n",
    "        \"Series F\", \"Series F1\", \"Series G\", \"Series H\",\n",
    "        \"Series F1\", \"Series D\", \"Pre-series C\",'Pre series C','Series D1'\n",
    "    ],\n",
    "    \"Debt Financing\": [\n",
    "        \"Debt Financing\", \"Debt\"\n",
    "    ],\n",
    "    \"Post-IPO Debt\": [\n",
    "        \"Post-IPO Debt\"\n",
    "    ],\n",
    "    \"Corporate Funding\": [\n",
    "        \"Corporate Round\"\n",
    "    ],\n",
    "    \"Secondary Market\": [\n",
    "        \"Secondary Market\"\n",
    "    ],\n",
    "    \"Post-IPO Equity\": [\n",
    "        \"Post-IPO Equity\"\n",
    "    ],\n",
    "    \"Non-equity Assistance\": [\n",
    "        \"Non-equity Assistance\"\n",
    "    ],\n",
    "    \"Bridge Funding\": [\n",
    "        \"Bridge\", \"Bridge Round\"\n",
    "    ],\n",
    "    \"Miscellaneous\": [\n",
    "        \"Funding Round\", \"Mid series\", \"Edge\"\n",
    "    ]\n",
    "}\n",
    "\n",
    "# Create a new dictionary to map each individual funding series to its category\n",
    "series_mapping = {}\n",
    "for category, series_list in funding_series_grouping.items():\n",
    "    for series in series_list:\n",
    "        series_mapping[series] = category\n",
    "\n",
    "# Replace the 'Stage' values using the new series_mapping dictionary\n",
    "data['Stage'] = data['Stage'].replace(series_mapping)"
   ]
  },
  {
   "cell_type": "code",
   "execution_count": 210,
   "metadata": {},
   "outputs": [
    {
     "data": {
      "text/plain": [
       "array(['Seed and Pre-Seed Funding', 'Series A Funding', 'Angel Funding',\n",
       "       'Series B Funding', 'Private Equity', 'Grant', 'Debt Financing',\n",
       "       'Post-IPO Debt', 'Later-Stage Funding', 'Corporate Funding',\n",
       "       'Secondary Market', 'Post-IPO Equity', 'Non-equity Assistance',\n",
       "       'Miscellaneous', 'Bridge Funding'], dtype=object)"
      ]
     },
     "execution_count": 210,
     "metadata": {},
     "output_type": "execute_result"
    }
   ],
   "source": [
    "data['Stage'].unique()"
   ]
  },
  {
   "cell_type": "code",
   "execution_count": null,
   "metadata": {},
   "outputs": [],
   "source": []
  }
 ],
 "metadata": {
  "kernelspec": {
   "display_name": "Python 3",
   "language": "python",
   "name": "python3"
  },
  "language_info": {
   "codemirror_mode": {
    "name": "ipython",
    "version": 3
   },
   "file_extension": ".py",
   "mimetype": "text/x-python",
   "name": "python",
   "nbconvert_exporter": "python",
   "pygments_lexer": "ipython3",
   "version": "3.11.3"
  },
  "orig_nbformat": 4
 },
 "nbformat": 4,
 "nbformat_minor": 2
}
